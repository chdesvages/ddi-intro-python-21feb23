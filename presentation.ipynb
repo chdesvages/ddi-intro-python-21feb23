{
 "cells": [
  {
   "cell_type": "markdown",
   "metadata": {
    "hide_input": true,
    "slideshow": {
     "slide_type": "slide"
    }
   },
   "source": [
    "# Introduction to Python - DDI session - 21 February 2023\n",
    "\n",
    "Charlotte Desvages"
   ]
  },
  {
   "cell_type": "markdown",
   "metadata": {
    "slideshow": {
     "slide_type": "slide"
    }
   },
   "source": [
    "## Welcome!\n",
    "\n",
    "Today I'll give you an overview of what Python looks like, some examples of what it can do, and point you towards great resources to continue learning."
   ]
  },
  {
   "cell_type": "markdown",
   "metadata": {
    "slideshow": {
     "slide_type": "fragment"
    }
   },
   "source": [
    "We will have **interactive code examples** throughout the session, which you'll be able to run yourselves.\n",
    "\n",
    "We'll use a cloud service called Binder -- no need to install anything!"
   ]
  },
  {
   "cell_type": "markdown",
   "metadata": {
    "slideshow": {
     "slide_type": "subslide"
    }
   },
   "source": [
    "## Teams communication\n",
    "\n",
    "At the top of Teams, use the [**Reactions** menu](https://support.microsoft.com/en-us/office/express-yourself-in-teams-meetings-with-live-reactions-a8323a40-3d07-4129-934b-305370a36e21#ID0EFD=Desktop).\n",
    "\n",
    "You can also use the **chat** to ask questions."
   ]
  },
  {
   "cell_type": "markdown",
   "metadata": {
    "slideshow": {
     "slide_type": "subslide"
    }
   },
   "source": [
    "### How do I code along?\n",
    "\n",
    "## [bit.ly/ddi-python-21feb23](https://bit.ly/ddi-python-21feb23)\n",
    "\n",
    "When you go to this URL, you should see the content of these slides. This is a **Jupyter notebook** -- a Python programming environment that runs in your browser. Wait until it loads completely (~1min), then:\n",
    "- scroll down until you see the flags 🚩🚩🚩. Then, click on the **Python code cell** just below. You should see a green frame appearing around it.\n",
    "- Click the <kbd>> Run</kbd> button in the toolbar at the top (or press <kbd>Ctrl</kbd> + <kbd>Enter</kbd> on your keyboard). This will **run** the code inside the cell, and you will see the result below.\n",
    "\n",
    "# 🚩🚩🚩 Example 1"
   ]
  },
  {
   "cell_type": "code",
   "execution_count": null,
   "metadata": {
    "scrolled": true
   },
   "outputs": [],
   "source": [
    "print('Success! :)')"
   ]
  },
  {
   "cell_type": "code",
   "execution_count": 1,
   "metadata": {
    "scrolled": true,
    "slideshow": {
     "slide_type": "subslide"
    }
   },
   "outputs": [
    {
     "name": "stdout",
     "output_type": "stream",
     "text": [
      "Success! :)\n"
     ]
    }
   ],
   "source": [
    "print('Success! :)')"
   ]
  },
  {
   "cell_type": "markdown",
   "metadata": {
    "slideshow": {
     "slide_type": "-"
    }
   },
   "source": [
    "When you've run the code, `Success! :)` should appear **below** the code cell. If that's the case, come back on Teams and give a *thumbs up*. **Don't close your browser tab or you'll lose your progress!**\n",
    "\n",
    "You can follow the presentation on the Teams meeting. When there are code examples you can run and change yourself, they will be flagged with 🚩🚩🚩 if you want to jump back into your notebook."
   ]
  },
  {
   "cell_type": "markdown",
   "metadata": {
    "slideshow": {
     "slide_type": "slide"
    }
   },
   "source": [
    "## What is Python?\n",
    "\n",
    "\"Python\" refers to both the **programming language** and the **interpreter**. The interpreter is the tool which instructs your computer to execute the code you write."
   ]
  },
  {
   "cell_type": "markdown",
   "metadata": {
    "slideshow": {
     "slide_type": "fragment"
    }
   },
   "source": [
    "### Why should I learn Python?\n",
    "\n",
    "- It's **easier to learn** than most other languages.\n",
    "- It's **free** and open-source, and available on all major platforms.\n",
    "- There are a **lot** of well-maintained third-party libraries available for a wide variety of applications. We will see a couple of these today!\n",
    "- It has a very **large and welcoming community**, which is growing every day."
   ]
  },
  {
   "cell_type": "markdown",
   "metadata": {
    "slideshow": {
     "slide_type": "slide"
    }
   },
   "source": [
    "## Let's go!\n",
    "\n",
    "First, let's get Python to show us something, using the `print()` command."
   ]
  },
  {
   "cell_type": "code",
   "execution_count": 9,
   "metadata": {},
   "outputs": [
    {
     "name": "stdout",
     "output_type": "stream",
     "text": [
      "7\n",
      "6\n",
      "16.5\n",
      "Hello everyone!\n",
      "16.5\n"
     ]
    }
   ],
   "source": [
    "print(4 + 3)\n",
    "print(8 - 2)\n",
    "print(4 * 4 + 1/2)\n",
    "print(\"Hello everyone!\")\n",
    "\n",
    "print(1/2 + (4 * 4))"
   ]
  },
  {
   "cell_type": "markdown",
   "metadata": {
    "slideshow": {
     "slide_type": "notes"
    }
   },
   "source": [
    "We've seen `print()` a minute ago, this was the first command we used to display \"Success!\".\n",
    "\n",
    "Here are a couple more examples:\n",
    "\n",
    "```python\n",
    "print(20)\n",
    "print(3 + 4)\n",
    "print(4 * 3)\n",
    "print('Hello!')\n",
    "```\n",
    "\n",
    "We can\n",
    "\n",
    "- show numbers,\n",
    "- calculate new numbers, and show the result,\n",
    "- show text using quotation marks."
   ]
  },
  {
   "cell_type": "markdown",
   "metadata": {
    "slideshow": {
     "slide_type": "slide"
    }
   },
   "source": [
    "## Variables and objects\n",
    "\n",
    "In Python, all data is an **object** of a certain **type**. For example, we've seen number objects (`456`, `2 + 3`...), and string objects which represent text (`'Success! :)'`).\n",
    "\n",
    "We can store objects in memory to reuse them later, using **variables**."
   ]
  },
  {
   "cell_type": "markdown",
   "metadata": {
    "slideshow": {
     "slide_type": "subslide"
    }
   },
   "source": [
    "A **variable** is a **label** to some place in your computer's memory, where an object is stored.\n",
    "\n",
    "We often say that, in Python, a variable *points to* or *refers to* an object. It's a **name** we choose for an object."
   ]
  },
  {
   "cell_type": "code",
   "execution_count": 10,
   "metadata": {
    "slideshow": {
     "slide_type": "fragment"
    }
   },
   "outputs": [
    {
     "name": "stdout",
     "output_type": "stream",
     "text": [
      "0.5\n"
     ]
    }
   ],
   "source": [
    "a = 0.5\n",
    "print(a)"
   ]
  },
  {
   "cell_type": "markdown",
   "metadata": {
    "slideshow": {
     "slide_type": "-"
    }
   },
   "source": [
    "<img alt=\"Assigning 0.5 to a\" src=\"graphics/var1.png\" width=600px>"
   ]
  },
  {
   "cell_type": "markdown",
   "metadata": {
    "slideshow": {
     "slide_type": "notes"
    }
   },
   "source": [
    "We assign a variable using the `=` sign, which doesn't mean the same thing as in mathematics!\n",
    "\n",
    "- Python evaluates the right hand side of the `=` sign.\n",
    "- Then, it gives it the name you chose on the left hand side -- here, `a`.\n",
    "- If we want to use that object (that value) later, we can call it by its name."
   ]
  },
  {
   "cell_type": "markdown",
   "metadata": {
    "slideshow": {
     "slide_type": "subslide"
    }
   },
   "source": [
    "# 🚩🚩🚩 Example 2\n",
    "\n",
    "What will be the output of each of these cells?\n",
    "some interesting text..."
   ]
  },
  {
   "cell_type": "code",
   "execution_count": 13,
   "metadata": {},
   "outputs": [
    {
     "name": "stdout",
     "output_type": "stream",
     "text": [
      "2.5\n"
     ]
    }
   ],
   "source": [
    "a = 0.5\n",
    "b = a + 2\n",
    "print(b)"
   ]
  },
  {
   "cell_type": "code",
   "execution_count": 15,
   "metadata": {},
   "outputs": [
    {
     "name": "stdout",
     "output_type": "stream",
     "text": [
      "1.25\n",
      "1.75\n"
     ]
    }
   ],
   "source": [
    "c = a * b\n",
    "print(c)\n",
    "print(a + c)"
   ]
  },
  {
   "cell_type": "code",
   "execution_count": 18,
   "metadata": {},
   "outputs": [
    {
     "name": "stdout",
     "output_type": "stream",
     "text": [
      "0.5\n"
     ]
    }
   ],
   "source": [
    "print(a)"
   ]
  },
  {
   "cell_type": "code",
   "execution_count": 19,
   "metadata": {
    "slideshow": {
     "slide_type": "subslide"
    }
   },
   "outputs": [
    {
     "name": "stdout",
     "output_type": "stream",
     "text": [
      "1.5\n"
     ]
    }
   ],
   "source": [
    "a = a + 1\n",
    "print(a)"
   ]
  },
  {
   "cell_type": "code",
   "execution_count": 23,
   "metadata": {
    "slideshow": {
     "slide_type": "-"
    }
   },
   "outputs": [
    {
     "name": "stdout",
     "output_type": "stream",
     "text": [
      "1\n",
      "2\n",
      "1\n"
     ]
    }
   ],
   "source": [
    "x = 1\n",
    "y = x\n",
    "print(y)\n",
    "x = 2\n",
    "print(x)\n",
    "print(y)"
   ]
  },
  {
   "cell_type": "markdown",
   "metadata": {
    "slideshow": {
     "slide_type": "fragment"
    }
   },
   "source": [
    "| `x = 1 ` | `y = x` | `x = 2` |\n",
    "|:---:|:---:|:---:|\n",
    "| ![x = 1](graphics/xy_1.png) | ![y = x](graphics/xy_2.png) | ![x = 2](graphics/xy_3.png) |"
   ]
  },
  {
   "cell_type": "markdown",
   "metadata": {
    "slideshow": {
     "slide_type": "notes"
    }
   },
   "source": [
    "The way Python interprets `y = x` is to give a second possible name, `y`, with which we can refer to the object that is already named `x`. It won't copy the object to a separate box if it's not necessary."
   ]
  },
  {
   "cell_type": "code",
   "execution_count": 25,
   "metadata": {
    "slideshow": {
     "slide_type": "subslide"
    }
   },
   "outputs": [
    {
     "name": "stdout",
     "output_type": "stream",
     "text": [
      "ABCABCABC\n"
     ]
    }
   ],
   "source": [
    "s = \"ABC\"\n",
    "# t = 3 * s\n",
    "# Repeat the string s 3 times\n",
    "t = s + s + s\n",
    "print(t)"
   ]
  },
  {
   "cell_type": "code",
   "execution_count": 46,
   "metadata": {
    "slideshow": {
     "slide_type": "-"
    }
   },
   "outputs": [
    {
     "name": "stdout",
     "output_type": "stream",
     "text": [
      "ABCaaaaaaABCABCABCaaaaaaABCABCABCaaaaaaABCABCABCaaaaaaABCABCABCaaaaaaABCABCABCaaaaaaABCABCABCaaaaaaABCABCABCaaaaaaABCABCABCaaaaaaABCABCABCaaaaaaABCABCABCaaaaaaABCABCABCaaaaaaABCABCABCaaaaaaABCABCABCaaaaaaABCABCABCaaaaaaABCABCABCaaaaaaABCABCABCaaaaaaABCABCABCaaaaaaABCABCABCaaaaaaABCABCABCaaaaaaABCABCABC\n",
      "Say \"hello\"!\n"
     ]
    }
   ],
   "source": [
    "s = s + 'aaaaaa' + t\n",
    "print(s)\n",
    "\n",
    "print('Say \"hello\"!')"
   ]
  },
  {
   "cell_type": "markdown",
   "metadata": {
    "slideshow": {
     "slide_type": "notes"
    }
   },
   "source": [
    "So far we've performed operations with numbers, but numbers aren't the only type of object available in Python.\n",
    "\n",
    "We have seen a couple of examples of **strings** earlier. We can create a string of characters by typing them enclosed in quotation marks.\n",
    "\n",
    "Python can also manipulate strings. Here are a couple of examples:\n",
    "\n",
    "- multiply a string by a number -- what happens?\n",
    "- add two strings together -- what happens?\n",
    "\n",
    "Python interprets `+` and `*` differently if you are operating with different object types."
   ]
  },
  {
   "cell_type": "markdown",
   "metadata": {
    "slideshow": {
     "slide_type": "slide"
    }
   },
   "source": [
    "## Data types\n",
    "\n",
    "Python can tell us what *type* an object is, using the function `type()`."
   ]
  },
  {
   "cell_type": "code",
   "execution_count": 48,
   "metadata": {},
   "outputs": [
    {
     "name": "stdout",
     "output_type": "stream",
     "text": [
      "<class 'int'>\n",
      "0.5\n",
      "<class 'float'>\n",
      "<class 'str'>\n"
     ]
    }
   ],
   "source": [
    "c = 1\n",
    "print(type(c))\n",
    "\n",
    "c = c / 2\n",
    "print(c)\n",
    "print(type(c))\n",
    "\n",
    "print(type(\"Bonjour!\"))"
   ]
  },
  {
   "cell_type": "markdown",
   "metadata": {
    "slideshow": {
     "slide_type": "notes"
    }
   },
   "source": [
    "Now, if we divide 1 by 2, what should we get?\n",
    "\n",
    "```python\n",
    "c = c / 2\n",
    "print(c)\n",
    "print(type(c))\n",
    "```\n",
    "\n",
    "`c` is now a `float` (floating point number), which is how computers represent decimal numbers.\n",
    "\n",
    "Python usually knows to choose the appropriate **number type** automatically. We say that Python is **duck-typed** -- if it walks like a `float` and quacks like a `float`, then it's probably a `float`."
   ]
  },
  {
   "cell_type": "markdown",
   "metadata": {
    "slideshow": {
     "slide_type": "subslide"
    }
   },
   "source": [
    "## A useful type to make decisions: `bool`\n"
   ]
  },
  {
   "cell_type": "code",
   "execution_count": 55,
   "metadata": {
    "slideshow": {
     "slide_type": "fragment"
    }
   },
   "outputs": [
    {
     "name": "stdout",
     "output_type": "stream",
     "text": [
      "False\n",
      "True\n",
      "True\n"
     ]
    }
   ],
   "source": [
    "a = True\n",
    "b = True\n",
    "print(not a)\n",
    "print(a or b)\n",
    "print(a and b)"
   ]
  },
  {
   "cell_type": "code",
   "execution_count": 56,
   "metadata": {
    "slideshow": {
     "slide_type": "fragment"
    }
   },
   "outputs": [
    {
     "name": "stdout",
     "output_type": "stream",
     "text": [
      "a and b are both True.\n"
     ]
    }
   ],
   "source": [
    "if a and b:\n",
    "    print('a and b are both True.')"
   ]
  },
  {
   "cell_type": "markdown",
   "metadata": {
    "slideshow": {
     "slide_type": "notes"
    }
   },
   "source": [
    "The keywords `True` and `False` represent what we call **Boolean** or logical values.\n",
    "\n",
    "We can use these to **make decisions** in our code, for example to run a command only under a certain condition.\n",
    "\n",
    "---\n",
    "\n",
    "```python\n",
    "if a and b:\n",
    "    print('a and b are both True.')\n",
    "else:\n",
    "    print('At least one of a and b is False.')\n",
    "```\n",
    "\n",
    "This is called a **conditional structure**. The code that is **indented** below the `if` and `else` statements only runs under the specified conditions.\n",
    "\n",
    "The different **branches** are checked in order (top to bottom), and only **one** is executed.\n",
    "\n",
    "You can have as many instructions as you like in each branch.\n",
    "\n",
    "---\n",
    "\n",
    "Useful **logical keywords** we can use are `and`, `or`, `not`.\n",
    "\n",
    "We can also add more branches, and **nest** these structures inside each other:\n",
    "\n",
    "```python\n",
    "if a and b:\n",
    "    print('a and b are both True.')\n",
    "    print('Still true!')\n",
    "elif (not a) and (not b):\n",
    "    print('They\\'re both false.')\n",
    "else:\n",
    "    if a:\n",
    "        print('Only a is true.')\n",
    "    else:\n",
    "        print('Only b is true.')\n",
    "```"
   ]
  },
  {
   "cell_type": "code",
   "execution_count": 68,
   "metadata": {
    "slideshow": {
     "slide_type": "subslide"
    }
   },
   "outputs": [
    {
     "name": "stdout",
     "output_type": "stream",
     "text": [
      "they are both False.\n",
      "Finished!\n"
     ]
    }
   ],
   "source": [
    "a = False\n",
    "b = False\n",
    "\n",
    "if a and b:\n",
    "    print('a and b are both True.')\n",
    "    print('still both True...')\n",
    "elif a or b:\n",
    "    print('at least one is True.')\n",
    "else:\n",
    "    print('they are both False.')\n",
    "\n",
    "print('Finished!')"
   ]
  },
  {
   "cell_type": "code",
   "execution_count": 85,
   "metadata": {},
   "outputs": [
    {
     "name": "stdout",
     "output_type": "stream",
     "text": [
      "False\n"
     ]
    }
   ],
   "source": [
    "x = 3\n",
    "y = 3\n",
    "\n",
    "A = x != y\n",
    "print(A)"
   ]
  },
  {
   "cell_type": "markdown",
   "metadata": {
    "slideshow": {
     "slide_type": "notes"
    }
   },
   "source": [
    "We can also **construct Booleans** using **comparison operators**.\n",
    "\n",
    "```python\n",
    "x = 10\n",
    "y = 1\n",
    "\n",
    "print(x >= y)\n",
    "```"
   ]
  },
  {
   "cell_type": "markdown",
   "metadata": {
    "slideshow": {
     "slide_type": "slide"
    }
   },
   "source": [
    "# 🚩🚩🚩 Example 3\n",
    "\n",
    "Let's play **Guess the number**:"
   ]
  },
  {
   "cell_type": "code",
   "execution_count": 91,
   "metadata": {},
   "outputs": [
    {
     "name": "stdout",
     "output_type": "stream",
     "text": [
      "Guess a number between 1 and 10: 9\n",
      "Lower! 7\n",
      "Lower! 3\n",
      "Lower! 1\n",
      "Higher! 2\n",
      "Victory!\n"
     ]
    }
   ],
   "source": [
    "# Import the \"random\" library\n",
    "import random   # a comment after some code\n",
    "\n",
    "# Generate a random number between 1 and 10\n",
    "target = random.randint(1, 10)\n",
    "\n",
    "# Ask user to type a number\n",
    "guess = int(input('Guess a number between 1 and 10: '))\n",
    "\n",
    "# Keep guessing while we haven't guessed correctly yet\n",
    "while target != guess:\n",
    "    if guess < target:\n",
    "        guess = int(input('Higher! '))\n",
    "    else:\n",
    "        guess = int(input('Lower! '))\n",
    "\n",
    "print('Victory!')"
   ]
  },
  {
   "cell_type": "markdown",
   "metadata": {
    "slideshow": {
     "slide_type": "notes"
    }
   },
   "source": [
    "There are a few new commands here, but hopefully they are fairly straightforward to understand.\n",
    "\n",
    "Let's run the code first and see how this works.\n",
    "\n",
    "---\n",
    "\n",
    "- `import` is used to bring in some added functionalities which are not available in vanilla Python. Here, we want to generate random numbers. We import the `random` library to be able to do this, using the `randint()` function.\n",
    "- `input()` is used to ask for interactive input. This is how you can type in your guesses.\n",
    "- `int()` is used to convert what you typed into an `int`. By default, it's a string, we need to tell Python to convert it to an actual number, so it can compare it to the target.\n",
    "- `while` starts a **loop**. A loop is used to **repeat** some code a certain number of times. Here, we want to repeat the command which asks us to guess again, for **as long as** the guess is not equal to the target.\n",
    "\n",
    "---\n",
    "\n",
    "The game is a little bit difficult since we guess randomly every time; how could we make it a bit easier?"
   ]
  },
  {
   "cell_type": "markdown",
   "metadata": {
    "slideshow": {
     "slide_type": "slide"
    }
   },
   "source": [
    "## Containers: lists and dictionaries\n",
    "\n",
    "Python also has objects which can *contain* several other objects inside them -- they're called **containers**."
   ]
  },
  {
   "cell_type": "code",
   "execution_count": 94,
   "metadata": {
    "slideshow": {
     "slide_type": "subslide"
    }
   },
   "outputs": [
    {
     "name": "stdout",
     "output_type": "stream",
     "text": [
      "[1, 2, 3, 10, 6]\n",
      "6\n"
     ]
    }
   ],
   "source": [
    "# Create a list called a\n",
    "a = [1, 2, 3, 10, 6]\n",
    "print(a)\n",
    "print(a[4])"
   ]
  },
  {
   "cell_type": "markdown",
   "metadata": {},
   "source": [
    "<img alt=\"The list a in memory\" src=\"graphics/lists.png\" width=800px>"
   ]
  },
  {
   "cell_type": "code",
   "execution_count": 95,
   "metadata": {
    "slideshow": {
     "slide_type": "fragment"
    }
   },
   "outputs": [
    {
     "name": "stdout",
     "output_type": "stream",
     "text": [
      "[1, 2, 3, -5, 6]\n"
     ]
    }
   ],
   "source": [
    "# Change individual elements\n",
    "a[3] = -5\n",
    "print(a)"
   ]
  },
  {
   "cell_type": "markdown",
   "metadata": {
    "slideshow": {
     "slide_type": "notes"
    }
   },
   "source": [
    "I can also **change** individual elements of the list. For example, how could I change the `10` to `-5`?"
   ]
  },
  {
   "cell_type": "markdown",
   "metadata": {
    "slideshow": {
     "slide_type": "subslide"
    }
   },
   "source": [
    "We can put anything in a list -- even other lists!"
   ]
  },
  {
   "cell_type": "code",
   "execution_count": 108,
   "metadata": {},
   "outputs": [
    {
     "name": "stdout",
     "output_type": "stream",
     "text": [
      "['you', 'they', True]\n",
      "they\n",
      "['my', 1, 4.5, ['you', 'they', True], 432, -2.3, 33, [False, 1], 1000]\n",
      "['my', 1, 4.5, ['you', 'they', True], 432, -2.3, 33, [False, 1], 1000, [3, 4, 5]]\n",
      "10\n"
     ]
    },
    {
     "ename": "IndexError",
     "evalue": "list assignment index out of range",
     "output_type": "error",
     "traceback": [
      "\u001b[0;31m---------------------------------------------------------------------------\u001b[0m",
      "\u001b[0;31mIndexError\u001b[0m                                Traceback (most recent call last)",
      "Input \u001b[0;32mIn [108]\u001b[0m, in \u001b[0;36m<cell line: 13>\u001b[0;34m()\u001b[0m\n\u001b[1;32m     10\u001b[0m \u001b[38;5;28mprint\u001b[39m(a)\n\u001b[1;32m     11\u001b[0m \u001b[38;5;28mprint\u001b[39m(\u001b[38;5;28mlen\u001b[39m(a))\n\u001b[0;32m---> 13\u001b[0m a[\u001b[38;5;241m10\u001b[39m] \u001b[38;5;241m=\u001b[39m \u001b[38;5;124m'\u001b[39m\u001b[38;5;124mhola!\u001b[39m\u001b[38;5;124m'\u001b[39m\n\u001b[1;32m     14\u001b[0m \u001b[38;5;28mprint\u001b[39m(a)\n",
      "\u001b[0;31mIndexError\u001b[0m: list assignment index out of range"
     ]
    }
   ],
   "source": [
    "a = ['my', 1, 4.5, ['you', 'they', True], 432, -2.3, 33, [False, 1]]\n",
    "print(a[3])\n",
    "print(a[3][1])\n",
    "\n",
    "# Add a new element to the list a\n",
    "a.append(1000)\n",
    "print(a)\n",
    "\n",
    "a.append([3, 4, 5])\n",
    "print(a)\n",
    "print(len(a))\n",
    "\n",
    "a[10] = 'hola!'\n",
    "print(a)"
   ]
  },
  {
   "cell_type": "markdown",
   "metadata": {
    "slideshow": {
     "slide_type": "notes"
    }
   },
   "source": [
    "How would I print only `'they'` here? Remember that Python starts indexing at zero."
   ]
  },
  {
   "cell_type": "markdown",
   "metadata": {
    "slideshow": {
     "slide_type": "subslide"
    }
   },
   "source": [
    "**Dictionaries** are similar to lists, but indexes elements with a **label** instead of a number."
   ]
  },
  {
   "cell_type": "code",
   "execution_count": 106,
   "metadata": {},
   "outputs": [
    {
     "name": "stdout",
     "output_type": "stream",
     "text": [
      "80\n",
      "{'Alice': 80, 'Bob': 64, 'Charlie': 72, 'Dara': 99}\n"
     ]
    }
   ],
   "source": [
    "# Create a dictionary called scores\n",
    "scores = {'Alice': 80, 'Bob': 64, 'Charlie': 72}\n",
    "# {key: value}\n",
    "print(scores['Alice'])\n",
    "\n",
    "scores['Dara'] = 99\n",
    "print(scores)"
   ]
  },
  {
   "cell_type": "markdown",
   "metadata": {},
   "source": [
    "<img alt=\"The dictionary scores in memory\" src=\"graphics/dict.png\" width=800px>"
   ]
  },
  {
   "cell_type": "markdown",
   "metadata": {
    "slideshow": {
     "slide_type": "notes"
    }
   },
   "source": [
    "I can easily add new elements to a dictionary:\n",
    "\n",
    "```python\n",
    "scores['Dara'] = 99\n",
    "print(scores)\n",
    "```"
   ]
  },
  {
   "cell_type": "markdown",
   "metadata": {
    "slideshow": {
     "slide_type": "slide"
    }
   },
   "source": [
    "## Python and data: the `pandas` library\n",
    "\n",
    "A **library** is a bit like an extra toolbox with specialist tools.\n",
    "\n",
    "`pandas` (Python Data Analysis Library) is particularly useful to deal with data."
   ]
  },
  {
   "cell_type": "code",
   "execution_count": 109,
   "metadata": {},
   "outputs": [],
   "source": [
    "import pandas as pd"
   ]
  },
  {
   "cell_type": "markdown",
   "metadata": {},
   "source": [
    "We'll use the [astronauts database](https://github.com/rfordatascience/tidytuesday/tree/master/data/2020/2020-07-14)."
   ]
  },
  {
   "cell_type": "code",
   "execution_count": 110,
   "metadata": {
    "slideshow": {
     "slide_type": "fragment"
    }
   },
   "outputs": [
    {
     "name": "stdout",
     "output_type": "stream",
     "text": [
      "<class 'pandas.core.frame.DataFrame'>\n"
     ]
    }
   ],
   "source": [
    "astronauts = pd.read_csv('astronauts.csv')\n",
    "print(type(astronauts))"
   ]
  },
  {
   "cell_type": "markdown",
   "metadata": {
    "slideshow": {
     "slide_type": "notes"
    }
   },
   "source": [
    "For the second part of this session, I'm going to show you some examples of various things we can do with data in Python, using a library called **pandas** for manipulating data, and another library called **seaborn** for visualising data."
   ]
  },
  {
   "cell_type": "markdown",
   "metadata": {
    "slideshow": {
     "slide_type": "subslide"
    }
   },
   "source": [
    "# 🚩🚩🚩 Example 4\n",
    "\n",
    "Run the cell below to import pandas and read the CSV file."
   ]
  },
  {
   "cell_type": "code",
   "execution_count": 111,
   "metadata": {},
   "outputs": [],
   "source": [
    "import pandas as pd\n",
    "astronauts = pd.read_csv('astronauts.csv')"
   ]
  },
  {
   "cell_type": "markdown",
   "metadata": {
    "slideshow": {
     "slide_type": "subslide"
    }
   },
   "source": [
    "Then, try these commands (one at a time):\n",
    "\n",
    "```python\n",
    "print(astronauts.columns)\n",
    "astronauts.head()\n",
    "astronauts.tail()\n",
    "astronauts.head(10)\n",
    "```"
   ]
  },
  {
   "cell_type": "code",
   "execution_count": 118,
   "metadata": {},
   "outputs": [
    {
     "data": {
      "text/html": [
       "<div>\n",
       "<style scoped>\n",
       "    .dataframe tbody tr th:only-of-type {\n",
       "        vertical-align: middle;\n",
       "    }\n",
       "\n",
       "    .dataframe tbody tr th {\n",
       "        vertical-align: top;\n",
       "    }\n",
       "\n",
       "    .dataframe thead th {\n",
       "        text-align: right;\n",
       "    }\n",
       "</style>\n",
       "<table border=\"1\" class=\"dataframe\">\n",
       "  <thead>\n",
       "    <tr style=\"text-align: right;\">\n",
       "      <th></th>\n",
       "      <th>id</th>\n",
       "      <th>number</th>\n",
       "      <th>nationwide_number</th>\n",
       "      <th>name</th>\n",
       "      <th>original_name</th>\n",
       "      <th>sex</th>\n",
       "      <th>year_of_birth</th>\n",
       "      <th>nationality</th>\n",
       "      <th>military_civilian</th>\n",
       "      <th>selection</th>\n",
       "      <th>...</th>\n",
       "      <th>year_of_mission</th>\n",
       "      <th>mission_title</th>\n",
       "      <th>ascend_shuttle</th>\n",
       "      <th>in_orbit</th>\n",
       "      <th>descend_shuttle</th>\n",
       "      <th>hours_mission</th>\n",
       "      <th>total_hrs_sum</th>\n",
       "      <th>field21</th>\n",
       "      <th>eva_hrs_mission</th>\n",
       "      <th>total_eva_hrs</th>\n",
       "    </tr>\n",
       "  </thead>\n",
       "  <tbody>\n",
       "    <tr>\n",
       "      <th>0</th>\n",
       "      <td>1</td>\n",
       "      <td>1</td>\n",
       "      <td>1</td>\n",
       "      <td>Gagarin, Yuri</td>\n",
       "      <td>ГАГАРИН Юрий Алексеевич</td>\n",
       "      <td>male</td>\n",
       "      <td>1934</td>\n",
       "      <td>U.S.S.R/Russia</td>\n",
       "      <td>military</td>\n",
       "      <td>TsPK-1</td>\n",
       "      <td>...</td>\n",
       "      <td>1961</td>\n",
       "      <td>Vostok 1</td>\n",
       "      <td>Vostok 1</td>\n",
       "      <td>Vostok 2</td>\n",
       "      <td>Vostok 3</td>\n",
       "      <td>1.77</td>\n",
       "      <td>1.77</td>\n",
       "      <td>0</td>\n",
       "      <td>0.0</td>\n",
       "      <td>0.0</td>\n",
       "    </tr>\n",
       "    <tr>\n",
       "      <th>1</th>\n",
       "      <td>2</td>\n",
       "      <td>2</td>\n",
       "      <td>2</td>\n",
       "      <td>Titov, Gherman</td>\n",
       "      <td>ТИТОВ Герман Степанович</td>\n",
       "      <td>male</td>\n",
       "      <td>1935</td>\n",
       "      <td>U.S.S.R/Russia</td>\n",
       "      <td>military</td>\n",
       "      <td>TsPK-1</td>\n",
       "      <td>...</td>\n",
       "      <td>1961</td>\n",
       "      <td>Vostok 2</td>\n",
       "      <td>Vostok 2</td>\n",
       "      <td>Vostok 2</td>\n",
       "      <td>Vostok 2</td>\n",
       "      <td>25.00</td>\n",
       "      <td>25.30</td>\n",
       "      <td>0</td>\n",
       "      <td>0.0</td>\n",
       "      <td>0.0</td>\n",
       "    </tr>\n",
       "    <tr>\n",
       "      <th>2</th>\n",
       "      <td>3</td>\n",
       "      <td>3</td>\n",
       "      <td>1</td>\n",
       "      <td>Glenn, John H., Jr.</td>\n",
       "      <td>Glenn, John H., Jr.</td>\n",
       "      <td>male</td>\n",
       "      <td>1921</td>\n",
       "      <td>U.S.</td>\n",
       "      <td>military</td>\n",
       "      <td>NASA Astronaut Group 1</td>\n",
       "      <td>...</td>\n",
       "      <td>1962</td>\n",
       "      <td>MA-6</td>\n",
       "      <td>MA-6</td>\n",
       "      <td>MA-6</td>\n",
       "      <td>MA-6</td>\n",
       "      <td>5.00</td>\n",
       "      <td>218.00</td>\n",
       "      <td>0</td>\n",
       "      <td>0.0</td>\n",
       "      <td>0.0</td>\n",
       "    </tr>\n",
       "    <tr>\n",
       "      <th>3</th>\n",
       "      <td>4</td>\n",
       "      <td>3</td>\n",
       "      <td>1</td>\n",
       "      <td>Glenn, John H., Jr.</td>\n",
       "      <td>Glenn, John H., Jr.</td>\n",
       "      <td>male</td>\n",
       "      <td>1921</td>\n",
       "      <td>U.S.</td>\n",
       "      <td>military</td>\n",
       "      <td>NASA Astronaut Group 2</td>\n",
       "      <td>...</td>\n",
       "      <td>1998</td>\n",
       "      <td>STS-95</td>\n",
       "      <td>STS-95</td>\n",
       "      <td>STS-95</td>\n",
       "      <td>STS-95</td>\n",
       "      <td>213.00</td>\n",
       "      <td>218.00</td>\n",
       "      <td>0</td>\n",
       "      <td>0.0</td>\n",
       "      <td>0.0</td>\n",
       "    </tr>\n",
       "    <tr>\n",
       "      <th>4</th>\n",
       "      <td>5</td>\n",
       "      <td>4</td>\n",
       "      <td>2</td>\n",
       "      <td>Carpenter, M. Scott</td>\n",
       "      <td>Carpenter, M. Scott</td>\n",
       "      <td>male</td>\n",
       "      <td>1925</td>\n",
       "      <td>U.S.</td>\n",
       "      <td>military</td>\n",
       "      <td>NASA- 1</td>\n",
       "      <td>...</td>\n",
       "      <td>1962</td>\n",
       "      <td>Mercury-Atlas 7</td>\n",
       "      <td>Mercury-Atlas 7</td>\n",
       "      <td>Mercury-Atlas 7</td>\n",
       "      <td>Mercury-Atlas 7</td>\n",
       "      <td>5.00</td>\n",
       "      <td>5.00</td>\n",
       "      <td>0</td>\n",
       "      <td>0.0</td>\n",
       "      <td>0.0</td>\n",
       "    </tr>\n",
       "    <tr>\n",
       "      <th>5</th>\n",
       "      <td>6</td>\n",
       "      <td>5</td>\n",
       "      <td>2</td>\n",
       "      <td>Nikolayev, Andriyan</td>\n",
       "      <td>НИКОЛАЕВ Андриян Григорьевич</td>\n",
       "      <td>male</td>\n",
       "      <td>1929</td>\n",
       "      <td>U.S.S.R/Russia</td>\n",
       "      <td>military</td>\n",
       "      <td>TsPK-1</td>\n",
       "      <td>...</td>\n",
       "      <td>1962</td>\n",
       "      <td>Vostok 3</td>\n",
       "      <td>Vostok 3</td>\n",
       "      <td>Vostok 3</td>\n",
       "      <td>Vostok 3</td>\n",
       "      <td>94.00</td>\n",
       "      <td>519.33</td>\n",
       "      <td>0</td>\n",
       "      <td>0.0</td>\n",
       "      <td>0.0</td>\n",
       "    </tr>\n",
       "    <tr>\n",
       "      <th>6</th>\n",
       "      <td>7</td>\n",
       "      <td>5</td>\n",
       "      <td>2</td>\n",
       "      <td>Nikolayev, Andriyan</td>\n",
       "      <td>НИКОЛАЕВ Андриян Григорьевич</td>\n",
       "      <td>male</td>\n",
       "      <td>1929</td>\n",
       "      <td>U.S.S.R/Russia</td>\n",
       "      <td>military</td>\n",
       "      <td>TsPK-2</td>\n",
       "      <td>...</td>\n",
       "      <td>1970</td>\n",
       "      <td>Soyuz 9</td>\n",
       "      <td>Soyuz 9</td>\n",
       "      <td>Soyuz 9</td>\n",
       "      <td>Soyuz 9</td>\n",
       "      <td>424.00</td>\n",
       "      <td>519.33</td>\n",
       "      <td>0</td>\n",
       "      <td>0.0</td>\n",
       "      <td>0.0</td>\n",
       "    </tr>\n",
       "    <tr>\n",
       "      <th>7</th>\n",
       "      <td>8</td>\n",
       "      <td>6</td>\n",
       "      <td>4</td>\n",
       "      <td>Popovich, Pavel</td>\n",
       "      <td>ПОПОВИЧ Павел Романович</td>\n",
       "      <td>male</td>\n",
       "      <td>1930</td>\n",
       "      <td>U.S.S.R/Russia</td>\n",
       "      <td>military</td>\n",
       "      <td>TsPK-1</td>\n",
       "      <td>...</td>\n",
       "      <td>1962</td>\n",
       "      <td>Vostok 4</td>\n",
       "      <td>Vostok 4</td>\n",
       "      <td>Vostok 4</td>\n",
       "      <td>Vostok 4</td>\n",
       "      <td>70.93</td>\n",
       "      <td>448.45</td>\n",
       "      <td>0</td>\n",
       "      <td>0.0</td>\n",
       "      <td>0.0</td>\n",
       "    </tr>\n",
       "    <tr>\n",
       "      <th>8</th>\n",
       "      <td>9</td>\n",
       "      <td>6</td>\n",
       "      <td>4</td>\n",
       "      <td>Popovich, Pavel</td>\n",
       "      <td>ПОПОВИЧ Павел Романович</td>\n",
       "      <td>male</td>\n",
       "      <td>1930</td>\n",
       "      <td>U.S.S.R/Russia</td>\n",
       "      <td>military</td>\n",
       "      <td>TsPK-2</td>\n",
       "      <td>...</td>\n",
       "      <td>1974</td>\n",
       "      <td>Soyuz 14</td>\n",
       "      <td>Soyuz 14</td>\n",
       "      <td>Soyuz 14</td>\n",
       "      <td>Soyuz 14</td>\n",
       "      <td>377.00</td>\n",
       "      <td>448.45</td>\n",
       "      <td>0</td>\n",
       "      <td>0.0</td>\n",
       "      <td>0.0</td>\n",
       "    </tr>\n",
       "    <tr>\n",
       "      <th>9</th>\n",
       "      <td>10</td>\n",
       "      <td>7</td>\n",
       "      <td>3</td>\n",
       "      <td>Schirra, Walter M., Jr.</td>\n",
       "      <td>Schirra, Walter M., Jr.</td>\n",
       "      <td>male</td>\n",
       "      <td>1923</td>\n",
       "      <td>U.S.</td>\n",
       "      <td>military</td>\n",
       "      <td>1959 NASA group 1</td>\n",
       "      <td>...</td>\n",
       "      <td>1962</td>\n",
       "      <td>Mercury-Atlas 8</td>\n",
       "      <td>Mercury-Atlas 8</td>\n",
       "      <td>Mercury-Atlas 8</td>\n",
       "      <td>Mercury-Atlas 8</td>\n",
       "      <td>9.22</td>\n",
       "      <td>295.20</td>\n",
       "      <td>0</td>\n",
       "      <td>0.0</td>\n",
       "      <td>0.0</td>\n",
       "    </tr>\n",
       "  </tbody>\n",
       "</table>\n",
       "<p>10 rows × 24 columns</p>\n",
       "</div>"
      ],
      "text/plain": [
       "   id  number  nationwide_number                     name  \\\n",
       "0   1       1                  1            Gagarin, Yuri   \n",
       "1   2       2                  2           Titov, Gherman   \n",
       "2   3       3                  1      Glenn, John H., Jr.   \n",
       "3   4       3                  1      Glenn, John H., Jr.   \n",
       "4   5       4                  2      Carpenter, M. Scott   \n",
       "5   6       5                  2      Nikolayev, Andriyan   \n",
       "6   7       5                  2      Nikolayev, Andriyan   \n",
       "7   8       6                  4          Popovich, Pavel   \n",
       "8   9       6                  4          Popovich, Pavel   \n",
       "9  10       7                  3  Schirra, Walter M., Jr.   \n",
       "\n",
       "                  original_name   sex  year_of_birth     nationality  \\\n",
       "0       ГАГАРИН Юрий Алексеевич  male           1934  U.S.S.R/Russia   \n",
       "1       ТИТОВ Герман Степанович  male           1935  U.S.S.R/Russia   \n",
       "2           Glenn, John H., Jr.  male           1921            U.S.   \n",
       "3           Glenn, John H., Jr.  male           1921            U.S.   \n",
       "4           Carpenter, M. Scott  male           1925            U.S.   \n",
       "5  НИКОЛАЕВ Андриян Григорьевич  male           1929  U.S.S.R/Russia   \n",
       "6  НИКОЛАЕВ Андриян Григорьевич  male           1929  U.S.S.R/Russia   \n",
       "7       ПОПОВИЧ Павел Романович  male           1930  U.S.S.R/Russia   \n",
       "8       ПОПОВИЧ Павел Романович  male           1930  U.S.S.R/Russia   \n",
       "9       Schirra, Walter M., Jr.  male           1923            U.S.   \n",
       "\n",
       "  military_civilian               selection  ...  year_of_mission  \\\n",
       "0          military                  TsPK-1  ...             1961   \n",
       "1          military                  TsPK-1  ...             1961   \n",
       "2          military  NASA Astronaut Group 1  ...             1962   \n",
       "3          military  NASA Astronaut Group 2  ...             1998   \n",
       "4          military                 NASA- 1  ...             1962   \n",
       "5          military                  TsPK-1  ...             1962   \n",
       "6          military                  TsPK-2  ...             1970   \n",
       "7          military                  TsPK-1  ...             1962   \n",
       "8          military                  TsPK-2  ...             1974   \n",
       "9          military       1959 NASA group 1  ...             1962   \n",
       "\n",
       "     mission_title   ascend_shuttle         in_orbit  descend_shuttle  \\\n",
       "0         Vostok 1         Vostok 1         Vostok 2         Vostok 3   \n",
       "1         Vostok 2         Vostok 2         Vostok 2         Vostok 2   \n",
       "2             MA-6             MA-6             MA-6             MA-6   \n",
       "3           STS-95           STS-95           STS-95           STS-95   \n",
       "4  Mercury-Atlas 7  Mercury-Atlas 7  Mercury-Atlas 7  Mercury-Atlas 7   \n",
       "5         Vostok 3         Vostok 3         Vostok 3         Vostok 3   \n",
       "6          Soyuz 9          Soyuz 9          Soyuz 9          Soyuz 9   \n",
       "7         Vostok 4         Vostok 4         Vostok 4         Vostok 4   \n",
       "8         Soyuz 14         Soyuz 14         Soyuz 14         Soyuz 14   \n",
       "9  Mercury-Atlas 8  Mercury-Atlas 8  Mercury-Atlas 8  Mercury-Atlas 8   \n",
       "\n",
       "  hours_mission total_hrs_sum field21 eva_hrs_mission  total_eva_hrs  \n",
       "0          1.77          1.77       0             0.0            0.0  \n",
       "1         25.00         25.30       0             0.0            0.0  \n",
       "2          5.00        218.00       0             0.0            0.0  \n",
       "3        213.00        218.00       0             0.0            0.0  \n",
       "4          5.00          5.00       0             0.0            0.0  \n",
       "5         94.00        519.33       0             0.0            0.0  \n",
       "6        424.00        519.33       0             0.0            0.0  \n",
       "7         70.93        448.45       0             0.0            0.0  \n",
       "8        377.00        448.45       0             0.0            0.0  \n",
       "9          9.22        295.20       0             0.0            0.0  \n",
       "\n",
       "[10 rows x 24 columns]"
      ]
     },
     "execution_count": 118,
     "metadata": {},
     "output_type": "execute_result"
    }
   ],
   "source": [
    "astronauts.head(10)"
   ]
  },
  {
   "cell_type": "code",
   "execution_count": null,
   "metadata": {},
   "outputs": [],
   "source": []
  },
  {
   "cell_type": "code",
   "execution_count": null,
   "metadata": {},
   "outputs": [],
   "source": []
  },
  {
   "cell_type": "code",
   "execution_count": null,
   "metadata": {},
   "outputs": [],
   "source": []
  },
  {
   "cell_type": "code",
   "execution_count": null,
   "metadata": {},
   "outputs": [],
   "source": []
  },
  {
   "cell_type": "code",
   "execution_count": null,
   "metadata": {},
   "outputs": [],
   "source": []
  },
  {
   "cell_type": "markdown",
   "metadata": {
    "slideshow": {
     "slide_type": "slide"
    }
   },
   "source": [
    "## Summary statistics"
   ]
  },
  {
   "cell_type": "code",
   "execution_count": 119,
   "metadata": {
    "scrolled": false
   },
   "outputs": [
    {
     "data": {
      "text/html": [
       "<div>\n",
       "<style scoped>\n",
       "    .dataframe tbody tr th:only-of-type {\n",
       "        vertical-align: middle;\n",
       "    }\n",
       "\n",
       "    .dataframe tbody tr th {\n",
       "        vertical-align: top;\n",
       "    }\n",
       "\n",
       "    .dataframe thead th {\n",
       "        text-align: right;\n",
       "    }\n",
       "</style>\n",
       "<table border=\"1\" class=\"dataframe\">\n",
       "  <thead>\n",
       "    <tr style=\"text-align: right;\">\n",
       "      <th></th>\n",
       "      <th>id</th>\n",
       "      <th>number</th>\n",
       "      <th>nationwide_number</th>\n",
       "      <th>name</th>\n",
       "      <th>original_name</th>\n",
       "      <th>sex</th>\n",
       "      <th>year_of_birth</th>\n",
       "      <th>nationality</th>\n",
       "      <th>military_civilian</th>\n",
       "      <th>selection</th>\n",
       "      <th>...</th>\n",
       "      <th>mission_title</th>\n",
       "      <th>ascend_shuttle</th>\n",
       "      <th>in_orbit</th>\n",
       "      <th>descend_shuttle</th>\n",
       "      <th>hours_mission</th>\n",
       "      <th>total_hrs_sum</th>\n",
       "      <th>field21</th>\n",
       "      <th>eva_hrs_mission</th>\n",
       "      <th>total_eva_hrs</th>\n",
       "      <th>age</th>\n",
       "    </tr>\n",
       "  </thead>\n",
       "  <tbody>\n",
       "    <tr>\n",
       "      <th>0</th>\n",
       "      <td>1</td>\n",
       "      <td>1</td>\n",
       "      <td>1</td>\n",
       "      <td>Gagarin, Yuri</td>\n",
       "      <td>ГАГАРИН Юрий Алексеевич</td>\n",
       "      <td>male</td>\n",
       "      <td>1934</td>\n",
       "      <td>U.S.S.R/Russia</td>\n",
       "      <td>military</td>\n",
       "      <td>TsPK-1</td>\n",
       "      <td>...</td>\n",
       "      <td>Vostok 1</td>\n",
       "      <td>Vostok 1</td>\n",
       "      <td>Vostok 2</td>\n",
       "      <td>Vostok 3</td>\n",
       "      <td>1.77</td>\n",
       "      <td>1.77</td>\n",
       "      <td>0</td>\n",
       "      <td>0.0</td>\n",
       "      <td>0.0</td>\n",
       "      <td>27</td>\n",
       "    </tr>\n",
       "    <tr>\n",
       "      <th>1</th>\n",
       "      <td>2</td>\n",
       "      <td>2</td>\n",
       "      <td>2</td>\n",
       "      <td>Titov, Gherman</td>\n",
       "      <td>ТИТОВ Герман Степанович</td>\n",
       "      <td>male</td>\n",
       "      <td>1935</td>\n",
       "      <td>U.S.S.R/Russia</td>\n",
       "      <td>military</td>\n",
       "      <td>TsPK-1</td>\n",
       "      <td>...</td>\n",
       "      <td>Vostok 2</td>\n",
       "      <td>Vostok 2</td>\n",
       "      <td>Vostok 2</td>\n",
       "      <td>Vostok 2</td>\n",
       "      <td>25.00</td>\n",
       "      <td>25.30</td>\n",
       "      <td>0</td>\n",
       "      <td>0.0</td>\n",
       "      <td>0.0</td>\n",
       "      <td>26</td>\n",
       "    </tr>\n",
       "    <tr>\n",
       "      <th>2</th>\n",
       "      <td>3</td>\n",
       "      <td>3</td>\n",
       "      <td>1</td>\n",
       "      <td>Glenn, John H., Jr.</td>\n",
       "      <td>Glenn, John H., Jr.</td>\n",
       "      <td>male</td>\n",
       "      <td>1921</td>\n",
       "      <td>U.S.</td>\n",
       "      <td>military</td>\n",
       "      <td>NASA Astronaut Group 1</td>\n",
       "      <td>...</td>\n",
       "      <td>MA-6</td>\n",
       "      <td>MA-6</td>\n",
       "      <td>MA-6</td>\n",
       "      <td>MA-6</td>\n",
       "      <td>5.00</td>\n",
       "      <td>218.00</td>\n",
       "      <td>0</td>\n",
       "      <td>0.0</td>\n",
       "      <td>0.0</td>\n",
       "      <td>41</td>\n",
       "    </tr>\n",
       "    <tr>\n",
       "      <th>3</th>\n",
       "      <td>4</td>\n",
       "      <td>3</td>\n",
       "      <td>1</td>\n",
       "      <td>Glenn, John H., Jr.</td>\n",
       "      <td>Glenn, John H., Jr.</td>\n",
       "      <td>male</td>\n",
       "      <td>1921</td>\n",
       "      <td>U.S.</td>\n",
       "      <td>military</td>\n",
       "      <td>NASA Astronaut Group 2</td>\n",
       "      <td>...</td>\n",
       "      <td>STS-95</td>\n",
       "      <td>STS-95</td>\n",
       "      <td>STS-95</td>\n",
       "      <td>STS-95</td>\n",
       "      <td>213.00</td>\n",
       "      <td>218.00</td>\n",
       "      <td>0</td>\n",
       "      <td>0.0</td>\n",
       "      <td>0.0</td>\n",
       "      <td>77</td>\n",
       "    </tr>\n",
       "    <tr>\n",
       "      <th>4</th>\n",
       "      <td>5</td>\n",
       "      <td>4</td>\n",
       "      <td>2</td>\n",
       "      <td>Carpenter, M. Scott</td>\n",
       "      <td>Carpenter, M. Scott</td>\n",
       "      <td>male</td>\n",
       "      <td>1925</td>\n",
       "      <td>U.S.</td>\n",
       "      <td>military</td>\n",
       "      <td>NASA- 1</td>\n",
       "      <td>...</td>\n",
       "      <td>Mercury-Atlas 7</td>\n",
       "      <td>Mercury-Atlas 7</td>\n",
       "      <td>Mercury-Atlas 7</td>\n",
       "      <td>Mercury-Atlas 7</td>\n",
       "      <td>5.00</td>\n",
       "      <td>5.00</td>\n",
       "      <td>0</td>\n",
       "      <td>0.0</td>\n",
       "      <td>0.0</td>\n",
       "      <td>37</td>\n",
       "    </tr>\n",
       "  </tbody>\n",
       "</table>\n",
       "<p>5 rows × 25 columns</p>\n",
       "</div>"
      ],
      "text/plain": [
       "   id  number  nationwide_number                 name  \\\n",
       "0   1       1                  1        Gagarin, Yuri   \n",
       "1   2       2                  2       Titov, Gherman   \n",
       "2   3       3                  1  Glenn, John H., Jr.   \n",
       "3   4       3                  1  Glenn, John H., Jr.   \n",
       "4   5       4                  2  Carpenter, M. Scott   \n",
       "\n",
       "             original_name   sex  year_of_birth     nationality  \\\n",
       "0  ГАГАРИН Юрий Алексеевич  male           1934  U.S.S.R/Russia   \n",
       "1  ТИТОВ Герман Степанович  male           1935  U.S.S.R/Russia   \n",
       "2      Glenn, John H., Jr.  male           1921            U.S.   \n",
       "3      Glenn, John H., Jr.  male           1921            U.S.   \n",
       "4      Carpenter, M. Scott  male           1925            U.S.   \n",
       "\n",
       "  military_civilian               selection  ...    mission_title  \\\n",
       "0          military                  TsPK-1  ...         Vostok 1   \n",
       "1          military                  TsPK-1  ...         Vostok 2   \n",
       "2          military  NASA Astronaut Group 1  ...             MA-6   \n",
       "3          military  NASA Astronaut Group 2  ...           STS-95   \n",
       "4          military                 NASA- 1  ...  Mercury-Atlas 7   \n",
       "\n",
       "    ascend_shuttle         in_orbit  descend_shuttle  hours_mission  \\\n",
       "0         Vostok 1         Vostok 2         Vostok 3           1.77   \n",
       "1         Vostok 2         Vostok 2         Vostok 2          25.00   \n",
       "2             MA-6             MA-6             MA-6           5.00   \n",
       "3           STS-95           STS-95           STS-95         213.00   \n",
       "4  Mercury-Atlas 7  Mercury-Atlas 7  Mercury-Atlas 7           5.00   \n",
       "\n",
       "  total_hrs_sum field21 eva_hrs_mission total_eva_hrs  age  \n",
       "0          1.77       0             0.0           0.0   27  \n",
       "1         25.30       0             0.0           0.0   26  \n",
       "2        218.00       0             0.0           0.0   41  \n",
       "3        218.00       0             0.0           0.0   77  \n",
       "4          5.00       0             0.0           0.0   37  \n",
       "\n",
       "[5 rows x 25 columns]"
      ]
     },
     "execution_count": 119,
     "metadata": {},
     "output_type": "execute_result"
    }
   ],
   "source": [
    "astronauts['age'] = astronauts['year_of_mission'] - astronauts['year_of_birth']\n",
    "astronauts.head()"
   ]
  },
  {
   "cell_type": "code",
   "execution_count": 120,
   "metadata": {
    "slideshow": {
     "slide_type": "subslide"
    }
   },
   "outputs": [
    {
     "data": {
      "text/plain": [
       "count    1277.000000\n",
       "mean       42.913861\n",
       "std         5.819552\n",
       "min        26.000000\n",
       "25%        39.000000\n",
       "50%        42.000000\n",
       "75%        47.000000\n",
       "max        77.000000\n",
       "Name: age, dtype: float64"
      ]
     },
     "execution_count": 120,
     "metadata": {},
     "output_type": "execute_result"
    }
   ],
   "source": [
    "astronauts['age'].describe()"
   ]
  },
  {
   "cell_type": "code",
   "execution_count": null,
   "metadata": {},
   "outputs": [],
   "source": []
  },
  {
   "cell_type": "code",
   "execution_count": null,
   "metadata": {},
   "outputs": [],
   "source": []
  },
  {
   "cell_type": "code",
   "execution_count": null,
   "metadata": {},
   "outputs": [],
   "source": []
  },
  {
   "cell_type": "code",
   "execution_count": 122,
   "metadata": {},
   "outputs": [
    {
     "data": {
      "text/html": [
       "<div>\n",
       "<style scoped>\n",
       "    .dataframe tbody tr th:only-of-type {\n",
       "        vertical-align: middle;\n",
       "    }\n",
       "\n",
       "    .dataframe tbody tr th {\n",
       "        vertical-align: top;\n",
       "    }\n",
       "\n",
       "    .dataframe thead th {\n",
       "        text-align: right;\n",
       "    }\n",
       "</style>\n",
       "<table border=\"1\" class=\"dataframe\">\n",
       "  <thead>\n",
       "    <tr style=\"text-align: right;\">\n",
       "      <th></th>\n",
       "      <th>name</th>\n",
       "      <th>age</th>\n",
       "      <th>year_of_mission</th>\n",
       "    </tr>\n",
       "  </thead>\n",
       "  <tbody>\n",
       "    <tr>\n",
       "      <th>3</th>\n",
       "      <td>Glenn, John H., Jr.</td>\n",
       "      <td>77</td>\n",
       "      <td>1998</td>\n",
       "    </tr>\n",
       "    <tr>\n",
       "      <th>230</th>\n",
       "      <td>Musgrave, Franklin Story</td>\n",
       "      <td>61</td>\n",
       "      <td>1996</td>\n",
       "    </tr>\n",
       "    <tr>\n",
       "      <th>998</th>\n",
       "      <td>Tito, Dennis Anthony</td>\n",
       "      <td>61</td>\n",
       "      <td>2001</td>\n",
       "    </tr>\n",
       "    <tr>\n",
       "      <th>1096</th>\n",
       "      <td>Simonyi, Charles (Karoly)</td>\n",
       "      <td>61</td>\n",
       "      <td>2009</td>\n",
       "    </tr>\n",
       "    <tr>\n",
       "      <th>1118</th>\n",
       "      <td>Nespoli, Paolo A.</td>\n",
       "      <td>60</td>\n",
       "      <td>2017</td>\n",
       "    </tr>\n",
       "  </tbody>\n",
       "</table>\n",
       "</div>"
      ],
      "text/plain": [
       "                           name  age  year_of_mission\n",
       "3           Glenn, John H., Jr.   77             1998\n",
       "230    Musgrave, Franklin Story   61             1996\n",
       "998        Tito, Dennis Anthony   61             2001\n",
       "1096  Simonyi, Charles (Karoly)   61             2009\n",
       "1118          Nespoli, Paolo A.   60             2017"
      ]
     },
     "execution_count": 122,
     "metadata": {},
     "output_type": "execute_result"
    }
   ],
   "source": [
    "# Find the name of the 5 oldest astronauts\n",
    "astronauts[['name', 'age', 'year_of_mission']].sort_values(by='age', ascending=False).head(5)"
   ]
  },
  {
   "cell_type": "code",
   "execution_count": null,
   "metadata": {},
   "outputs": [],
   "source": []
  },
  {
   "cell_type": "code",
   "execution_count": null,
   "metadata": {},
   "outputs": [],
   "source": []
  },
  {
   "cell_type": "code",
   "execution_count": null,
   "metadata": {},
   "outputs": [],
   "source": []
  },
  {
   "cell_type": "code",
   "execution_count": null,
   "metadata": {},
   "outputs": [],
   "source": []
  },
  {
   "cell_type": "markdown",
   "metadata": {
    "slideshow": {
     "slide_type": "slide"
    }
   },
   "source": [
    "## Data visualisation with `seaborn`\n",
    "\n",
    "The `seaborn` documentation has a great [examples gallery](https://seaborn.pydata.org/examples/index.html). Let's visualise some of the astronauts data.\n",
    "\n",
    "# 🚩🚩🚩 Example 5\n",
    "\n",
    "We want to show the **distribution** of **military vs. civilian** *and* **male vs. female** astronauts over the years."
   ]
  },
  {
   "cell_type": "code",
   "execution_count": 125,
   "metadata": {},
   "outputs": [
    {
     "data": {
      "image/png": "[encoded data removed]",
      "text/plain": [
       "<Figure size 504x432 with 1 Axes>"
      ]
     },
     "metadata": {},
     "output_type": "display_data"
    }
   ],
   "source": [
    "import seaborn as sns\n",
    "import matplotlib.pyplot as plt\n",
    "\n",
    "sns.set_theme(style=\"ticks\")\n",
    "\n",
    "# Initialize the figure with a logarithmic x axis\n",
    "f, ax = plt.subplots(figsize=(7, 6))\n",
    "ax.set_xscale(\"log\")\n",
    "\n",
    "# Load the example planets dataset\n",
    "planets = sns.load_dataset(\"planets\")\n",
    "\n",
    "# Plot the orbital period with horizontal boxes\n",
    "sns.boxplot(x=\"distance\", y=\"method\", data=planets,\n",
    "            whis=[0, 100], width=.6, palette=\"vlag\")\n",
    "\n",
    "# Add in points to show each observation\n",
    "sns.stripplot(x=\"distance\", y=\"method\", data=planets,\n",
    "              size=4, color=\".3\", linewidth=0)\n",
    "\n",
    "# Tweak the visual presentation\n",
    "ax.xaxis.grid(True)\n",
    "ax.set(ylabel=\"\")\n",
    "sns.despine(trim=True, left=True)"
   ]
  },
  {
   "cell_type": "code",
   "execution_count": null,
   "metadata": {},
   "outputs": [],
   "source": []
  },
  {
   "cell_type": "code",
   "execution_count": null,
   "metadata": {},
   "outputs": [],
   "source": []
  },
  {
   "cell_type": "code",
   "execution_count": 126,
   "metadata": {
    "scrolled": false
   },
   "outputs": [
    {
     "data": {
      "text/plain": [
       "<seaborn.axisgrid.FacetGrid at 0x7fd80d068040>"
      ]
     },
     "execution_count": 126,
     "metadata": {},
     "output_type": "execute_result"
    },
    {
     "data": {
      "image/png": "[encoded data removed]",
      "text/plain": [
       "<Figure size 941.975x432 with 2 Axes>"
      ]
     },
     "metadata": {},
     "output_type": "display_data"
    }
   ],
   "source": [
    "import seaborn as sns\n",
    "\n",
    "# Plot histograms using catplot\n",
    "grid = sns.catplot(data=astronauts,           # the dataframe\n",
    "                   x='year_of_mission',       # the x-axis (the bins)\n",
    "                   col='military_civilian',   # separate plots for each value in the column 'military_civilian'\n",
    "                   hue='sex',                 # different colours (hues) for male and female astronauts\n",
    "                   kind='count',              # the type of plot (countplot, or a histogram)\n",
    "                   legend=True,               # display the legend for the different colours\n",
    "                   col_wrap=1,                # start new row of subplots after just 1 plot\n",
    "                   height=3,                  # height of each plot\n",
    "                   aspect=4)                  # aspect ratio of each plot (width/height)\n",
    "\n",
    "# Rotate the tick labels so we can read them all\n",
    "grid.set_xticklabels(rotation=45,\n",
    "                     verticalalignment='top',\n",
    "                     horizontalalignment='right')"
   ]
  },
  {
   "cell_type": "markdown",
   "metadata": {
    "slideshow": {
     "slide_type": "subslide"
    }
   },
   "source": [
    "Let's look at flights to Mir and to the International Space Station."
   ]
  },
  {
   "cell_type": "code",
   "execution_count": 130,
   "metadata": {
    "scrolled": false
   },
   "outputs": [
    {
     "data": {
      "application/javascript": [
       "/* Put everything inside the global mpl namespace */\n",
       "/* global mpl */\n",
       "window.mpl = {};\n",
       "\n",
       "mpl.get_websocket_type = function () {\n",
       "    if (typeof WebSocket !== 'undefined') {\n",
       "        return WebSocket;\n",
       "    } else if (typeof MozWebSocket !== 'undefined') {\n",
       "        return MozWebSocket;\n",
       "    } else {\n",
       "        alert(\n",
       "            'Your browser does not have WebSocket support. ' +\n",
       "                'Please try Chrome, Safari or Firefox ≥ 6. ' +\n",
       "                'Firefox 4 and 5 are also supported but you ' +\n",
       "                'have to enable WebSockets in about:config.'\n",
       "        );\n",
       "    }\n",
       "};\n",
       "\n",
       "mpl.figure = function (figure_id, websocket, ondownload, parent_element) {\n",
       "    this.id = figure_id;\n",
       "\n",
       "    this.ws = websocket;\n",
       "\n",
       "    this.supports_binary = this.ws.binaryType !== undefined;\n",
       "\n",
       "    if (!this.supports_binary) {\n",
       "        var warnings = document.getElementById('mpl-warnings');\n",
       "        if (warnings) {\n",
       "            warnings.style.display = 'block';\n",
       "            warnings.textContent =\n",
       "                'This browser does not support binary websocket messages. ' +\n",
       "                'Performance may be slow.';\n",
       "        }\n",
       "    }\n",
       "\n",
       "    this.imageObj = new Image();\n",
       "\n",
       "    this.context = undefined;\n",
       "    this.message = undefined;\n",
       "    this.canvas = undefined;\n",
       "    this.rubberband_canvas = undefined;\n",
       "    this.rubberband_context = undefined;\n",
       "    this.format_dropdown = undefined;\n",
       "\n",
       "    this.image_mode = 'full';\n",
       "\n",
       "    this.root = document.createElement('div');\n",
       "    this.root.setAttribute('style', 'display: inline-block');\n",
       "    this._root_extra_style(this.root);\n",
       "\n",
       "    parent_element.appendChild(this.root);\n",
       "\n",
       "    this._init_header(this);\n",
       "    this._init_canvas(this);\n",
       "    this._init_toolbar(this);\n",
       "\n",
       "    var fig = this;\n",
       "\n",
       "    this.waiting = false;\n",
       "\n",
       "    this.ws.onopen = function () {\n",
       "        fig.send_message('supports_binary', { value: fig.supports_binary });\n",
       "        fig.send_message('send_image_mode', {});\n",
       "        if (fig.ratio !== 1) {\n",
       "            fig.send_message('set_device_pixel_ratio', {\n",
       "                device_pixel_ratio: fig.ratio,\n",
       "            });\n",
       "        }\n",
       "        fig.send_message('refresh', {});\n",
       "    };\n",
       "\n",
       "    this.imageObj.onload = function () {\n",
       "        if (fig.image_mode === 'full') {\n",
       "            // Full images could contain transparency (where diff images\n",
       "            // almost always do), so we need to clear the canvas so that\n",
       "            // there is no ghosting.\n",
       "            fig.context.clearRect(0, 0, fig.canvas.width, fig.canvas.height);\n",
       "        }\n",
       "        fig.context.drawImage(fig.imageObj, 0, 0);\n",
       "    };\n",
       "\n",
       "    this.imageObj.onunload = function () {\n",
       "        fig.ws.close();\n",
       "    };\n",
       "\n",
       "    this.ws.onmessage = this._make_on_message_function(this);\n",
       "\n",
       "    this.ondownload = ondownload;\n",
       "};\n",
       "\n",
       "mpl.figure.prototype._init_header = function () {\n",
       "    var titlebar = document.createElement('div');\n",
       "    titlebar.classList =\n",
       "        'ui-dialog-titlebar ui-widget-header ui-corner-all ui-helper-clearfix';\n",
       "    var titletext = document.createElement('div');\n",
       "    titletext.classList = 'ui-dialog-title';\n",
       "    titletext.setAttribute(\n",
       "        'style',\n",
       "        'width: 100%; text-align: center; padding: 3px;'\n",
       "    );\n",
       "    titlebar.appendChild(titletext);\n",
       "    this.root.appendChild(titlebar);\n",
       "    this.header = titletext;\n",
       "};\n",
       "\n",
       "mpl.figure.prototype._canvas_extra_style = function (_canvas_div) {};\n",
       "\n",
       "mpl.figure.prototype._root_extra_style = function (_canvas_div) {};\n",
       "\n",
       "mpl.figure.prototype._init_canvas = function () {\n",
       "    var fig = this;\n",
       "\n",
       "    var canvas_div = (this.canvas_div = document.createElement('div'));\n",
       "    canvas_div.setAttribute(\n",
       "        'style',\n",
       "        'border: 1px solid #ddd;' +\n",
       "            'box-sizing: content-box;' +\n",
       "            'clear: both;' +\n",
       "            'min-height: 1px;' +\n",
       "            'min-width: 1px;' +\n",
       "            'outline: 0;' +\n",
       "            'overflow: hidden;' +\n",
       "            'position: relative;' +\n",
       "            'resize: both;'\n",
       "    );\n",
       "\n",
       "    function on_keyboard_event_closure(name) {\n",
       "        return function (event) {\n",
       "            return fig.key_event(event, name);\n",
       "        };\n",
       "    }\n",
       "\n",
       "    canvas_div.addEventListener(\n",
       "        'keydown',\n",
       "        on_keyboard_event_closure('key_press')\n",
       "    );\n",
       "    canvas_div.addEventListener(\n",
       "        'keyup',\n",
       "        on_keyboard_event_closure('key_release')\n",
       "    );\n",
       "\n",
       "    this._canvas_extra_style(canvas_div);\n",
       "    this.root.appendChild(canvas_div);\n",
       "\n",
       "    var canvas = (this.canvas = document.createElement('canvas'));\n",
       "    canvas.classList.add('mpl-canvas');\n",
       "    canvas.setAttribute('style', 'box-sizing: content-box;');\n",
       "\n",
       "    this.context = canvas.getContext('2d');\n",
       "\n",
       "    var backingStore =\n",
       "        this.context.backingStorePixelRatio ||\n",
       "        this.context.webkitBackingStorePixelRatio ||\n",
       "        this.context.mozBackingStorePixelRatio ||\n",
       "        this.context.msBackingStorePixelRatio ||\n",
       "        this.context.oBackingStorePixelRatio ||\n",
       "        this.context.backingStorePixelRatio ||\n",
       "        1;\n",
       "\n",
       "    this.ratio = (window.devicePixelRatio || 1) / backingStore;\n",
       "\n",
       "    var rubberband_canvas = (this.rubberband_canvas = document.createElement(\n",
       "        'canvas'\n",
       "    ));\n",
       "    rubberband_canvas.setAttribute(\n",
       "        'style',\n",
       "        'box-sizing: content-box; position: absolute; left: 0; top: 0; z-index: 1;'\n",
       "    );\n",
       "\n",
       "    // Apply a ponyfill if ResizeObserver is not implemented by browser.\n",
       "    if (this.ResizeObserver === undefined) {\n",
       "        if (window.ResizeObserver !== undefined) {\n",
       "            this.ResizeObserver = window.ResizeObserver;\n",
       "        } else {\n",
       "            var obs = _JSXTOOLS_RESIZE_OBSERVER({});\n",
       "            this.ResizeObserver = obs.ResizeObserver;\n",
       "        }\n",
       "    }\n",
       "\n",
       "    this.resizeObserverInstance = new this.ResizeObserver(function (entries) {\n",
       "        var nentries = entries.length;\n",
       "        for (var i = 0; i < nentries; i++) {\n",
       "            var entry = entries[i];\n",
       "            var width, height;\n",
       "            if (entry.contentBoxSize) {\n",
       "                if (entry.contentBoxSize instanceof Array) {\n",
       "                    // Chrome 84 implements new version of spec.\n",
       "                    width = entry.contentBoxSize[0].inlineSize;\n",
       "                    height = entry.contentBoxSize[0].blockSize;\n",
       "                } else {\n",
       "                    // Firefox implements old version of spec.\n",
       "                    width = entry.contentBoxSize.inlineSize;\n",
       "                    height = entry.contentBoxSize.blockSize;\n",
       "                }\n",
       "            } else {\n",
       "                // Chrome <84 implements even older version of spec.\n",
       "                width = entry.contentRect.width;\n",
       "                height = entry.contentRect.height;\n",
       "            }\n",
       "\n",
       "            // Keep the size of the canvas and rubber band canvas in sync with\n",
       "            // the canvas container.\n",
       "            if (entry.devicePixelContentBoxSize) {\n",
       "                // Chrome 84 implements new version of spec.\n",
       "                canvas.setAttribute(\n",
       "                    'width',\n",
       "                    entry.devicePixelContentBoxSize[0].inlineSize\n",
       "                );\n",
       "                canvas.setAttribute(\n",
       "                    'height',\n",
       "                    entry.devicePixelContentBoxSize[0].blockSize\n",
       "                );\n",
       "            } else {\n",
       "                canvas.setAttribute('width', width * fig.ratio);\n",
       "                canvas.setAttribute('height', height * fig.ratio);\n",
       "            }\n",
       "            canvas.setAttribute(\n",
       "                'style',\n",
       "                'width: ' + width + 'px; height: ' + height + 'px;'\n",
       "            );\n",
       "\n",
       "            rubberband_canvas.setAttribute('width', width);\n",
       "            rubberband_canvas.setAttribute('height', height);\n",
       "\n",
       "            // And update the size in Python. We ignore the initial 0/0 size\n",
       "            // that occurs as the element is placed into the DOM, which should\n",
       "            // otherwise not happen due to the minimum size styling.\n",
       "            if (fig.ws.readyState == 1 && width != 0 && height != 0) {\n",
       "                fig.request_resize(width, height);\n",
       "            }\n",
       "        }\n",
       "    });\n",
       "    this.resizeObserverInstance.observe(canvas_div);\n",
       "\n",
       "    function on_mouse_event_closure(name) {\n",
       "        return function (event) {\n",
       "            return fig.mouse_event(event, name);\n",
       "        };\n",
       "    }\n",
       "\n",
       "    rubberband_canvas.addEventListener(\n",
       "        'mousedown',\n",
       "        on_mouse_event_closure('button_press')\n",
       "    );\n",
       "    rubberband_canvas.addEventListener(\n",
       "        'mouseup',\n",
       "        on_mouse_event_closure('button_release')\n",
       "    );\n",
       "    rubberband_canvas.addEventListener(\n",
       "        'dblclick',\n",
       "        on_mouse_event_closure('dblclick')\n",
       "    );\n",
       "    // Throttle sequential mouse events to 1 every 20ms.\n",
       "    rubberband_canvas.addEventListener(\n",
       "        'mousemove',\n",
       "        on_mouse_event_closure('motion_notify')\n",
       "    );\n",
       "\n",
       "    rubberband_canvas.addEventListener(\n",
       "        'mouseenter',\n",
       "        on_mouse_event_closure('figure_enter')\n",
       "    );\n",
       "    rubberband_canvas.addEventListener(\n",
       "        'mouseleave',\n",
       "        on_mouse_event_closure('figure_leave')\n",
       "    );\n",
       "\n",
       "    canvas_div.addEventListener('wheel', function (event) {\n",
       "        if (event.deltaY < 0) {\n",
       "            event.step = 1;\n",
       "        } else {\n",
       "            event.step = -1;\n",
       "        }\n",
       "        on_mouse_event_closure('scroll')(event);\n",
       "    });\n",
       "\n",
       "    canvas_div.appendChild(canvas);\n",
       "    canvas_div.appendChild(rubberband_canvas);\n",
       "\n",
       "    this.rubberband_context = rubberband_canvas.getContext('2d');\n",
       "    this.rubberband_context.strokeStyle = '#000000';\n",
       "\n",
       "    this._resize_canvas = function (width, height, forward) {\n",
       "        if (forward) {\n",
       "            canvas_div.style.width = width + 'px';\n",
       "            canvas_div.style.height = height + 'px';\n",
       "        }\n",
       "    };\n",
       "\n",
       "    // Disable right mouse context menu.\n",
       "    this.rubberband_canvas.addEventListener('contextmenu', function (_e) {\n",
       "        event.preventDefault();\n",
       "        return false;\n",
       "    });\n",
       "\n",
       "    function set_focus() {\n",
       "        canvas.focus();\n",
       "        canvas_div.focus();\n",
       "    }\n",
       "\n",
       "    window.setTimeout(set_focus, 100);\n",
       "};\n",
       "\n",
       "mpl.figure.prototype._init_toolbar = function () {\n",
       "    var fig = this;\n",
       "\n",
       "    var toolbar = document.createElement('div');\n",
       "    toolbar.classList = 'mpl-toolbar';\n",
       "    this.root.appendChild(toolbar);\n",
       "\n",
       "    function on_click_closure(name) {\n",
       "        return function (_event) {\n",
       "            return fig.toolbar_button_onclick(name);\n",
       "        };\n",
       "    }\n",
       "\n",
       "    function on_mouseover_closure(tooltip) {\n",
       "        return function (event) {\n",
       "            if (!event.currentTarget.disabled) {\n",
       "                return fig.toolbar_button_onmouseover(tooltip);\n",
       "            }\n",
       "        };\n",
       "    }\n",
       "\n",
       "    fig.buttons = {};\n",
       "    var buttonGroup = document.createElement('div');\n",
       "    buttonGroup.classList = 'mpl-button-group';\n",
       "    for (var toolbar_ind in mpl.toolbar_items) {\n",
       "        var name = mpl.toolbar_items[toolbar_ind][0];\n",
       "        var tooltip = mpl.toolbar_items[toolbar_ind][1];\n",
       "        var image = mpl.toolbar_items[toolbar_ind][2];\n",
       "        var method_name = mpl.toolbar_items[toolbar_ind][3];\n",
       "\n",
       "        if (!name) {\n",
       "            /* Instead of a spacer, we start a new button group. */\n",
       "            if (buttonGroup.hasChildNodes()) {\n",
       "                toolbar.appendChild(buttonGroup);\n",
       "            }\n",
       "            buttonGroup = document.createElement('div');\n",
       "            buttonGroup.classList = 'mpl-button-group';\n",
       "            continue;\n",
       "        }\n",
       "\n",
       "        var button = (fig.buttons[name] = document.createElement('button'));\n",
       "        button.classList = 'mpl-widget';\n",
       "        button.setAttribute('role', 'button');\n",
       "        button.setAttribute('aria-disabled', 'false');\n",
       "        button.addEventListener('click', on_click_closure(method_name));\n",
       "        button.addEventListener('mouseover', on_mouseover_closure(tooltip));\n",
       "\n",
       "        var icon_img = document.createElement('img');\n",
       "        icon_img.src = '_images/' + image + '.png';\n",
       "        icon_img.srcset = '_images/' + image + '_large.png 2x';\n",
       "        icon_img.alt = tooltip;\n",
       "        button.appendChild(icon_img);\n",
       "\n",
       "        buttonGroup.appendChild(button);\n",
       "    }\n",
       "\n",
       "    if (buttonGroup.hasChildNodes()) {\n",
       "        toolbar.appendChild(buttonGroup);\n",
       "    }\n",
       "\n",
       "    var fmt_picker = document.createElement('select');\n",
       "    fmt_picker.classList = 'mpl-widget';\n",
       "    toolbar.appendChild(fmt_picker);\n",
       "    this.format_dropdown = fmt_picker;\n",
       "\n",
       "    for (var ind in mpl.extensions) {\n",
       "        var fmt = mpl.extensions[ind];\n",
       "        var option = document.createElement('option');\n",
       "        option.selected = fmt === mpl.default_extension;\n",
       "        option.innerHTML = fmt;\n",
       "        fmt_picker.appendChild(option);\n",
       "    }\n",
       "\n",
       "    var status_bar = document.createElement('span');\n",
       "    status_bar.classList = 'mpl-message';\n",
       "    toolbar.appendChild(status_bar);\n",
       "    this.message = status_bar;\n",
       "};\n",
       "\n",
       "mpl.figure.prototype.request_resize = function (x_pixels, y_pixels) {\n",
       "    // Request matplotlib to resize the figure. Matplotlib will then trigger a resize in the client,\n",
       "    // which will in turn request a refresh of the image.\n",
       "    this.send_message('resize', { width: x_pixels, height: y_pixels });\n",
       "};\n",
       "\n",
       "mpl.figure.prototype.send_message = function (type, properties) {\n",
       "    properties['type'] = type;\n",
       "    properties['figure_id'] = this.id;\n",
       "    this.ws.send(JSON.stringify(properties));\n",
       "};\n",
       "\n",
       "mpl.figure.prototype.send_draw_message = function () {\n",
       "    if (!this.waiting) {\n",
       "        this.waiting = true;\n",
       "        this.ws.send(JSON.stringify({ type: 'draw', figure_id: this.id }));\n",
       "    }\n",
       "};\n",
       "\n",
       "mpl.figure.prototype.handle_save = function (fig, _msg) {\n",
       "    var format_dropdown = fig.format_dropdown;\n",
       "    var format = format_dropdown.options[format_dropdown.selectedIndex].value;\n",
       "    fig.ondownload(fig, format);\n",
       "};\n",
       "\n",
       "mpl.figure.prototype.handle_resize = function (fig, msg) {\n",
       "    var size = msg['size'];\n",
       "    if (size[0] !== fig.canvas.width || size[1] !== fig.canvas.height) {\n",
       "        fig._resize_canvas(size[0], size[1], msg['forward']);\n",
       "        fig.send_message('refresh', {});\n",
       "    }\n",
       "};\n",
       "\n",
       "mpl.figure.prototype.handle_rubberband = function (fig, msg) {\n",
       "    var x0 = msg['x0'] / fig.ratio;\n",
       "    var y0 = (fig.canvas.height - msg['y0']) / fig.ratio;\n",
       "    var x1 = msg['x1'] / fig.ratio;\n",
       "    var y1 = (fig.canvas.height - msg['y1']) / fig.ratio;\n",
       "    x0 = Math.floor(x0) + 0.5;\n",
       "    y0 = Math.floor(y0) + 0.5;\n",
       "    x1 = Math.floor(x1) + 0.5;\n",
       "    y1 = Math.floor(y1) + 0.5;\n",
       "    var min_x = Math.min(x0, x1);\n",
       "    var min_y = Math.min(y0, y1);\n",
       "    var width = Math.abs(x1 - x0);\n",
       "    var height = Math.abs(y1 - y0);\n",
       "\n",
       "    fig.rubberband_context.clearRect(\n",
       "        0,\n",
       "        0,\n",
       "        fig.canvas.width / fig.ratio,\n",
       "        fig.canvas.height / fig.ratio\n",
       "    );\n",
       "\n",
       "    fig.rubberband_context.strokeRect(min_x, min_y, width, height);\n",
       "};\n",
       "\n",
       "mpl.figure.prototype.handle_figure_label = function (fig, msg) {\n",
       "    // Updates the figure title.\n",
       "    fig.header.textContent = msg['label'];\n",
       "};\n",
       "\n",
       "mpl.figure.prototype.handle_cursor = function (fig, msg) {\n",
       "    fig.rubberband_canvas.style.cursor = msg['cursor'];\n",
       "};\n",
       "\n",
       "mpl.figure.prototype.handle_message = function (fig, msg) {\n",
       "    fig.message.textContent = msg['message'];\n",
       "};\n",
       "\n",
       "mpl.figure.prototype.handle_draw = function (fig, _msg) {\n",
       "    // Request the server to send over a new figure.\n",
       "    fig.send_draw_message();\n",
       "};\n",
       "\n",
       "mpl.figure.prototype.handle_image_mode = function (fig, msg) {\n",
       "    fig.image_mode = msg['mode'];\n",
       "};\n",
       "\n",
       "mpl.figure.prototype.handle_history_buttons = function (fig, msg) {\n",
       "    for (var key in msg) {\n",
       "        if (!(key in fig.buttons)) {\n",
       "            continue;\n",
       "        }\n",
       "        fig.buttons[key].disabled = !msg[key];\n",
       "        fig.buttons[key].setAttribute('aria-disabled', !msg[key]);\n",
       "    }\n",
       "};\n",
       "\n",
       "mpl.figure.prototype.handle_navigate_mode = function (fig, msg) {\n",
       "    if (msg['mode'] === 'PAN') {\n",
       "        fig.buttons['Pan'].classList.add('active');\n",
       "        fig.buttons['Zoom'].classList.remove('active');\n",
       "    } else if (msg['mode'] === 'ZOOM') {\n",
       "        fig.buttons['Pan'].classList.remove('active');\n",
       "        fig.buttons['Zoom'].classList.add('active');\n",
       "    } else {\n",
       "        fig.buttons['Pan'].classList.remove('active');\n",
       "        fig.buttons['Zoom'].classList.remove('active');\n",
       "    }\n",
       "};\n",
       "\n",
       "mpl.figure.prototype.updated_canvas_event = function () {\n",
       "    // Called whenever the canvas gets updated.\n",
       "    this.send_message('ack', {});\n",
       "};\n",
       "\n",
       "// A function to construct a web socket function for onmessage handling.\n",
       "// Called in the figure constructor.\n",
       "mpl.figure.prototype._make_on_message_function = function (fig) {\n",
       "    return function socket_on_message(evt) {\n",
       "        if (evt.data instanceof Blob) {\n",
       "            var img = evt.data;\n",
       "            if (img.type !== 'image/png') {\n",
       "                /* FIXME: We get \"Resource interpreted as Image but\n",
       "                 * transferred with MIME type text/plain:\" errors on\n",
       "                 * Chrome.  But how to set the MIME type?  It doesn't seem\n",
       "                 * to be part of the websocket stream */\n",
       "                img.type = 'image/png';\n",
       "            }\n",
       "\n",
       "            /* Free the memory for the previous frames */\n",
       "            if (fig.imageObj.src) {\n",
       "                (window.URL || window.webkitURL).revokeObjectURL(\n",
       "                    fig.imageObj.src\n",
       "                );\n",
       "            }\n",
       "\n",
       "            fig.imageObj.src = (window.URL || window.webkitURL).createObjectURL(\n",
       "                img\n",
       "            );\n",
       "            fig.updated_canvas_event();\n",
       "            fig.waiting = false;\n",
       "            return;\n",
       "        } else if (\n",
       "            typeof evt.data === 'string' &&\n",
       "            evt.data.slice(0, 21) === 'data:image/png;base64'\n",
       "        ) {\n",
       "            fig.imageObj.src = evt.data;\n",
       "            fig.updated_canvas_event();\n",
       "            fig.waiting = false;\n",
       "            return;\n",
       "        }\n",
       "\n",
       "        var msg = JSON.parse(evt.data);\n",
       "        var msg_type = msg['type'];\n",
       "\n",
       "        // Call the  \"handle_{type}\" callback, which takes\n",
       "        // the figure and JSON message as its only arguments.\n",
       "        try {\n",
       "            var callback = fig['handle_' + msg_type];\n",
       "        } catch (e) {\n",
       "            console.log(\n",
       "                \"No handler for the '\" + msg_type + \"' message type: \",\n",
       "                msg\n",
       "            );\n",
       "            return;\n",
       "        }\n",
       "\n",
       "        if (callback) {\n",
       "            try {\n",
       "                // console.log(\"Handling '\" + msg_type + \"' message: \", msg);\n",
       "                callback(fig, msg);\n",
       "            } catch (e) {\n",
       "                console.log(\n",
       "                    \"Exception inside the 'handler_\" + msg_type + \"' callback:\",\n",
       "                    e,\n",
       "                    e.stack,\n",
       "                    msg\n",
       "                );\n",
       "            }\n",
       "        }\n",
       "    };\n",
       "};\n",
       "\n",
       "// from https://stackoverflow.com/questions/1114465/getting-mouse-location-in-canvas\n",
       "mpl.findpos = function (e) {\n",
       "    //this section is from http://www.quirksmode.org/js/events_properties.html\n",
       "    var targ;\n",
       "    if (!e) {\n",
       "        e = window.event;\n",
       "    }\n",
       "    if (e.target) {\n",
       "        targ = e.target;\n",
       "    } else if (e.srcElement) {\n",
       "        targ = e.srcElement;\n",
       "    }\n",
       "    if (targ.nodeType === 3) {\n",
       "        // defeat Safari bug\n",
       "        targ = targ.parentNode;\n",
       "    }\n",
       "\n",
       "    // pageX,Y are the mouse positions relative to the document\n",
       "    var boundingRect = targ.getBoundingClientRect();\n",
       "    var x = e.pageX - (boundingRect.left + document.body.scrollLeft);\n",
       "    var y = e.pageY - (boundingRect.top + document.body.scrollTop);\n",
       "\n",
       "    return { x: x, y: y };\n",
       "};\n",
       "\n",
       "/*\n",
       " * return a copy of an object with only non-object keys\n",
       " * we need this to avoid circular references\n",
       " * https://stackoverflow.com/a/24161582/3208463\n",
       " */\n",
       "function simpleKeys(original) {\n",
       "    return Object.keys(original).reduce(function (obj, key) {\n",
       "        if (typeof original[key] !== 'object') {\n",
       "            obj[key] = original[key];\n",
       "        }\n",
       "        return obj;\n",
       "    }, {});\n",
       "}\n",
       "\n",
       "mpl.figure.prototype.mouse_event = function (event, name) {\n",
       "    var canvas_pos = mpl.findpos(event);\n",
       "\n",
       "    if (name === 'button_press') {\n",
       "        this.canvas.focus();\n",
       "        this.canvas_div.focus();\n",
       "    }\n",
       "\n",
       "    var x = canvas_pos.x * this.ratio;\n",
       "    var y = canvas_pos.y * this.ratio;\n",
       "\n",
       "    this.send_message(name, {\n",
       "        x: x,\n",
       "        y: y,\n",
       "        button: event.button,\n",
       "        step: event.step,\n",
       "        guiEvent: simpleKeys(event),\n",
       "    });\n",
       "\n",
       "    /* This prevents the web browser from automatically changing to\n",
       "     * the text insertion cursor when the button is pressed.  We want\n",
       "     * to control all of the cursor setting manually through the\n",
       "     * 'cursor' event from matplotlib */\n",
       "    event.preventDefault();\n",
       "    return false;\n",
       "};\n",
       "\n",
       "mpl.figure.prototype._key_event_extra = function (_event, _name) {\n",
       "    // Handle any extra behaviour associated with a key event\n",
       "};\n",
       "\n",
       "mpl.figure.prototype.key_event = function (event, name) {\n",
       "    // Prevent repeat events\n",
       "    if (name === 'key_press') {\n",
       "        if (event.key === this._key) {\n",
       "            return;\n",
       "        } else {\n",
       "            this._key = event.key;\n",
       "        }\n",
       "    }\n",
       "    if (name === 'key_release') {\n",
       "        this._key = null;\n",
       "    }\n",
       "\n",
       "    var value = '';\n",
       "    if (event.ctrlKey && event.key !== 'Control') {\n",
       "        value += 'ctrl+';\n",
       "    }\n",
       "    else if (event.altKey && event.key !== 'Alt') {\n",
       "        value += 'alt+';\n",
       "    }\n",
       "    else if (event.shiftKey && event.key !== 'Shift') {\n",
       "        value += 'shift+';\n",
       "    }\n",
       "\n",
       "    value += 'k' + event.key;\n",
       "\n",
       "    this._key_event_extra(event, name);\n",
       "\n",
       "    this.send_message(name, { key: value, guiEvent: simpleKeys(event) });\n",
       "    return false;\n",
       "};\n",
       "\n",
       "mpl.figure.prototype.toolbar_button_onclick = function (name) {\n",
       "    if (name === 'download') {\n",
       "        this.handle_save(this, null);\n",
       "    } else {\n",
       "        this.send_message('toolbar_button', { name: name });\n",
       "    }\n",
       "};\n",
       "\n",
       "mpl.figure.prototype.toolbar_button_onmouseover = function (tooltip) {\n",
       "    this.message.textContent = tooltip;\n",
       "};\n",
       "\n",
       "///////////////// REMAINING CONTENT GENERATED BY embed_js.py /////////////////\n",
       "// prettier-ignore\n",
       "var _JSXTOOLS_RESIZE_OBSERVER=function(A){var t,i=new WeakMap,n=new WeakMap,a=new WeakMap,r=new WeakMap,o=new Set;function s(e){if(!(this instanceof s))throw new TypeError(\"Constructor requires 'new' operator\");i.set(this,e)}function h(){throw new TypeError(\"Function is not a constructor\")}function c(e,t,i,n){e=0 in arguments?Number(arguments[0]):0,t=1 in arguments?Number(arguments[1]):0,i=2 in arguments?Number(arguments[2]):0,n=3 in arguments?Number(arguments[3]):0,this.right=(this.x=this.left=e)+(this.width=i),this.bottom=(this.y=this.top=t)+(this.height=n),Object.freeze(this)}function d(){t=requestAnimationFrame(d);var s=new WeakMap,p=new Set;o.forEach((function(t){r.get(t).forEach((function(i){var r=t instanceof window.SVGElement,o=a.get(t),d=r?0:parseFloat(o.paddingTop),f=r?0:parseFloat(o.paddingRight),l=r?0:parseFloat(o.paddingBottom),u=r?0:parseFloat(o.paddingLeft),g=r?0:parseFloat(o.borderTopWidth),m=r?0:parseFloat(o.borderRightWidth),w=r?0:parseFloat(o.borderBottomWidth),b=u+f,F=d+l,v=(r?0:parseFloat(o.borderLeftWidth))+m,W=g+w,y=r?0:t.offsetHeight-W-t.clientHeight,E=r?0:t.offsetWidth-v-t.clientWidth,R=b+v,z=F+W,M=r?t.width:parseFloat(o.width)-R-E,O=r?t.height:parseFloat(o.height)-z-y;if(n.has(t)){var k=n.get(t);if(k[0]===M&&k[1]===O)return}n.set(t,[M,O]);var S=Object.create(h.prototype);S.target=t,S.contentRect=new c(u,d,M,O),s.has(i)||(s.set(i,[]),p.add(i)),s.get(i).push(S)}))})),p.forEach((function(e){i.get(e).call(e,s.get(e),e)}))}return s.prototype.observe=function(i){if(i instanceof window.Element){r.has(i)||(r.set(i,new Set),o.add(i),a.set(i,window.getComputedStyle(i)));var n=r.get(i);n.has(this)||n.add(this),cancelAnimationFrame(t),t=requestAnimationFrame(d)}},s.prototype.unobserve=function(i){if(i instanceof window.Element&&r.has(i)){var n=r.get(i);n.has(this)&&(n.delete(this),n.size||(r.delete(i),o.delete(i))),n.size||r.delete(i),o.size||cancelAnimationFrame(t)}},A.DOMRectReadOnly=c,A.ResizeObserver=s,A.ResizeObserverEntry=h,A}; // eslint-disable-line\n",
       "mpl.toolbar_items = [[\"Home\", \"Reset original view\", \"fa fa-home icon-home\", \"home\"], [\"Back\", \"Back to previous view\", \"fa fa-arrow-left icon-arrow-left\", \"back\"], [\"Forward\", \"Forward to next view\", \"fa fa-arrow-right icon-arrow-right\", \"forward\"], [\"\", \"\", \"\", \"\"], [\"Pan\", \"Left button pans, Right button zooms\\nx/y fixes axis, CTRL fixes aspect\", \"fa fa-arrows icon-move\", \"pan\"], [\"Zoom\", \"Zoom to rectangle\\nx/y fixes axis\", \"fa fa-square-o icon-check-empty\", \"zoom\"], [\"\", \"\", \"\", \"\"], [\"Download\", \"Download plot\", \"fa fa-floppy-o icon-save\", \"download\"]];\n",
       "\n",
       "mpl.extensions = [\"eps\", \"jpeg\", \"pgf\", \"pdf\", \"png\", \"ps\", \"raw\", \"svg\", \"tif\"];\n",
       "\n",
       "mpl.default_extension = \"png\";/* global mpl */\n",
       "\n",
       "var comm_websocket_adapter = function (comm) {\n",
       "    // Create a \"websocket\"-like object which calls the given IPython comm\n",
       "    // object with the appropriate methods. Currently this is a non binary\n",
       "    // socket, so there is still some room for performance tuning.\n",
       "    var ws = {};\n",
       "\n",
       "    ws.binaryType = comm.kernel.ws.binaryType;\n",
       "    ws.readyState = comm.kernel.ws.readyState;\n",
       "    function updateReadyState(_event) {\n",
       "        if (comm.kernel.ws) {\n",
       "            ws.readyState = comm.kernel.ws.readyState;\n",
       "        } else {\n",
       "            ws.readyState = 3; // Closed state.\n",
       "        }\n",
       "    }\n",
       "    comm.kernel.ws.addEventListener('open', updateReadyState);\n",
       "    comm.kernel.ws.addEventListener('close', updateReadyState);\n",
       "    comm.kernel.ws.addEventListener('error', updateReadyState);\n",
       "\n",
       "    ws.close = function () {\n",
       "        comm.close();\n",
       "    };\n",
       "    ws.send = function (m) {\n",
       "        //console.log('sending', m);\n",
       "        comm.send(m);\n",
       "    };\n",
       "    // Register the callback with on_msg.\n",
       "    comm.on_msg(function (msg) {\n",
       "        //console.log('receiving', msg['content']['data'], msg);\n",
       "        var data = msg['content']['data'];\n",
       "        if (data['blob'] !== undefined) {\n",
       "            data = {\n",
       "                data: new Blob(msg['buffers'], { type: data['blob'] }),\n",
       "            };\n",
       "        }\n",
       "        // Pass the mpl event to the overridden (by mpl) onmessage function.\n",
       "        ws.onmessage(data);\n",
       "    });\n",
       "    return ws;\n",
       "};\n",
       "\n",
       "mpl.mpl_figure_comm = function (comm, msg) {\n",
       "    // This is the function which gets called when the mpl process\n",
       "    // starts-up an IPython Comm through the \"matplotlib\" channel.\n",
       "\n",
       "    var id = msg.content.data.id;\n",
       "    // Get hold of the div created by the display call when the Comm\n",
       "    // socket was opened in Python.\n",
       "    var element = document.getElementById(id);\n",
       "    var ws_proxy = comm_websocket_adapter(comm);\n",
       "\n",
       "    function ondownload(figure, _format) {\n",
       "        window.open(figure.canvas.toDataURL());\n",
       "    }\n",
       "\n",
       "    var fig = new mpl.figure(id, ws_proxy, ondownload, element);\n",
       "\n",
       "    // Call onopen now - mpl needs it, as it is assuming we've passed it a real\n",
       "    // web socket which is closed, not our websocket->open comm proxy.\n",
       "    ws_proxy.onopen();\n",
       "\n",
       "    fig.parent_element = element;\n",
       "    fig.cell_info = mpl.find_output_cell(\"<div id='\" + id + \"'></div>\");\n",
       "    if (!fig.cell_info) {\n",
       "        console.error('Failed to find cell for figure', id, fig);\n",
       "        return;\n",
       "    }\n",
       "    fig.cell_info[0].output_area.element.on(\n",
       "        'cleared',\n",
       "        { fig: fig },\n",
       "        fig._remove_fig_handler\n",
       "    );\n",
       "};\n",
       "\n",
       "mpl.figure.prototype.handle_close = function (fig, msg) {\n",
       "    var width = fig.canvas.width / fig.ratio;\n",
       "    fig.cell_info[0].output_area.element.off(\n",
       "        'cleared',\n",
       "        fig._remove_fig_handler\n",
       "    );\n",
       "    fig.resizeObserverInstance.unobserve(fig.canvas_div);\n",
       "\n",
       "    // Update the output cell to use the data from the current canvas.\n",
       "    fig.push_to_output();\n",
       "    var dataURL = fig.canvas.toDataURL();\n",
       "    // Re-enable the keyboard manager in IPython - without this line, in FF,\n",
       "    // the notebook keyboard shortcuts fail.\n",
       "    IPython.keyboard_manager.enable();\n",
       "    fig.parent_element.innerHTML =\n",
       "        '<img src=\"' + dataURL + '\" width=\"' + width + '\">';\n",
       "    fig.close_ws(fig, msg);\n",
       "};\n",
       "\n",
       "mpl.figure.prototype.close_ws = function (fig, msg) {\n",
       "    fig.send_message('closing', msg);\n",
       "    // fig.ws.close()\n",
       "};\n",
       "\n",
       "mpl.figure.prototype.push_to_output = function (_remove_interactive) {\n",
       "    // Turn the data on the canvas into data in the output cell.\n",
       "    var width = this.canvas.width / this.ratio;\n",
       "    var dataURL = this.canvas.toDataURL();\n",
       "    this.cell_info[1]['text/html'] =\n",
       "        '<img src=\"' + dataURL + '\" width=\"' + width + '\">';\n",
       "};\n",
       "\n",
       "mpl.figure.prototype.updated_canvas_event = function () {\n",
       "    // Tell IPython that the notebook contents must change.\n",
       "    IPython.notebook.set_dirty(true);\n",
       "    this.send_message('ack', {});\n",
       "    var fig = this;\n",
       "    // Wait a second, then push the new image to the DOM so\n",
       "    // that it is saved nicely (might be nice to debounce this).\n",
       "    setTimeout(function () {\n",
       "        fig.push_to_output();\n",
       "    }, 1000);\n",
       "};\n",
       "\n",
       "mpl.figure.prototype._init_toolbar = function () {\n",
       "    var fig = this;\n",
       "\n",
       "    var toolbar = document.createElement('div');\n",
       "    toolbar.classList = 'btn-toolbar';\n",
       "    this.root.appendChild(toolbar);\n",
       "\n",
       "    function on_click_closure(name) {\n",
       "        return function (_event) {\n",
       "            return fig.toolbar_button_onclick(name);\n",
       "        };\n",
       "    }\n",
       "\n",
       "    function on_mouseover_closure(tooltip) {\n",
       "        return function (event) {\n",
       "            if (!event.currentTarget.disabled) {\n",
       "                return fig.toolbar_button_onmouseover(tooltip);\n",
       "            }\n",
       "        };\n",
       "    }\n",
       "\n",
       "    fig.buttons = {};\n",
       "    var buttonGroup = document.createElement('div');\n",
       "    buttonGroup.classList = 'btn-group';\n",
       "    var button;\n",
       "    for (var toolbar_ind in mpl.toolbar_items) {\n",
       "        var name = mpl.toolbar_items[toolbar_ind][0];\n",
       "        var tooltip = mpl.toolbar_items[toolbar_ind][1];\n",
       "        var image = mpl.toolbar_items[toolbar_ind][2];\n",
       "        var method_name = mpl.toolbar_items[toolbar_ind][3];\n",
       "\n",
       "        if (!name) {\n",
       "            /* Instead of a spacer, we start a new button group. */\n",
       "            if (buttonGroup.hasChildNodes()) {\n",
       "                toolbar.appendChild(buttonGroup);\n",
       "            }\n",
       "            buttonGroup = document.createElement('div');\n",
       "            buttonGroup.classList = 'btn-group';\n",
       "            continue;\n",
       "        }\n",
       "\n",
       "        button = fig.buttons[name] = document.createElement('button');\n",
       "        button.classList = 'btn btn-default';\n",
       "        button.href = '#';\n",
       "        button.title = name;\n",
       "        button.innerHTML = '<i class=\"fa ' + image + ' fa-lg\"></i>';\n",
       "        button.addEventListener('click', on_click_closure(method_name));\n",
       "        button.addEventListener('mouseover', on_mouseover_closure(tooltip));\n",
       "        buttonGroup.appendChild(button);\n",
       "    }\n",
       "\n",
       "    if (buttonGroup.hasChildNodes()) {\n",
       "        toolbar.appendChild(buttonGroup);\n",
       "    }\n",
       "\n",
       "    // Add the status bar.\n",
       "    var status_bar = document.createElement('span');\n",
       "    status_bar.classList = 'mpl-message pull-right';\n",
       "    toolbar.appendChild(status_bar);\n",
       "    this.message = status_bar;\n",
       "\n",
       "    // Add the close button to the window.\n",
       "    var buttongrp = document.createElement('div');\n",
       "    buttongrp.classList = 'btn-group inline pull-right';\n",
       "    button = document.createElement('button');\n",
       "    button.classList = 'btn btn-mini btn-primary';\n",
       "    button.href = '#';\n",
       "    button.title = 'Stop Interaction';\n",
       "    button.innerHTML = '<i class=\"fa fa-power-off icon-remove icon-large\"></i>';\n",
       "    button.addEventListener('click', function (_evt) {\n",
       "        fig.handle_close(fig, {});\n",
       "    });\n",
       "    button.addEventListener(\n",
       "        'mouseover',\n",
       "        on_mouseover_closure('Stop Interaction')\n",
       "    );\n",
       "    buttongrp.appendChild(button);\n",
       "    var titlebar = this.root.querySelector('.ui-dialog-titlebar');\n",
       "    titlebar.insertBefore(buttongrp, titlebar.firstChild);\n",
       "};\n",
       "\n",
       "mpl.figure.prototype._remove_fig_handler = function (event) {\n",
       "    var fig = event.data.fig;\n",
       "    if (event.target !== this) {\n",
       "        // Ignore bubbled events from children.\n",
       "        return;\n",
       "    }\n",
       "    fig.close_ws(fig, {});\n",
       "};\n",
       "\n",
       "mpl.figure.prototype._root_extra_style = function (el) {\n",
       "    el.style.boxSizing = 'content-box'; // override notebook setting of border-box.\n",
       "};\n",
       "\n",
       "mpl.figure.prototype._canvas_extra_style = function (el) {\n",
       "    // this is important to make the div 'focusable\n",
       "    el.setAttribute('tabindex', 0);\n",
       "    // reach out to IPython and tell the keyboard manager to turn it's self\n",
       "    // off when our div gets focus\n",
       "\n",
       "    // location in version 3\n",
       "    if (IPython.notebook.keyboard_manager) {\n",
       "        IPython.notebook.keyboard_manager.register_events(el);\n",
       "    } else {\n",
       "        // location in version 2\n",
       "        IPython.keyboard_manager.register_events(el);\n",
       "    }\n",
       "};\n",
       "\n",
       "mpl.figure.prototype._key_event_extra = function (event, _name) {\n",
       "    // Check for shift+enter\n",
       "    if (event.shiftKey && event.which === 13) {\n",
       "        this.canvas_div.blur();\n",
       "        // select the cell after this one\n",
       "        var index = IPython.notebook.find_cell_index(this.cell_info[0]);\n",
       "        IPython.notebook.select(index + 1);\n",
       "    }\n",
       "};\n",
       "\n",
       "mpl.figure.prototype.handle_save = function (fig, _msg) {\n",
       "    fig.ondownload(fig, null);\n",
       "};\n",
       "\n",
       "mpl.find_output_cell = function (html_output) {\n",
       "    // Return the cell and output element which can be found *uniquely* in the notebook.\n",
       "    // Note - this is a bit hacky, but it is done because the \"notebook_saving.Notebook\"\n",
       "    // IPython event is triggered only after the cells have been serialised, which for\n",
       "    // our purposes (turning an active figure into a static one), is too late.\n",
       "    var cells = IPython.notebook.get_cells();\n",
       "    var ncells = cells.length;\n",
       "    for (var i = 0; i < ncells; i++) {\n",
       "        var cell = cells[i];\n",
       "        if (cell.cell_type === 'code') {\n",
       "            for (var j = 0; j < cell.output_area.outputs.length; j++) {\n",
       "                var data = cell.output_area.outputs[j];\n",
       "                if (data.data) {\n",
       "                    // IPython >= 3 moved mimebundle to data attribute of output\n",
       "                    data = data.data;\n",
       "                }\n",
       "                if (data['text/html'] === html_output) {\n",
       "                    return [cell, data, j];\n",
       "                }\n",
       "            }\n",
       "        }\n",
       "    }\n",
       "};\n",
       "\n",
       "// Register the function which deals with the matplotlib target/channel.\n",
       "// The kernel may be null if the page has been refreshed.\n",
       "if (IPython.notebook.kernel !== null) {\n",
       "    IPython.notebook.kernel.comm_manager.register_target(\n",
       "        'matplotlib',\n",
       "        mpl.mpl_figure_comm\n",
       "    );\n",
       "}\n"
      ],
      "text/plain": [
       "<IPython.core.display.Javascript object>"
      ]
     },
     "metadata": {},
     "output_type": "display_data"
    },
    {
     "data": {
      "text/html": [
       "<img src=\"data:image/png;base64,iVBORw0KGgoAAAANSUhEUgAABBgAAAG0CAYAAACYB5RbAAAgAElEQVR4XuydB3hUxRfFL+khoSQh1NAEpEoR6VVUEAsqglJUVFARUMACKkUBFREERJAiCH+QIjbEivQiAtJ7l14SSkhCesJ/zuCum0Z2k91k3+6Z7/PDJPPmzfzmLWTOu/fcAjdUEzYSIAESIAESIAESIAESIAESIAESIAESyAWBAhQYckGPl5IACZAACZAACZAACZAACZAACZAACWgCFBj4IJAACZAACZAACZAACZAACZAACZAACeSaAAWGXCPkACRAAiRAAiRAAiRAAiRAAiRAAiRAAhQY+AyQAAmQAAmQAAmQAAmQAAmQAAmQAAnkmgAFhlwj5AAkQAIkQAIkQAIkQAIkQAIkQAIkQAIUGPgMkAAJkAAJkAAJkAAJkAAJkAAJkAAJ5JoABYZcI+QAJEACJEACJEACJEACJEACJEACJEACFBj4DJAACZAACZAACZAACZAACZAACZAACeSaAAWGXCPkACRAAiRAAiRAAiRAAiRAAiRAAiRAAhQY+AyQAAmQAAmQAAmQAAmQAAmQAAmQAAnkmgAFhlwj5AAkQAIkQAIkQAIkQAIkQAIkQAIkQAIUGPgMkAAJkAAJkAAJkAAJkAAJkAAJkAAJ5JoABYZcI+QAJEACJEACJEACJEACJEACJEACJEACFBj4DJAACZAACZAACZAACZAACZAACZAACeSaAAWGXCM07gAtWrTQk1+/fr1xF8GZkwAJkAAJkAAJkAAJkAAJkAAJOAUBCgxOsQ35M4k777xT33j79u35MwHelQRIgARIgARIgARIgARIgARIwGUIUGBwma20fSEUGGxnxitIgARIgARIgARIgARIgARIgAQyJ0CBwY2fDAoMbrz5XDoJkAAJkAAJkAAJkAAJkAAJ2JkABQY7AzXScBQYjLRbnCsJkAAJkAAJkAAJkAAJkAAJODcBCgzOvT8OnR0FBofi5eAkQAIkQAIkQAIkQAIkQAIk4FYEKDC41XanXSwFBjfefC6dBEiABEiABEiABEiABEiABOxMgAKDnYEaaTgKDEbaLc6VBEiABEiABEiABEiABEiABJybAAUG594fh86OAoND8XJwEiABEiABEiABEiABEiABEnArAhQY3Gq70y6WAoMbbz6XTgIkQAIkQAIkQAIkQAIkQAJ2JkCBwc5AjTQcBQYj7RbnSgIkQAIkQAIkQAIkQAIkQALOTYACg3Pvj0NnR4HBoXg5OAmQAAmQAAmQAAmQAAmQAAm4FQEKDG613WkXS4HBjTffyZaenJIq12ISJDYhWTwKFJCCvl5StJCvFFD/z0YCJEACJEACJEACJEACJGAMAhQYjLFPDpklBQaHYOWgNhKIvp4o63eelfnLDkqU+n+0UiEB0rdzHalaLkj8lNjARgIkQAIkQAIkQAIkQAIk4PwEKDA4/x45bIYUGByGlgNbSSA5OVV+++sfmbFkb4YrPFTwwthXW8rtSmRgIwESIAESIAESIAESIAEScH4CFBicf48cNkMKDA5Dy4GtJHD5Wpz0HbtarsclZXpFjYrBMvS5RlIowMfKEdmNBEiABEiABEiABEiABEggvwhQYMgv8k5wXwoMTrAJbj6FUxeilcCw6pYUZg9rK8WK+rs5KS6fBEiABEggOwIQrW/cECmiRGlvb0/dPeJqrHiokLiQIvx3JDt+/DkJkAAJ2IMABQZ7UDToGBQYDLpxLjTtM+HR8vKYrAUGpEnMGkqBwYW2nEshARIgAYcQgLjww9qjsnLLaRndt7mEhQbKRSUuDJ32p9SsGCLPPVyTIoNDyHNQEiABEkhLgAKDGz8RFBjcePOdZOlXouJl4IS1gj8zaw1qlJDXu9WXAH9vJ5kxp0ECJEACJOCMBP45d036j1+jIxgC1b8Z/ZRR8Myle+VS5M1/X0a80FhqVy4mXl43IxvYSIAESIAEHEOAAoNjuBpiVAoMhtgml55kSuoN+Xv/Bflg9pYM6/RV4a0TBraSsiUKuTQDLo4ESIAESCD3BK5Gx8uuI5dk/IJtWmSwbM+r6IVW9cpIMNMkcg+aI5AACZBANgQoMLjxI0KBwY0334mWHhufJEfPRMqspfvk+NlrUkClRdS7PVR6dqglpUMDxMuTb5ucaLs4FRIgARJwWgIxsQmyZO1x+XrFYfMc721QTqVH1JDCAb5OO29OjARIgARciQAFBlfaTRvXQoHBRmDs7lACkTEJkpiUogSGAuLv4ymBBVk5wqHAOTgJkAAJuBiBsxEx2nPBlBaB5SFdYnSf5lJGCdYm40cXWzaXQwIkQAJORYACg1NtR95OhgJD3vLm3UiABEiABEiABBxD4JwSF4ZYiAuIhNt5JMLsyQDjx7LFA8STUXGO2QCOSgIkQAL/EqDA4MaPAgUGN958Lp0ESIAESIAEXIhA+JVYefeLv+RMeIzAc+GeBmVl+6EI7ckQUsRPPujdTKXdBbrQirkUEiABEnBOAhQYnHNf8mRWFBjyBDNvQgIkQAIkQAIkkAcEIDLsOXZJ+/jA0BHGjwf+uSIVShWmuJAH/HkLEiABEgABCgxu/BxQYHDjzefSSYAESIAESMAFCVyPS1Sljf/z8ImJTaSnjwvuM5dEAiTgvATcVmCIiYmRKVOmyL59+2T//v0SHR0to0ePlo4dO2bYLfQZO3as7Nq1S+fuNW7cWAYPHixly5bN0HfevHkyf/58OXPmjBQvXlyP99JLLyljIe80fS9fvqzHXL16tcTHx0u1atVkwIAB0qRJkwxjbty4UT799FM5ePCg+Pn5yd133y1vvvmmhISE5OrJosCQK3y8mARIgARIgARIgARIgARIgARIwIKA2woMEAAee+wxqV69uhQrVkx++eWXTAWGY8eOSefOnXW/F198URISEmTSpEly7do1+fHHHyU4ONiMc+rUqVoIQL9mzZrJnj17ZOLEifo+o0aNMvdLTEyUxx9/XKKiouT111/XQgFEibVr18rs2bOlYcOG5r5btmyR5557Tlq1aiXdu3cXCBPjxo2TIkWKyHfffSc+Pjl32qfAwL8LSIAESIAESIAESIAESIAESIAE7EXAbQWGGzdu6HJ4aBACOnXqlKnA0L9/f9m8ebOsWLFCAgNvmgOdPXtW2rVrJz169NCRBGhXr17VIsCjjz4qI0eONO/PtGnTtMjw888/S+XKlfX3ISagz6JFi6RevXr6e8nJyfLII49IwYIF5ZtvvjFfj3nFxcVpMcPLy0t/f/v27dK1a1d59913pVu3bjl+Figw5BgdLyQBEiABEiABEiABEiABEiABEkhHwG0FBksOWQkMOPTXr19fH/wtRQNc27NnT50GsWzZMj3U0qVLtdjw9ddfS926dc3Dh4eHS4sWLWTgwIHSu3dv/X1EJJw/f15+//33NNsxffp0GT9+vKxbt05KlCghFy9elJYtW+ooB0RFWDYIHGXKlJEvv/wyxw81BYYco+OFJEACJEACJEACJEACJEACJEACFBgyPgNZCQzHjx+X9u3by/Dhw3V6gmUbM2aMTmeAL4Ovr6988sknMmPGDNmxY4eOQrBs8GxAygT6oDVv3lwLF0insGxr1qzRfg2zZs3SfdavXy+9evXS4yI6wrK9+uqrOpJhw4YNOX6oKTDkGB0vJAESIAESIAESIAESIAESIAESoMBgvcBgSkVAVMGDDz6Y5kJTtAFEAJg5Dhs2TJYsWaLTLdI3RBuEhYVp4QCtVq1a2vwxfVQExIkuXbpoIeKhhx6Sn376Sd54440MUREYA6LH999/L3v37s3yoTYJCFl1uH79ugQEBGihgo0ESIAESIAESIAESIAESIAESIAEckOAKRKKXlYRDCaBYcKECfLAAw9kKjAggiA0NFQLDPBJ2L17t1UCA0weR4wYkaavSWAwCRomgWHx4sVSp06dNH0hMPzwww+ZChqmjhQYcvPR4LUkQAIkQAIkQAIkQAIkQAIkQAK2EKDAcAuBIScpEjt37hR/f/80e8AUCVseSfYlARIgARIgARIgARIgARIgARIwIgEKDLcQGEwmj6gMkT7aIL3JY1bRBhEREdpPwdLk8fnnn9cmj7/99luaZwZeC0iPsMbk8f7775fSpUvT5NGInzrOmQRIgARIgARIgARIgARIgARckAAFhlsIDNjvAQMGyJYtW+SPP/4wl6k8d+6ctG3bVp599lntkYAWGRmpKz489thjacQIiAZIebAsU7lgwQLdxzL1AWIGhAwYROL7pta5c2eJj4/X/g6enp7624iSePLJJ+W9997T5Spz2mjymFNyvI4ESIAESIAESIAESIAESIAESCA9AbcWGNauXStxcXFy+vRpGTdunK4U0bBhQ80IVRuQ6nDs2DHp1KmT1KxZU1544QVJTEyUSZMmaUEBngvBwcFmplOnTtWVIVAJAlUj4O0wceJELRyMGjXK3A9jwOQxJiZGl6AMCQkRiA6rV6/WlSlMc8AFmzdvFkQ83H333dKtWze5fPmyjnIoVKiQfPfdd+Lj45Pjp5oCQ47R8UISIAESIAESIAESIAESIAESIIF0BNxaYGjTpo2cPXs204di5cqVuvIDGio1QIBA5ACiCOCpMHjwYClXrlyGa+fOnSvz58/X48L8EUJC7969xdvbO03fS5cuydixYwWlKSFyVK9eXfr37y9NmzbNMOaff/6pRY0DBw5o0aN169YyaNAgLUzkplFgyA09XksCJEACJEACJEACJEACJEACJGBJwK0FBnd/FCgwuPsTwPWTAAmQAAmQAAmQAAmQAAmQgP0IUGCwH0vDjUSBwXBbxgmTAAmQAAmQAAmQAAmQAAmQgNMSoMDgtFvj+IlRYHA8Y96BBEiABEiABEiABEiABEiABNyFAAUGd9npTNZJgcGNN59LJwESIAESIAESIAESIAESIAE7E6DAYGegRhqOAoORdotzJQESIAESIAESIAESIAESIAHnJkCBwbn3x6Gzo8DgULwcnARIgARIgARIgARIgARIgATcigAFBrfa7rSLpcDgxpvPpZMACZAACZAACZAACZAACZCAnQlQYLAzUCMNR4HBSLvFuZIACZAACZAACZAACZAACZCAcxOgwODc++PQ2VFgcCheDk4CJEACJEACJEACJEACJEACbkWAAoNbbXfaxVJgcOPN59JJgARIgARIgARIgARIgARIwM4EKDDYGaiRhqPAYKTd4lxJgARIgARIgARIgARIgARIwLkJUGBw7v1x6OwoMDgULwcnARIgARIgARIgARIgARIgAbciQIHBrbY77WIpMLjx5nPpJEACJEACJEACJEACJEACJGBnAhQY7AzUSMNRYDDSbnGuJEACJEACJEACJEACJEACJODcBCgwOPf+OHR2FBgcipeDkwAJkAAJkAAJkAAJkAAJkIBbEaDA4FbbnXaxFBjcePO5dBIgARIgARIgARIgARIgARKwMwEKDHYGaqThKDAYabc4VxIgARIgARIgARIgARIgARJwbgIUGJx7fxw6OwoMDsXLwUnA7gQio+MlLiFZEpNTJcDPWwILeoufj5fd78MBSYAESIAESIAESIAESCAnBCgw5ISai1xDgcFFNpLLcHkCKSmpcupitIxfsF1OnI/S6/Xy9JD7GpWTbm2rStFCfi7PgAskARIgARIgARIgARJwfgIUGJx/jxw2QwoMDkPLgUnArgQuXomVfmNXSXxiSoZxm9cpLX061ZFCBX3sek8ORgIkQAIkQAIkQAIkQAK2EqDAYCsxF+pPgcGFNpNLcVkCSUkpMufX/bJ03fEs1zjj7XulVLEAl2XAhZEACZAACZAACZAACRiDAAUGY+yTQ2ZJgcEhWDkoCdiVwNWoeBk8eYOcv3w9y3Ff715fWt8ZZtf7cjASIAESIAESIAESIAESsJUABQZbiblQfwoMLrSZXIrLEoCx4ztTN8pp5cGQVXurx13SrHYZl2XAhZEACZAACZAACZAACRiDAAUGY+yTQ2ZJgcEhWDkoCdiVQErqDVmy9qjM+Xl/puN6ehSQL4bcK6FFC9r1vhyMBEiABEiABEiABEiABGwlQIHBVmIu1J8CgwttJpfi0gQuX4uTQZ+tl/CrcRnW2a1dVXm0ZWXx92O5Spd+CLg4EiABEiABEiABEjAAAQoMBtgkR02RAoOjyHJcErA/gUuRcbJo+SFZvfW0JCanalPH7u2qyZ1Vi0uhAFaQsD9xjkgCJEACJEACJEACJGArAQoMthJzof4UGFxoM7kUtyCQoMpUxsQlSqpKm/Dy9JCgwn5usW4ukgRIgARIgARIgARIwBgEKDAYY58cMktnEhjiE5MlJjZJvZlNER8vT/VG1lt8vW0P+cbBKzImQRLUeJ7qAObv48W3uw55ejgoCZAACZAACZAACZAACZAACaQlQIHBjZ8IZxEYLl+Ll/m/H5DV285Ickqq+Pp4yn0Ny8kT99xu0xva6OuJsmnvefnq94NyRZX2Q6tVKUR6d6wtZUID9RtfNhIgARIgARIgARIgARIgARIgAccQoMDgGK6GGNUZBIarSggYNn2jnLyQsQRfjYrB8vazDaVooG+2PBOSkuWXDf/I7Eyc9v2UYDHp9bt1zjobCZAACZAACZAACZAACZAACZCAYwhQYHAMV0OM6gwCw9YDF2XEzE1Z8hr7SgupViE4W55w2X9p9EpJSErJtG+bu8rKyyqSwc/X9rSLbG/ODiRAAiRAAiRAAiRAAiRAAiRAAkKBwY0fgvwWGJKUGDBuwTbZuPt8lrvwQNMK8vLjdbLdpQP/XJFBk9dn2c9fCQtTB7eRkCL+2Y7FDiRAAiRAAiRAAiRAAiRAAiRAArYToMBgOzOXucIpBIb5SmDYk7XA0L5JBenTKfcCA9Ikpr91jwRTYHCZ55cLIQESIAESIAESIAESIAEScC4CFBicaz/ydDb5LTBgsVv2XZBRX27Oct0fqxSJ6lakSFxSKRK9b5Ei0bp+mPRRkRCIZGAjARIgARIgARIgARIgARIgARKwPwEKDPZnapgRnUFggMnj0Gkb5dTFjCaP1coHyZDnGknRQlaYPKqylEvXH5e5vx7IwB9VKSa93lpKFws0zN5woiRAAiRAAiRAAiRAAiRAAiRgNAIUGIy2Y3acrzMIDFgODBrn/LJfNuw8q8pU3hAfLw9p06CsdGtbzaYylVGqTOWfu87Kgj8OSWR0giZVrUKQ9OtUV8oUD1BlKj3tSI9DkQAJkAAJkAAJkAAJkAAJkAAJWBKgwODGz4OzCAzYgriEZImJS5SkpFTx8faUwII+At8EW1tKSqpci0mQ+MQU8fT0UCkRnlI4IPsICFvvw/4kQAIkQAIkQAIkQAIkQAIkQAJpCVBgcOMnwpkEBjfeBi6dBEiABEiABEiABEiABEiABFyCAAUGl9jGnC2CAkPOuPEqEiABEiABEiABEiABEiABEiCBjAQoMLjxU0GBwY03n0snARIgARIgARIgARIgARIgATsToMBgZ6BGGo4Cg5F2i3MlARIgARIgARIgARIgARIgAecmQIHBuffHobOjwOBQvBycBEiABEiABEiABEiABEiABNyKAAUGt9rutIulwODGm8+lkwAJkAAJkAAJkAAJkAAJkICdCVBgsDNQIw1HgcFIu8W5kgAJkAAJkAAJkAAJkAAJkIBzE6DA4Nz749DZUWBwKF4OTgIkQAIkQAIkQAIkQAIkQAJuRYACg1ttd9rFUmBw483n0kmABEiABEiABEiABEiABEjAzgQoMNgZqJGGo8BgpN3iXEmABEiABEjANQlExyaKl6eH+Pt6mReI7xUq6OOaC+aqSIAESMCFCVBgcOHNzW5pFBiyI8SfkwAJkAAJkAAJOJJAjBISft90UsqEBkjd24trkSHiaqxM/X639O1UR0KK+Dvy9hybBEiABEjAzgQoMNgZqJGGo8BgpN3iXEmABEiABEjAtQjExifJ8i2nZOaPe6VAAZG3ezSQ28sFyVtTNsiFy7FSrkQh+bBPMykS6OtaC+dqSIAESMCFCVBgcOHNzW5pFBiyI8SfkwAJkAAJkAAJOIpAauoNORMeLYMmb5DrcUlaZEAEQ2x8sr7l0+2ryQNNK0ogUyUctQUclwRIgATsToACgxVI9+/fL5MnT5bdu3dLdHS0lCpVSh566CHp2bOn+Pv/F7q3b98+GTt2rOzatUs8PT2lcePGMnjwYClbtmyGu8ybN0/mz58vZ86ckeLFi0vHjh3lpZdeEm9v7zR9L1++rMdcvXq1xMfHS7Vq1WTAgAHSpEkTK2Z+6y4UGHKNkAOQAAmQAAmQAAnkgoBJZHjzs/VmYQHDdb+/qjzU7DaKC7lgy0tJgARIID8IUGDIhvqRI0fk8ccfl4oVK2oBICgoSLZu3SpTp06Vli1byrRp0/QIx44dk86dO0v16tXlxRdflISEBJk0aZJcu3ZNfvzxRwkODjbfCdd++umnul+zZs1kz549MnHiRHnsscdk1KhR5n6JiYn63lFRUfL6669LSEiIFiXWrl0rs2fPloYNG+bqmaHAkCt8vJgESIAESIAESMAOBOC58Mak9XIlKt482qCn75K7qpdIY/xoh1txCBIgARIgAQcToMCQDeAJEyZoEWH58uVSrlw5c+/hw4fL119/LZs3b5aiRYtK//799f+vWLFCAgMDdb+zZ89Ku3btpEePHvLmm2/q7129elVatWoljz76qIwcOdI8Hu4BkeHnn3+WypUr6+9DTECfRYsWSb169fT3kpOT5ZFHHpGCBQvKN998k6vHgwJDrvDxYhIgARIgARIggVwSgLjwztQ/teeCZTN5MpiMH3N5G15OAiRAAiSQRwQoMGQDGqkRn332mWzatElHL5jauHHjZNasWbJt2zbx8fGR+vXr64O/pWiAvkijQBrEsmXL9KVLly7VYgPEibp165rHCw8PlxYtWsjAgQOld+/e+vvPPfecnD9/Xn7//fc0s5w+fbqMHz9e1q1bJyVKlMjxo0KBIcfoeCEJkAAJkAAJkEAuCcDkcfGKw/Ld6qN6pKfaV5emd5QSpEvAkyGokK98PriNBPqzXGUuUfNyEiABEsgzAhQYskENcQCpC0hlQJoCRAaIChAJOnToIEOHDpXjx49L+/btBVEN3bt3TzPimDFjdDoDfBl8fX3lk08+kRkzZsiOHTt0FIJlg2cD7oM+aM2bN9fCBdIpLNuaNWt0ugYEDvTJaaPAkFNyvI4ESIAESIAESMAeBK7FJMispXslrHghZehYQQr6eWvjx9H/+1uGPd9IShULUOaPyv2RjQRIgARIwBAEKDBYsU3wV+jXr58WEkzt6aefliFDhuh/9LZv3y5du3bVUQUPPvhgmhFN0Qbr16/XZo7Dhg2TJUuWaN+F9A3pFGFhYVo4QKtVq5Y2f0wfFQFxokuXLlqIgNlkVs0kIGT18+vXr0tAQICePxsJkAAJkAAJkAAJ5AcBiAyeHgXMho4wfoxLSFZigxfFhfzYEN6TBEiABHJBgAJDNvAQwfD8889rk8Znn31WGy3u3btXmzwiegCigklggF/DAw88kKnAsGHDBgkNDdUCA0wfUZHCGoEBJo8jRoxI09UkMGQmaFh2NJLAcOPGDYmMThD1h3h4iBQt5JeLx5qXkgAJkAAJkAAJkAAJkAAJkAAJ5DUBCgzZEIcngsm80TKl4ddff9V+CYhQgPmjrSkSO3fuTFPiEtNw1xQJvLn4a895+V7lYIYrsyeEQz557+1yZ9XiUjjQN68/E7wfCZAACZAACZBAHhJISk5REQwe6gXDf6kQ+J63l2cezoK3IgESIAESsAcBCgzZULz//vt15MG8efPS9ERkwz333KN9GRDhAK8EVIZIH22Q3uTxp59+kjfeeEMWL14sderUMY8ZERGhIyIsTR4xLkwef/vttzT3hocD0iNcweQR4sJni3fK5n0XMuzEfQ3LyXMP1ZRCATR3sseHnWOQAAmQAAmQgLMRSExKkSOnI6VQQW/twwCRIVL9brBh51lpUbeMFOGLBmfbMs6HBEiABG5JgAJDNg/IM888I0eOHNHlJ+FXYGooJwlxYezYsdrsccCAAbJlyxb5448/zGUqz507J23bttWpFRAV0CIjI6Vly5baONJSjIBogJQHyzKVCxYs0H0sxQiUqYSQgWgKfD83zRlMHg+euKLdorNqk9+8W8qXLJybZfJaEiABEiABEiABJyQAceHwqasybPpG8fXxko/7NVcpkr76xcOmvRfk7vph0rNDLYoMTrh3nBIJkAAJZEWAAkM2z8bKlSulb9++Urt2bS0UwIsBHgzTpk3T/w8/BX9/f4ERZKdOnaRmzZrywgsvSGJiokyaNEkLCuiDvqYG/wZUhkAlCFSNgOHjxIkTtXAwatQocz+MAZPHmJgYLWbA/wGiw+rVq3VlioYNG+bqyc5vgSE5OVUmfb1DVm8/k+U6HmtdWZ5/uGau1smLSYAESIAESIAEnI8AjBx3Hg7XFSPgwRTg7y1lQgO16IBWr2qovNatvhRlFIPzbR5nRAIkQAJZEKDAYMWjAQ8GRBgcOnRIoqKipFSpUtKqVSvp3bt3GuEAwsO4ceME/gqenp7aU2Hw4MHaoyF9mzt3rsyfP1/Onj2rUzAgJGA8b2/vNF0vXbqkoyRQmjIuLk6qV68u/fv3l6ZNm1ox81t3yW+BAW8uxn61Vb+lyKrd16icvPpEvVyvlQOQAAmQAAmQAAk4HwGIDDsOhctHc2+KDKamxYWuSlxQEQ1sJEACJEACxiFAgcE4e2X3mea3wIAFLd9yUkUx7MxybcN7NpIGNUrafe0ckARIgARIgARIwDkIRMcmyhufrpNzl66bJzS+f0upFFY0jfGjc8yWsyABEiABErgVAQoMbvx8OIPAcPlanAwYv1YbOqVvxYP8ZeyrLSW4MEtWuvFjyqWTAAmQAAm4MAH8+z/lm5ueC5YN6RLwZDAZP7owAi6NBEiABO15mYMAACAASURBVFyKAAUGl9pO2xbjDALDDRUPiTcWo+dskZMXos0LqFK2qAx+5i4pEfyfsaZtq2NvEiABEiABEiABZyYQG58kC5cdkiXrjulpIi2ieZ0yMlkJDkiXKKyqSM14+17tzcBGAiRAAiRgDAIUGIyxTw6ZpTMIDKaFRUYnCEIkUbYySEUsBKpfJliayiHbzkFJgARIgARIwGkIIJJx+PS/JKSon/Zc8PPxlB3K+PHjeVtleM/GUqNisK4wwUYCJEACJGAMAhQYjLFPDpmlMwkMDlkgByUBEiABEiABEnB6AhAZPD08zIaOMH6EETTEBooLTr99nCAJkAAJpCFAgcGNHwgKDMba/NTUG9qrIj4xWf0iVkD8fb1U+CjdtY21i5wtCZAACZAACZAACZAACbguAQoMrru32a6MAkO2iJymQ/T1RNmy/4LM++2AXL4Wr+cFn4q+netIuRKFxNvL02nmyomQAAmQAAmQAAmQAAmQAAm4JwEKDO6573rVFBiMsflJyanyx+YTMu37PRkm7O3lIZ++1lrKKpGBjQRIgARIgARIgARIgARIgATykwAFhvykn8/3psCQzxtg5e2Rm9rn41USG5+c6RWNa5WUgV3vlIJ+dNm2Eim7kQAJkAAJkIDhCKSoVEmkSJpa+q8NtyBOmARIwCUJUGBwyW21blEUGKzjlN+9jp+9Jv3Hr8lyGh7ql40vh94nIUX883uqvD8JkAAJkAAJkIADCKDa1qmLUVI5rKh+oZCckiInzkdL0UBfKVaU//47ADmHJAESyCEBCgw5BOcKl1FgMMYuUmAwxj5xliRAAiRAAiTgCAIQF8Yv3CY7D0fIG93rS4MaJeX0xWh55/M/1csFP/ng5WYUGRwBnmOSAAnkiAAFhhxhc42LKDAYYx+RItFXpUhczyJFoskdpWRAl3pMkTDGdnKWJEACJEACJGATgQuXr8vrn66TKGX4XEBlSLRtWF7WbD8jCaqUp5dnARndp7k2fvb09LBpXHYmARIgAUcQoMDgCKoGGZMCgzE2CiaPy7eclKnf7c4wYR+YPL7eWsKK0+TRGLvJWZIACZAACZCAbQRu3LghZyNiZPDkDVpkMDWIC6Neaiq3lwsSH29Wk7KNKnuTAAk4igAFBkeRNcC4FBgMsEn/TjE6NlG2Hbgoc389IBGRcfq71SoESZ/H6yhxIZBlKo2zlZwpCZAACZAACdhMIDklVZZtSltRqs1dZaV3x9ri7+tl83i8gARIgAQcRYACg6PIGmBcCgwG2CSLKaYq9+jImARJSEwWGDviF4rCAb7GWgRnSwIkQAIkQAIkYBOBpOQUOX42SoZM/VOnRVi2m54MJZgmaRNRdiYBEnAkAcMJDHFxcRIZGSkIF0vfSpcu7UhWLjc2BQaX21IuiARIgARIgARIwMUInLsUI6+OW/Ov54KH9Hiwunyz8og5XWLEi02kTuVi9GBwsX3nckjAqAQMITBATJg5c6bMmzdPIiIismR94MABo+5DvsybAkO+YOdNSYAESIAESIAESMBqAlHXE3SK5Mq/T8uo3k3k9rJBEnE1VgYpTwakSb71TAMJKuxn9XjsSAIkQAKOJGAIgWHChAkyffp0qVSpkjRp0kSKFi2aKZN+/fo5kpXLjU2BweW2lAsiARIgARIgARJwQQIQGaKuJ0nxIH9t6IiXbxcux4qfjyfFBRfcby6JBIxMwBACQ8uWLaVKlSo6iqEA6vOw2YUABQa7YOQgJEACJEACJEACJEACJEACJEACioAhBIbatWvLO++8I126dOGm2ZEABQY7wuRQJEACJEACJEACJEACJEACJODmBAwhMDz88MPSvn176dOnj5tvl32XT4HBvjw5GgmQAAmQAAmQAAmQAAmQAAm4MwFDCAzff/+9TJ48WZYuXSqBgYHuvF92XTsFBrvi5GAkQAIkQAIkQAIkQAIkQAIk4NYEDCEwLFmyRBYuXCjnzp2TTp06SVhYmCrF45lh4x599FG33kxbF0+BwVZi7E8CJEACJEACJOCsBGJiEyU5JVWKBPqaPbuuRsWr3xkLSOEAX2edNudFAiRAAi5FwBACQ7Vq1bKFDvNHlqnMFlOaDhQYbOPF3iRAAiRAAiRAAs5JAOLC6YvRUjIkQJKSUiQ0uKBcjoyTVDVdiAyligVQZHDOreOsSIAEXIyAIQSGLVu2WIW9YcOGVvVjp5sEKDDwSSABEiABEiABEnAFAhevXJfjZ6/J1ysOy1vPNJCYuCQJ8PeWSV/vkFb1wqR25WJafPDwYDUyV9hvroEESMB5CRhCYHBefMaeGQUGY+8fZ08CJEACJEACJHCTwD/nrsmACWslNfWGVCxdWN7r1UTGzt8qe49d1j8f9VITuaNSMZUu4UFkJEACJEACDiRgSIHhypUrGklwcLAD0bj+0BQYXH+PuUISIAESIAEScAcCV1QaxILfD8qyzSczLLdxrZLSu2NtCSni7w4ouEYSIAESyFcChhEYwsPDZfz48bJy5UqJiYnR0FBR4t5775WBAwdK8eLF8xWkEW9OgcGIu8Y5kwAJkAAJkAAJZEYAngtzftkva7afMf+43u2h0r9LPQku7Gc2fiQ9EiABEiABxxEwhMBw8eJF6dy5s0BkqFKliv7vxo0bcvToUTly5IiUKFFCFi9erP9ks54ABQbrWbEnCZAACZAACZCA8xK4dDVWklJuyMRF22X/PzcjXdHKlywkQ59vJEiMgPEjTMHZSIAESIAEHEfAEALDO++8I0uXLtURDG3btk1DY8WKFTJgwABBicr333/fcaRccGQKDC64qVwSCZAACZAACbghgYircTJ+wTbZe/ym50KgMniE0SNahVKFZVjPRhJa1J8Cgxs+G1wyCZBA3hIwhMDQokULadeunQwdOjRTOhAWli1bJuvXr89bega/GwUGg28gp08CJEACJEACJKAJnLoQJW9MWi9xCckCz4UBXe+U2Uv3aU8Gby8P+bBPM6lcpqh4qf9nIwESIAEScBwBQwgMtWrV0uJCly5dMiWxcOFC+fDDD2XPnj2OI+WCI1NgcMFN5ZJIgARIgARIwA0JJCUly8mLMbJ0/XF59oHqEqwMHWH8+M3Kw9K0dmmpHFZE/H293ZAMl0wCJEACeUvAEAJDmzZtpFGjRjJ69OhM6bz99tuyefNmWbVqVd7SM/jdKDAYfAM5fRIgARIgARIgATMBiAwxcckSpAwdTe2qEhn8fD0pLvA5IQESIIE8ImAIgQEpEPPnz5e33npLunfvrsLbvDSelJQU/f2PPvpIf3/IkCF5hM01bkOBwTX2kasgARIgARIgARIgARIgARIgAWcgYAiB4dq1azo94sSJE1KkSBGpUKGCZoevIyMjpWLFirJo0SL9MzbrCVBgsJ4Ve5IACZAACZAACZAACZAACTgHgc8++0wmT54sK1eulLCwMLtPqmrVqvLYY4/pF9nO0vCy/YcffpBDhw45y5QynYchBAbMPCYmRr744gv9EJ0+fVovpmzZsnLvvfdKr169JDAw0KlBO+PkKDA4465wTiRAAiRAAiRAAiRAAiRAArciYGSBYc6cOVK4cGHp2LFjhiV+//33EhUVJc8++2yGn1Fg4GfC6QlQYHD6LeIESYAESIAESIAESIAESIAE0hEwssAAf8EyZcrIvHnzMuzr008/LWfPns3UW5ACAz8GTk+AAoPTbxEnSAIkQAIkQAIkQAIkQAIkQIFB+xEyRSKHH4W///5bX9mgQQP9p+nr7IYz9c+uH39+kwAFBj4JJEACJEACJEACJEACJOAaBEwp5Rs3bpRTp07J9evXpVSpUtKuXTvp27ev+Pv764XeuHFD/ve//8l3330nZ86c0d8LCQmRu+66S9577z3x8/uvEsuBAwdk+vTp+jwGX7zg4GCpW7euvPLKK1KlShUzuP3798u0adN0v+joaClRooS0b98+zX3R2XRI3rp1q4wbN06WL1+uUwJuv/12ee2116R58+ZpNiMxMVGmTJkiS5YskStXrmjvvZdeekmOHz+eIw+GhIQEmTFjhvzyyy9y/vx58fT0lOLFi+v7Dh061HxvkwfDk08+KePHj5c9e/boQgMtW7bU/cDB1G518LeMVgDre+65J9OHDTYAWf1s7ty5uqJiVve5dOmSTJ06VVavXi3h4eE6/aJp06YyYMAAh/hTZPdpcUoPhmrVqkmBAgVk165d4uPjI6avs1oMPiTojw8Am/UEKDBYz4o9SYAESIAESIAESIAESMCZCRw7dkx69Ogh999/v5QrV04fnrds2SLLli2TZs2ayaxZs/T0cWCfNGmS3H333dKiRQvdD2H5OKDiMGs6PONrCAkQJjp16qSN9nHIh4Dx+OOPy6OPPqrHW7dunRYSSpcuLY888ogWK3Au+/bbb6V27dp6TFMVQNMhuU6dOvogjAN7fHy8FjwgYPzxxx96HFN79dVX9fwxz9atW+sD9FdffaXnsm/fPptNHt955x0trGCe9erVk9TUVC3GYE0//fRTGoEBZ1CIEFjnbbfdpu/3zTffpGGJC6wVGGJjY7WgMnr0aAkKCpLevXub73fffffpn0GkuXr1qrz99tvmn2HvihUrlul9MD8UQ4iLi9N7AgHmwoULsnDhQn091mrJMy+eX6cUGGBuAcEAm4k/EQpiTYPTJ5v1BCgwWM+KPUmABEiABEiABEiABEjAmQngbb+Hh4f5MG+a68SJE/UbbhyOceDHmQl98RY/q4YDKwQINEQPlCxZMk1XHMxxL0QE4M07KjlASMDLYVODMACBAJUYTOc002EckQEjR4409925c6fge4hOQCQDGg79zz33nDz44IPyySef6HMh2u7du+WJJ57QkRi2VpFo2LChQNxA8YBbNUQw4H7z58+X+vXrm7sOHz5cvv76a/n999/1YR7NWoHBNIg9PRgg7CAaBOdn+DqYGqIlHn74YS02QdDIy+aUAkNeAnDne1FgcOfd59pJgARIgARIgARIgARclUBycrJOkUhJSZGjR48KzAMR2o8/n3nmGf02HqkPSIvIrOFter9+/WTgwIFp3rSn74soB7yJHzVqlK7ul75BfMCBGgKB5WEc4gOiECwbIgoQqYDoCrQRI0bIggULtMBRvXr1NH2ff/55+fPPP20WGDAfiCOIFICIkFXDzzCfRYsWpeliEk1wvUmAyS+BAakoEEwQjTFo0KAMS3n99dflyJEjsmHDhjx9zCkw5Clu57oZBQbn2g/OhgRIgARIgARIgARIgARyQwCh8fgPogLEBcuGdAeIBkhDx5vviIgICQ0N1fn9SFWAZ4IpAgFv+OGRAL+CVq1aZTmlmTNnytixY2855caNG+sUCEuBAZ4NSM2wbOnf7Pfs2VOLCJivr69vmr4ffPCBjpiwNYJh1apV8uabbwr8KhB1gbVDKIDwgIgMU4PA0KFDhwxr27x5sxZoMovKOHToUAYOmUUr2CuCAZEcnTt3viV7rCmvbQQMITBs27ZNg3nqqafMAH/99Vf90CNXByE3Q4YMMYfN5OZD6U7XUmBwp93mWkmABEiABEiABEiABFyZwJw5c3Q4PAwLERoP80Jvb2+5ePGiDuOHuACRAQ1+ADi8b9q0SXBoxptuRBQgJQD5/hAWEHWQncBg6oe35bVq1coUL7wWTD+z5W2/IwQGTBDnx7Vr12pDSqRhIJ0AaRMQLEwGlyaTRwgJls0kMIBzx44d9Y/gl4AUhcwEBgg35cuXT1OS0l4CA4QXpIo89NBD2n8hqwbDx7xshhAYEAKDzf788881GzwEDzzwgBQqVEirbthMOJ4ib4fNegIUGKxnxZ4kQAIkQAIkQAIkQAIk4MwE8NIVh+cVK1akeRsPE8YXXnghjcCQfh3wZ0AKBSIb4JuAMfD/2aVImFIp8LIXb/aza7YIDI5IkchsfiaPig8//NB8ULdFYIAIMXv2bC3UFC1a1HwLmFcizQJpKPPmzTN/314CA8wgIR4g+mLy5MnZoc+znxtCYIAKhwf2xRdf1GCglMH9FA80lDmYgcDRFB8MNusJUGCwnhV7kgAJkAAJkAAJkAAJkIAzE8AbdVMlBlP6AbwYYJSIahKmCAacmyzLLGJNSFmAQIGI8WHDhumqBDgIw6/gxx9/zGDyaKrih37wXkAoPrwSUEHCsuH+SEcwHbxtERgQYYEXzTB5RKlIU8upySNSRuBLgYgKy2YSSQYPHqzvh2aLwADTR5g/TpgwQb8ENzW8HP/000+1T4KlwADzRTTLqhWma+BngcgKGDeaTC1NP8uMHfojGgPRFw0aNMjweKKEJSJS8rIZQmC44447tMmHKQwFYgPCfUylVpBnBOUJqhGb9QQoMFjPij1JgARIgARIgARIgARIwJkJmNIVUNYQZQ9xsP/55591VYm9e/eaBQZ4ItStW1dwxipRooTgELp48WKdSoEUCfwMbc2aNfoaU5lKVE2IjIyUv/76SxsLmspUQgjo06eP9knAeQ39cJA/efKkfiH8xhtvmM9xtggMmAPujzEsy1RijijDCVHEFg+GqKgonT4C4QSmkRBDzp07pz0rEG2wdOlSKVu2rF67LQIDOENkSUpK0mVCMS5EAhhpwoixSpUqaQQGRIrgxfjLL78slSpV0uIMfCAKFiyoq33gXNutWzcd/QChCPuFMTNjhz3r2rWr3jukSiAVBeOh7CiEB+xx+jQPRz/DhhAYLCMYUFIF6gw2xFQ7FA/FmDFjBOVN2KwnQIHBelbsSQIkQAIkQAIkQAIkQALOTABv6GG6+O2338r58+d1KjmMG5GfjzfrpggGCBE4fB4/flwfgBHNgPKVvXr1MosLpnVCmEC1CRyYcZDGQRcCBLwcKleubMZx7NgxXfoR4sPly5clICBAl03EOQ4H4FKlSum+tgoMOPuhqgSiKCBuwCcC0ev//POPTguwRWDAWJ999pn2nTh16pQWQcAIZ0uMicO+qdkiMOCaPXv26PMooisgtEAQQUQE1g4OlhEM4IP0frwch+hhWW4T3hjvv/++FneQAoEIEkQnwIwyK3aIWsG+I60FVgJ4EQ/hCKkZnTp10v4SedkMITAgZwgKGEJjoGDhQwHVx2QWAudS1CLFA8ZmPQEKDNazYk8SIAESIAESIAESIAESIAESIIFbEzCEwLB9+3aBiyhCV6DwQBGCQmZqyMuBymSZm8ONz54ABYbsGbEHCZAACZAACZAACZAACZAACZCAdQQMITBgKQiD2bBhg64cAUEBoR9oCB1BrgryjDIztrAOQ/a9YIyC8CCUA0F4DcJ8UBYEwoepIc8G0RToY8qXQWiMKZfH8i4Ik0H+EMJYYFSJfCWE5pjWZeqLEBqMuXr1ai2wVKtWTQYMGCBNmjTJftLZ9KDAkGuEHIAESIAESIAESIAESIAESCAfCeCMhFSP7BpSQUzml9n15c9zTsAwAkPOl5j7K+GIivqmyGGCeQYMOJCygXwXU2UL5B117txZG4bgewkJCTpfCH2QM2Tp1ApBBI6i6AcTFuTswMwDzq2jRo0yTxhCBnKmkJuD2rLIeYIogZwplEKBI2luGgWG3NDjtSRAAiRAAiRAAiRAAiRAAvlN4Pvvv9dnteyaLX4N2Y3Fn2dNwBACAw7aMLywrCuK8ioLFizQZh8dOnTQxiSOaDBIgbAAl1SYcWTV+vfvr406YK4RGBiou8G9s127dtpN9M0339TfQ8RFq1at9HgjR440Dzdt2jQtMsDp1WSYAjEBfRYtWqRdRNFQ6gWurRA5cluWkwKDI54YjkkCJEACJEACJEACJEACJJBXBMLDw+Xo0aPZ3q5+/fragJHNsQQMITBAkYKDqalWKAQH1A9FFAEaSq9AbHCEyACnUTiUrlq1SjuAZtZw6McDi4O/pWiAvkihQBrEsmXL9KUofwKxAfVSTSVg8H18MOAtMXDgQHN1DNSshcABA0vLhlQN+E2sW7dOO4TmtFFgyCk5XkcCJEACJEACJEACJEACJEACJJCegCEEBvgroLQKDt+mQ/qgQYN0CY8aNWroMik1a9bUKQn2bs8884wcOnRIxo0bp/87cuSIjqRAZAJquqIEC0q8IMph+PDh0r179zRTQLkSpDPAlwGK2SeffKKrYOzYsUNHIVg21DhFygT6oKGsC4QLpFNYNpQtgV/DrFmzdJ+cNgoMOSXH60iABEiABEiABEiABEiABEiABAwpMCA9AFEMMFVEgx/B4cOHzRENeKO/cOFCXS/U3u3++++Xc+fO6SiJ3r176zqiEAsQ1YAD+pw5cwRVLlDjFFEFMKC0bKZog/Xr12szx2HDhgk8HeC7kL5BtAgLC9PCARrKcML8MX1UBMSJLl26aCECnhBZNZOAkNXPUfsVAgnmz0YCJEACJEACJEACJEACJEACJEACuSFgiAgGHJSRVoBDPBpSCXAYHzp0qP76u+++0/4ImR3acwMH1+I+J06c0KKGydAR30cUAg74SHVITU3Vc5swYYKOtLBsJoEBFTBCQ0O1wADTx927d2eYWmYCA0weR4wYkaavSWDITNCw7EiBIbe7z+tJgARIgARIgARIgARIgARIgASsJWAIgQEmjij1OGXKFNm2bZs89dRTAm+Ee++9V6/z888/19UV/vzzT2vXbXW/J598Unbu3KmjDlAhwtT279+vqz4gLQIlI21NkcCY/v7+aebBFAmrt+WWHVNTb0h8YrJ4eniIr4+nfQblKCRAAiRAAiRAAiRAAiRAAiRAArckYAiBAWkIH330kVSpUkUuXLggfn5+snz5cv0nGlIXEO4/b948u283BAREKfzwww/a78HU9u3bp9MXEDmB8pTwSkBliPTRBulNHmFUCe+GxYsX63QLU4uIiNB+CpYmj88//7w2efztt9/SrMsUPUGTx7TbDWHhSlS8bNxzTv7ef1H8fb3koWYVpVypwlI0kI6xdv9wcEASIAESIAESIAESIAESIAESsCBgCIEB80X0AmqXFipUSKcrmCpGoOwj0hJwGH/hhRfsvrlIbYBIMGDAAHn55ZfN40+dOlWXlTRFNuDnW7ZskT/++MNcphLeDW3btpVnn31WiwpoKKvZsmVLHf1gKUZANEDKg2WZSlTGQB9LMQIVKyBkwCAS389NczWTx1MXomTQ5A1yPS4pDZY7q4bKwG71KTLk5mHhtSRAAiRAAiRAAiRAAiRAAiSQDQHDCAz5uZOIkED6RZ8+fcwmj0jLQHULiAJox44dk06dOulqFhA6UEoTVS0gKMBzITg4OI04gcoQqASBqhHwjoBYAeFg1KhR5n4YA1ESMTExWlQJCQnR5ThXr16tK1M0bNgwV1hcSWC4Gh0vb0/5U85GxGTKpM/jteX+JhWkQIECuWLGi0mABEiABEiABEiABEiABLImAAN5vDxFSvmVK1d0Bb7y5ctLq1at0njakaFrEqDAYMW+xsfHa88HRBdcvnxZV4NABAKEB29vb/MIe/fu1aUs4a/g6ekp8FQYPHiwlCtXLsNd5s6dq30jzp49q80fISSkHw8XXbp0ScaOHasrZMTFxWkfiP79+0vTpk2tmPmtu7iSwIDohb5jV2e54JIhBeXjfi0kqPDNtBo2EiABEiABEiABEiABEiAB+xJYtWqV9O3bV5+DkEaOF6QXL17U5yNU4oM5P5trE3BKgQFpB2iPPPKIfuNs+jq7rUAEAJv1BFxJYNhz9JK8MzVrk08vTw+ZOeQ+CSlCgcH6J4Q9SYAESIAESIAESIAESMB6At27d5fw8HDtIefl5ZXmQlTe81Am7GyuTcApBYZq1appYQEql4+Pj5i+vnHjRpa7gf4HDhxw7d2y8+pcSWA4p1IjXvpoZZaEKiijx1G9m9KHwc7PEIcjARIgARIgARIgARLIfwJJySny5+7zsnb7GYlUqcNFC/lJqzvDpFntUuLtlXdV1R566CGrvOISEhJk8uTJ8ssvv2hBIigoSFcIhOF94cKFNdBhw4bJsmXLZO3atRmq70HIQCo6rj9z5ozcc889Mnr0aB0VbtmqVq0q/fr1k1deeUV/G19n1eD3FxYWlv+bafAZOKXAALNENJPHgOnr7Fjn1pMgu/Fd7eeuJDBci0mQUV9ulkMnr2a6TW/1aKD+gi3talvI9ZAACZAACZAACZAACbg5gfArsTJsxkY5F3FdvaQVwTtZ05+lQwNk1ItNpXhwwTyhNHToUPnmm2+kR48e2l8OB3qkjls2vDTu1auXbN68WXsyoBrfoUOHdEp6hQoVdAU/vGQ+fPiwPPzww/L+++/rdAtTQ98OHToIqv1BaLBFYECqhmVDKvygQYME0RW///672aw/T2C56E2cUmBwUdZOtyxXEhgAN/xqrAydtlHOX7qehnWHFrfJk/fdLoUDWKrS6R5CTogESIAESIAESIAESCDHBBC50G/cav37b2bB3hAaShcLlM/eaJ0nkQwwdYQ5/caNG/Wa/Pz8pF69etoc/4knntD+devXr9cCA7zqUAnQ1H799VcdwQDTe/RFe+aZZyQqKipNyjyEBUQurFu3TgICAmwSGCxBp6Sk6MiGv/76S7766itt1s+WewIUGHLP0LAjuJrAgI24GhUvpy5Gy9YDFyXA31ta1CkjRQJ9JLCgj2H3iRMnARIgARIgARIgARIggcwIrFEpEZ/M35YtnDe619cpE3nVDh48KBs2bJAdO3boSIXo6Gh9gF+4cKGutDdz5kx9sLestIfIBpxPWrduLRMmTNBTXbFihTaNxHX4GarrtWjRQh5//HFBtASaLREMlut/99135dtvv5WpU6dKy5Yt8wqNy9/HUAIDSkWeOHFC59uk92OABwMePjbrCbiiwGD96tmTBEiABEiABEiABEiABIxNYMTMTbLt4MVMoxdMK0MUQ/1qJeTdXo3zZbFIQxgyZIiuyIfoA5SvhIn/vn37MswHkQ7wQZg9e7b+GVIX8L26devKn4hKmAAAIABJREFUJ598IqjE9+GHHwqiHW677bYcCwyff/65fPrpp/LBBx9Ip06d8oWLq97UEALD8ePHtTnHP//8k0FY+O+DQ5NHWx9SCgy2EmN/EiABEiABEiABEiABEnAeAgMnrJGjZ65lO6HKYUVkwsDW2fZzVAdENKBCYNeuXXVaw60iGO6++24ZP368eSqzZs3SEQ1r1qyRp556SkqVKmUWINApIiJCmjdvLiNGjJAuXbqYr0O6RpMmTdKYPOKH33//vbz99ts6PQJnTDb7EjCEwIDcm927d+ucHBg5mpxF06MoU6aMfem4+GgUGFx8g7k8EiABEiABEiABEiABlybgbBEMqAhRvHjxDMzhmfDaa6/Jq6++KnXq1JGePXvqQ/6zzz5r7guTxf79+2cwdYQHQ6tWrXQUA7wdpkyZoitOmBoi2zEm0iaQ9mBqSH9A5IRlFQn4Nrz88sta7EAkBJv9CRhCYKhdu7Z+CPHAsdmPAAUG+7HkSCRAAiRAAiRAAiRAAiSQ1wSczYMB1R0QYdCmTRtdESIpKUl27dolX375pfj6+urUiNDQUHMVid69e2tvBVSGgDeDZRUJS5ZIrUB1CbxQhi+Dh4dHGtTwY1i6dKl+IV2tWjX9chopGahEYRIYTp8+ratPQABBaoSXl1eaMWrUqKGrV7DljoAhBAaEvPTp00e6deuWu9Xy6jQEKDDwgSABEiABEiABEiABEiAB4xJwtioS8EaAALB3716dugCBoUSJEtKsWTOBmFC69M2y8QkJCbosJfoj6qFo0aI6KgFRDplFq2/ZskWefvppXaECpS3TN5g/fvTRR7J69WqJjY2VRo0aybBhw7TQYRIYYDaJyPis2sqVK7X/A1vuCBhCYIBidenSJYEZB5v9CFBgsB9LjkQCJEACJEACJEACJEAC+UEg/EqsDJ/xl5yNiBEYOqJcpenPMqGBMvLFJlI8uGB+TM1u9xwzZowsWLBA+zAEBQXZbVwOZH8ChhAYoEhBbUIN1R49ekjZsmXVh0Z9ethyRYACQ67w8WISIAESIAESIAESIAEScAoCiGTYuPu8IGUiMjpeihbyk9aqLGXT2qXE28vTKeaYk0ns2bNHVxFECsQTTzyhPRXYnJuAIQQGIJw/f742/MiqQXBAyRM26wlQYLCeFXuSAAmQAAmQAAmQAAmQAAnkLYGqVauKv7+/tGzZUkaPHq0rULA5NwFDCAwwBRk7dqyEhIQIDB+LFCmSKVU8dGzWE6DAYD0r9iQBEiABEiABEiABEiABEiABErg1AUMIDKiFCsdQCA109rTfI02BwX4sORIJkAAJGIVAogqj9UkXLovQ2pyE0CYmqbG8/wu9zek4RmHHeZIACZAACZAACbiAwIC6pm+99ZZ07dqV+2lHAhQY7AiTQ5EACZCAAQjEJSTJnmOXpUKpwlI86Kbh19WoeNlxKFwa1iwpgQWtL8914fJ1wX/VKwSLr4+XxMQlytYDF6V25VAJLuxnABqcIgmQAAmQAAmQgL0JGCKCoWPHjuYSI/YG4M7jUWBw593n2kmABNyNQFx8kmxTQsLH87ZqceHDPs3E29NDPpyzRQ6evCpPt68uDzStYJXIAGFh8OQNEhmTIO/2bCRVywfLir9Pycwf90qlMkVkeK/GFBnc7QHjekmABEiABEhAETCEwLB8+XJ57733ZPHixTpVgs0+BCgw2IcjRyEBEiABIxCIjk2UZZtOyv9+uWmIHBrkL4H+3vLPuSj99b0NyspzD9WUwoG+t1xOSuoNOXUhSgsMcQnJ4uFRQO6sGqqiF8LN437Up7nhS6IZYU85RxIgARIgARJwNgKGEBgmT56sa54eO3ZM7rvvPgkLC1O/0HikYYkqEn379nU2vk49HwoMTr09nBwJkAAJ2J1AjBIZfvvrhMz99UCasbW48LASFwJuLS6YLkpJSZWTF6LlrSk3RQZTg2gxWokLJQxeb93u4DkgCZAACZAACbgJAUMIDNWqVct2OyAwHDiQ9hembC9y8w4UGNz8AeDySYAE3JIAIhl6fbBcYuP/Ewb+N7ydBBexzTchVqVcTP1+t6zZdsbMsVeHmtK+acU0xo9uCZmLJgESIAESIAE3JWAIgeHs2bNWbQ/TJ6zCZO5EgcE2XuxNAvlNAAZ90bFJcuOGiIpKVyHuN0362EjAWgIwdDR5Llheg4gDeDKYjB+zGw+Gjiv/Pq09Fywb0iWGK0+GWreFaONHNhIgARIgARIgAfciYAiBwdYtSUhIkN9++02aN28uxYoVs/Vyt+lPgcFttpoLdQEC4Vdj5fvVR2XV1tM6JL1cyULStW1VqVExhGZ6LrC/ebEERC5MWrRDNu27oG/X5q4wncqw8I/D+ms8U2P6tdC+DLdqqampsu1guIyctVl3Q1rE8yq9YtLXO82eDJ8PaiNlQgPzYlm8BwmQAAmQAAmQgBMRcEmB4dKlS9KiRQv58ssvpUmTJk6E27mmQoHBufaDsyGBrAhERMbKkM83ynnl3J++PXV/NXmgWUUpZEN5QZJ2TwI3VOjL+Uuq+oPyTbirWnHtueCh0gvhyfD1isPaO6Fi6cLipSpLZNeuqeoRn3+7S46cidTXFSvqp4wfo7Xx4yMtb5MOLSvxmcwOIn9OAiRAAi5KYPv27TJjxgzZv3+/XLlyRYoWLSrly5eXVq1ayYsvvmj4Va9du1afM48ePSpRUVESFBQklSpVkgceeEA6d+6s13fmzBm55557ZNCgQdKzZ0+7rDkuLk5mzpwpDRs2lEaNGqUZE3PavXu3vPLKKxnuVbVqVenXr1+mP7PLxNIN4rICA6IXZs+eTYHhFk8NBQZHfKQ4JgnYl0CSMtP7ce0xs/N/+tG9PAvItLfupamefbG77GgQGS5fi1ceCR5mQ0cYPyYkpUgRVT3CGnHBBAciQ1JyqhIX/PW3YPyIspU+3p4UF1z2CeLCbCVwSQnE8AkLKXLzc4KGzw4+b2wk4IoEVq1apY33GzdurA/bISEhcvHiRdm5c6fs2rVLvvvuO0Mve/78+TJy5Ehp3769PPjgg1K4cGE5d+6cbN68WSIjI2XatGl6fY4QGCDW4OV5ZmIB5oS5HTp0KANfCgx2eOQQwUCBIXuQFBiyZ8QeJJDfBJAaMWLmJv12OKv2Rvf60urOsPyeKu9PAiRAAiRgQeDytThZuu64FArwkbvrh2mR4ZyKIho/f5sM7HqnlClufRrR1eh4EeW/g2g1L6+bUUaXIuN0FJKtBq3cJNckcCM5Sa4f3CTRe9dJSuw18SxYRArVaikB1RpLAa9bp77Zk0j37t0lPDxcp6t7eaX14kGKXfpKgPa8d16M1bp1aylbtqzMmzcvw+0s10eBIS92Iw/vQYHBOtgUGKzjxF4kkJ8ELl65LkOnbZQLl2OznMYrT9SVto3K5+c0eW8SIAESIAELAtdi4mX5llMq+uxmhbNnHqgurZUQjDSiCCUMBBf2k09fby1FrYhkgLiwQo31nfLhGa3MWMuWKKQikeJk+PS/pFJYEenV4Q6KDG7+9CVdC5fzC0ZK8pXzokJmlBil1Kh///QKLiWlug0X7yLF84TSQw89JAULFpTFixdnez+8WYcgUaVKFR15fv78ealQoYK89tprcvfdd5uvP3nypI4M2LZtm46GQNRAzZo1ZeDAgYIxLBtSFj7//HNZvny5uW+tWrVk8ODBOo0BLTExUacaLF26VEcaBAYG6vu9+eabEhwcfMt516tXTyAyTJgw4Zb9LAUGRDF99dVXcvXqVbn99tvl7bfflrp165qvf/rpp/X/pxct3nrrLdmyZYsgKsQ0XvqbIpoBBRF++OGHDPMxRTNkFsEQEREhn332maxZs0ansRQvXlw6duwovXv3ziAMZbuR6TowRcJWYi7UnwKDC20ml+KyBFAK8Muf9smyTSf1GiuUKiz+vl46lx7h6Ggw1MMvnEZtyTFXRVJTxKvwTVPe1KRESbkeKR6+BcXT3/o3fEZdP+dtPwJJySni7eWZZkCkGXlb4Sthv1m4z0gI9YcpqOe/fKOvJ0iiSpuxTAdwHxoZV3ruUowWiCOuxukfeqoqKymp6uCnWo8Ha0gbFdUQbJE6kRWrsxEx8vKYlfrMGKB4v6aiH2Yt3aujIdAGP3OXNK5ZUh0K0j777szendaOyIXTXwyU5KvKwBcPSfqmDrfeQaUk7IXxeRLJMHToUPnmm2+kR48e8uijj2oBwNMz82cTPytVqpQUKlRIXn75ZfHx8dFCw44dO2TWrFnmVPe///5bH7JxKIcAcO3aNX2g3rBhg/7ztttu06uOiYmRLl266AP3Cy+8IHXq1JHr168LrocfAtI2EGUAHwiIFfBGwHkI/XHYxjyQwuHnl3XZ5ueee04f+vv06SP333+/vjcEhPTNJAigyiH6YF5on376qRY+Vq5cqe+HZo3AAFEEaRi9evWSTp06mb0eSpYsqQWTcePGybJly+Trr782T8UkYqQXGCAuIH0F0SQvvfSSlCtXTjOfOnWqQCAaPXp0rj5CFBhyhc/YF1NgMPb+cfbGIWDKTUcoa5B6a2VrO6d+ufx25RFp06Cs/HM+SpAzX6FUEZ3zvv1QuDx1f3XDvr2CuHDxm48lJS5KSncfIR4BRST+zEG5sHCUBLfuJoXq3kuRwdYHxmD9URUlPjFZ/FVZSz8lnqGhnGaq+kXZloNqghpj/z9XpFSxACkZEqDHuaL8JnYcDpe7qpdgzrudnwu8hf925WF5rHVlCVU+HBBDT6pUruNnr0mzOqVt2js7T82phoPI8PaUP+WKeqZNDea89zUsZ5W4gGsg3Ow8EiFjv9qW4fzYqU0V6dDithz92+JUoDiZHBOI2btewn+cmO31xR8dIIE1W2TbL7cd8Db89ddfl40bN+qhcFjHW//77rtPnnjiCfH2/i9dAwdff39/LR6YIgdQDRBiAA7mlodly3mlpKRooQCHYUQTICIAbcqUKTJp0iSZM2dOlj58v/zyi46QgKDQtm1b87B79uzRB/d3331XunXrliWGU6dOyYABA2Tfvn26D6IfGjRooMWGRx55xCw2mAQGRCwsWbLELLLAiBGH+/Hjx2sPBzRrBAb9b5qdPBiGDx8uP/30k4BF6dKlzWuFceWYMWP09ytXrpzjR4ECQ47RGf9CCgzG38P8XgHeDOqDgHojg8Nz0UK+2uDNFRoO7zDDwyEHaysS6CO+6gBka4OHwvodZ1VpwPPq7ZWHDpGtX724+oW8oNVDRcUmyJa9F2WKcu1PVvMytTCVvzu8Z2N9oDJiS1VvXWL2rZfLK+aIh4+fFPD0lqKNH5FLy2aKd3AZSb52Ucq+PFm8Ct06XNGIa3eFOcepA2VcYkqaMqkI5S7k/1+OeHbrhLiwUwkAY+ZulbefbSh1qhSTuPhk+Wju3+rAmizvvdDYqoMqxIXdRy/J+7O3qP5+8uHLzfTfRch136W+3/meKqq6RSWKDNltiJU/x2F54sLtSryJkHIqeurdXo0Ff9e9p/xiEtQz0euRWtI8H0SGJGVWGhOXlOawjbn6+3iKv1/e5aBbYoTA8JZKi7gafTPiDK27EhjaNSqn5vmf8WN26K/HJcqvG0/I3F9vplygNb2jlPTtXFcZtvpkdzl/7sIEzi/6QOKO78g8esG0bvV7TMFKd0rJJ9/JMxIHDx7UEQZ4M44379HR0TqtYeHCheLre9PkFAIDUhNMxoimycGwEP1QjQICRFJSknzxxRfy888/Cw74+NrUUDkQ6Q5oiBJAGgLe5GfV3njjDUHFBQgg6SMPIFbcddddMnHirQUbiBsQCv7880+9vq1btwoqPGAtiALAuCaBAdESEFxMDQJK7dq19fdMFTXyWmBo2bKl1KhRQyZPnpwG04kTJ7TokZ3Ikt1DRIEhO0Iu/HMKDC68uXmwNOR/rtl+RhtY4Re4QgW9pX2TCtK+aUWzq3weTMMht8Bbz/W7zsqStUeViVa8Dkltq34Z7NCikk1rOxuufrH8fINEWvxiiQmXVoLAqN5NpXiQdSID3gj2H78m07WWL1lIjxVUyPbICIfAs3HQlLgYSU2Av8QNubBotCRdPi1FmnZUQkMHSY2PVWkTIUp4sF3YsXEa7G4jAYgLKFG568gleUiVSUVkzhX1d8Lc3w6qN9qVpEyxQLMR3a2GRjTOCx+u0IdCFT0ufTvVlZVbT+lIBP3L4n23S8e7q+i0oFu1q1FxsuLv0+bDF8pm4jNx5HSkvqxBjRLyijqI5SSCyEY0btEde/39mmPy47pjer0QdWJik3Q1ElS2geBwe7kgKZiHh3qICycvRsvS9celh/I7QPQL/m36RkVZNL2jtFRWXgV5LTLoFImpKkVCRXuggU1yyr8pEg/UkHsahFktMsCPB54LprQIjId/m7QnQ/FCVn3e3OLhdMNFnvlykCSev/lZvFXzKVVJwp7/OLtuDvl5fHy8DBkyRAsEeHsO3wU0CAx4m//++++nuS88FJBKsG7dOilRooSu2rBo0SKdHoBogSJFiuhDPNIx4Mdg8i5ARAJSLv73v/9luQ6kOJiiKzLrhDSKW12f2TVI2Xj11Vdl06ZNMn36dB1VcSuTx/QpC3ktMEDoSU5OzpIR1oJKIDltFBhySs4FrqPA4AKbmE9LgLgw/fvd8tdele+XrlWvECyDnr7LpoN4Pi0j09viF+c5v+yX1dvOZPg5zLSGPNfQqugD/GL7iXp7ireqmTWEx/bsUEv/gnirhrDjTxftkI17lHFTFm3iwFbK6KuoM2G0ei7J0VdUBMNsSYmJlNCH+sn1YzvEv8ztcn7hSCn2QG/xK1tdvFTaRF62+MQkuXg5TgKVaGYK0cczH309UYoHF8zTQ5O9131DeV0kXb0oHn4BZq4psVHKcTxKvJQBmId39m9CcZCDuDBEHZwQUfP43ZVVhMDtMmHhNtm8T5lvqbepY19pIaVDs/fPQD76GXUoHDx5vVxXEQuWDdE+eBNubTk/7BGM8L76/WCacSAuvPx4HR3Gz2Y/Avi78rs1R7XIbGrwGEDUSV6LC7j/qQtR8sak9YKomMa1SqkqDfXky6XKv2bzSeXL4SEfqoN45TJF8+wgDj6rlQg/5+f9Gg88F/BMD1LPOjwZtMnja61U5F/24nB6caHmbSFKhLts9mSgyGC/59qIIzlrBEN6lohoQApB165d5b333tM/tjaCAaLCvffem8EbAG/iy5cvbxYYrIlgQHoEIg9MUQ/p5xkQEGD2dLDleYCnAnwZECEB/wdbBAZ4QcA/In1KCPwRjhw5olNI0OyVIoFqi2CPVI/MGgwfIezktBlaYIDyAuMOqFiWDWErcCENDQ3VZiFsmROgwMAnI6cEjqq3ggMnrs3ycvyCWb9azv9iyum87HHdSeVx0G/c6iyHekuZaTWrUybbW51Xb65eHL0yy34+6hfezwe3kRLBt05vQArKm5+tl4tXsq4igV+k29xVLts5OVuHlMR4idm9Si4vm6Wn5leuhgS17CIXvx2joheUeZmHp5R7Zbp4BQbl2dQhLhw/G6XfFN5ROUT6qbfeaDBU+0uJPLa+mYUJXor6NynYIhQa3yuo3sh753E6EcSFxIjTcm7uUCXcVJPQh19Rb4A85Or6ryVq+x9Ssov6flg1q0QGPI/vzvhLYD6HBid8k+lo7UrF5LXud1qV2oBrITIcOnFFBk/ZYN5nmJni0BSoSvLZ0qJVRESfMavMc8G1X7xzr9mTwZax7NUX+20pkoATUrBs8ZfAXKKUwAWzSn+/m9EcN1T6FiI/ULYwPxp8AeAJA6HJ1JAm90n/lhKiDs8m48e8mttlFSUwbsE22Xvssr4lzCfBB61i6cIy7PlGEmpl1Jg95owQ7siYJPnlz3+0WFmlbJD8guiKh2rKxK+3y4An71TlK72VIHczVPxWTZcr/kKVK1ZiHDwXOirfi51HwrUnA/YfnxWkzBm9/F92HPjzzAk4mwcDSlTigJq+mbwPLN+OZ+XBADEBkQimShSNGjWSdu3a6UgGU0P1AxzAGzZsaBYYrPFgQOUIVIvA2DCBtLVltb4ZM2bIJ598oj0MYG5pi8CAqA6kdaxfv958dkWqB9YMjweTwAARon79+jqSA2uwbB999JE2yNy1a1cGk8r0EROI/ECaCCJK0p+jbeWRWX9DCAxQhHbu3JkmfwUAYY4BkQFhKAijoZhg2yNBgcE2Xuz9H4GZP+5RobH/vbVKz6Zp7VIyoEs9FdacPzmvudmrRcsPyfx0b0Atx6tfrbi81u3ObH8pPKF+8X7lFkIFxpz+1j3ZvuW9pn6JHzlzsxw+pSotZNFGvthE6lXNm/JTuWGb/lp4MKBaxOXlX0rsoS3pflxAij82UHxVBIN3HnowQNCZ/M1O2bL/op5Pvaqh2ntj078RJLUqhcjgpxtov5HsGg6WW/ZfkMMnr0rXdtX0G8uIyFgZv2C7jl4pr3LX81JkSImL1mIOfC/Q/G6ro/wtQiRm1803I76lKkvJrsOsNtXEW9VhSohBRRNTu0Pxea1bfZsimBDtM0Z5LpjSIjAW0iXgyVC3SqjZ+DE73khtGq8OmPBcsGyhQf7ak8Fk/JjdOPb8ORhNWrxT+qoICkR04JnYeuCiMkOMkkdbVU7jX3Gr+0apvwfmq/STmopvg+olFRNPHSo/6esd8uZTeR8xBnEBho7vqUMv0iIsGzwZhvVUh3kVMZIfIsNYFTm27/hNkQENYtVwzCcPxQXTvSEyXFUiwwW1V0NUNQm0ureH6ioQnipdwhpxwTQWRIbNKmoQ3hZI9cEe7FFiCoQFigv2/NQabyxnqyLRoUMHLQ60adNGl5zE5wCHXhgIwnsBhocmASKrKhLwXkCEQbNmzfSGoMQkBAr4FlSrVk0bLKLKBM5+qIBgSpGwrCIBfwN4HSA9A1UkcF5E+gMMIlGKER4KSE1AHxhPXrhwQXtFoB8MG7NqEDuaNm0q8H4oW7asxMbG6qoSSKsICwvTVS3gG2GLwICKFjCWhKAAI8zIyEi9fpTcRDMJDPh/+DxgfIgEqEJhijZA9Yt33nlHXnnlFT03CI533HGHvj69wACRBNEe2A8wqFixoq5EgTkjLQWCB0w2c9oMITAgTwclOKAKoSFUBCE2qGWKjQV0hKNAzWGzngAFButZsWdaAp8rs8Hf/jqRJRaEJL+uDuEByuzNaG3ur/tVzu6RLKddu3IxlQJSX72RvHVYKw4WL6s3qUmqZFtmDW98x/VvkW0EA67dsPOsjJm3NdNxCqq3mShTaevbUGfYF7yBTVI1u+GxEL5koiScPWSeVki7nuIdEia+xcuLZx6nSCDUfuLCHdq13bJVqxCkxYViVoTaJyYly7aD4fLhnL/1EO0alVdvLmvIMHXIOKY8NeApMOn11jYdeuMSktKIdjA2RJ1zXxsiIVKuX5PwX6ZK3JGb8zI1nxK3KfOvt6021MSBF6HokxbtlN3H/jvQt29aQXswFC7om236D+4NQeej/22R/SduCmg1bwuWE+eidLoERIZ3YPyoDmR+2RisRipzSUSZrNl+Vo/TQFWNKKf8Sb5bfVR/DSNUvFnPy7f9EBMGqegjCAHwhPiobwv1dv2SfKpEAVSS69auqvKtqZitWAWfiu9WHZFv1VpQCe2N7vX12/A3P1unBItEfbj8WKWk5OXarqvIgD4fr9IeB/AVGPJcI12tw5QucY+qeIOUgLz2hsF8Zv+8T9ZYpLjVU8/PAHWgh8CXHy1cRfu8rbx4wv8tVYk59O5YW6VxlLT57+1Yxb2gRVrddfVsIKKFkQv5sbPOdc+ka+FyYcEo9W/qOf3vgv5L5t8/vYNLS8luw8RbpcHlRfv1119lxYoVsnfvXkE5RAgMCLeHWICDvWXVAhx8cc7DmQ4vj3HIx2G3f//+OiXC1HDQRmTA6tWr9YEeBoVIdcALZjSTwID/R19UiMAccH94NOCgDZHCVM4SL6jnzp0rP/74o/zzzz+6wgPOmkjFgEcD5pBVgxcEIg2Q8nHp0iVdzQKHcRz8IWoEBd2MurRFYEB/CC+IgsB1ON/CAwGHfYgXlgID0jvA4vjx45ptv379tKgAgQDmjOgLTwj8jnXo0M3fq9ILDPge0i3gdQGmKJuJ1BCsA+IE1oGvc9oMITA0adJE57I8//zzep2m8iOAjrARiAuHDx8WhLywWU+AAoP1rNgzLQGURkR4dFYNZmptG5c3JLZd6lCJuuVZtWfVL833NymfrXiCQ8GXP+2T5SonPLP2jDIhe1S52lvzBhsh1XBsx4HVsiHfGW/m7lCih7cN9c8xN4QOozQgnPb9lMO6ZQh/Xm5cSlKCJF8+J+fnv3szLeLfhnSJ0Ef6i3fhYnk5HfO9cIB65r3fJfFfgQiH3a9GtrfpEBeh3jhCGEI6AYw+vVR4OzwLSoYUlDtUGgFK1QUrIzprGg7iMNR7VIVGQ5yCuHBQRUag8nY15XtibfUW7L33jUQ5N/VluaHNNW+20v1mSpJ3QbW+7CMz8MsUKqxMVT4sf/8b6WG5BpQtRNk8a4QYHAinwc9FRYg0q11anlUiDMYeNWuTNsPD812pbBEJ8Lu1WAke4IyQ8RKK70uP1RZP9cv18i0n9Wewz+O1lclfUSms2OVVg+ixettp9ffAzRx8CEGmt/3wqbA2rB1VemAWOFhVIkCaBJqlWSAiqhrVLJmn3iDJ6nNxJiJa/10JwQOeC/EJKcr48agcVOkub/WwToiz517gWVqgos/guZC+wZOhd8c7bD7Q53Z+eCbf++IvOaMMf9O3V5+sqyPPiln5d0Bu58LrXZ8AIhmuH9okSJlIVtGBXgFFJbBWCwmo2lgKeDlnRKlJYMAbczbXIWAIgaFWrVo656Zjx46aPEI6QkJCdK1TNOTQfPzxx7pECJv1BCgwWM+KPdMSuKTCvN+dcTMfNH2Dm/i4V1tadbhwRq4wzpqxZI8vrS0uAAAgAElEQVQcO3Mtw/RwsBveq5FemzVv5i6pnOAJi7bLbuW0b9la1Ssjzz1c06ZfdnFYOXwqUn5QlS3g1g4zzUdaqaoWirct5TMxpwXLDmoTS1PJy1rKMKxvZxXCrd7y5uWbsJTkREm+dNZCXCigohZKq0oSN99CQ2QorkQGrzwWGRDBgLfh63eqN0EW7S5VXhSeDLZEi4A3DogjZv6lPi8xuhoJ3uyCvbWiDsSFD2ZvlkNq//FmfqB6G3v83DUt8uEF1YgXmkhV9TxkF8kAcSFKvbFI3f6jJO75I83afCrUFa/WvaRg0eBsw7aTk1NUmH+4fDDnZlpLHSVwvapSouBbAU8GD6XGTHnzbvVmvVC2H/EkNRYEBYR+I5Vh7Fdb9WG1m0opQYnY20oVkSJWpKPgRgnKP+OaCkeH8Bbyb5QJ+KPMrIoUtcpML9sJ29gBn9uVqroFjGNNDcauH/drblNYu0lkeP3Tdbp8p6nBfwWHZ1uqNVxRFTeSkm9onwQv5QUDseCyesa8VSSCtYKX5q0iWJLVs52qnuVC/wo3+Oyg2fIZsRFplt3/UZ+JARPW6s8bPBfeU58LPE8mT4ZRLzXRwl5epW0gggX+Cwv/uPkG8ZGWt+mIFZg8QihC5aVpb93LEpP2egA4jiEJUGAw5LZlO2lDCAytWrXSJUwQAoLcGuTPICzGFNHw1Vdf6fQJ1CFls54ABQbrWbFnWgJwx45Qh4KF6qCKaAZE4qHVqBis30CWCApQv6jmTzhqbvdqh1oPHMeXrD2m3s5eUIecmyNWVYcerO2E+iW2XeMKVkUe4DoccPCL5t8q7xpvHRvVLKVDx3MarotDIn6ph0mgtW+tTUyyEjzw8yKBPjJ+QCurS2fmljOuh8CQeO6oCuscKTdSkpXnwmviX6GWRPw6TXkybBbvYmW18aB3kbyLYsDha7Z64/zX3vPqwJqiQtGL6oP7XpXT7asiPZAiY225Q3xOflYHDJQZRUg0wrab1y0t73+5RV5Q1RGqlFNv1K0weEP0w0RVSWTbwZu+EGVVjvs5dZCHOSLm9FHf5jrPHBESt2oJ/2fvOsCjqLrohTRSSSGhhd47CNKLIKAoKAj4W1FUFOkq0kRsCAJSpBcL0lRQsWOhSQel9yo1gTTSe8J/zwuzbEKSnU02m93kXj8+JJl58955s7Pzzrv3nNgoitrxHcXu/1Ud5uhfhUq4elHK5aPq3y7VmpL/IyPI2cO0a8dNXjhv5oUzPi8gpz778Ti9yGOa/PleJlDqUX0mrTx0lkiBZMB4sDjULPw6ME6DOQtBb8YBsEBZEiwBa1fxUfgiu2P74SBawYv7919pS7B0NVc0Mr/3ObKP9vK9NH/dYUNT+KxNH6bPZUM7CamuKLV4g8V1jd02UIqGZ4om/Giqv7i/4WoAHYgpQ5jk8HdnUiiOJizaSc15Nx3POD0kg5ZBM3U55rsBdWwWqMrBcJ9eD4+l919mG152XNEbeK7h/i1lZEeKn5kzXzgen1Po6LzFpTXQXNCEH+He0IqJGJDE1gw8c1f/flI986G54e3hxPMYr0qnIBhcjkV+S90W7bRmv+RagoCtICAEg63MhGX7YRcEA+pwIH4BMQuURUA8A6qXqNdBTJkyRSlhQn1TQj8CQjDox0qOzIwAFhUfs5BWL06Dxo4Q0n6xCDt75aZK48buY7eW9lkiEcKLlPd5kdSGX0ab1g4wjA2LxA27/lMp2+XKmLbf0xBDqn0cW03ib+ykYiGA9GhTNeUFcc+h9n/UrK05Nq3KNji9HUr11oq0FCYZgs8psUdXXuA6lHKj1JibFLXvJ/Jq8RCTC/66u5KaEKt8sckJCvYO6rzUGBZ7Y5LI0ctPVztxCcnK7q6cn4da0JXlRRKavMrZB1V5VxS/w2Le0wQxAA2GnUeClaAjAuKgg3o3UlkHSJsG2bSYRT5NuYhonc5KMuDn5pALOD6dCZ3Eq2fo+lcfkCOTNyW6jqT45HRyP7CKki8coDK9hnEqbStycDG9MMSCNywyUdV4jp67jW4yCQISDuJ+yM4wZwcbi/B5LIS47/gd21ssNj8Y3IZqs9aAHiINhMeyH5B1kpH90rZReapesbTBshJlKbOZQDNnwarrhsnlIIxrPy/kNc0FrSwap0CT4cPB7UyKvOJYjVyAlSc0FxDI0gCpomkyQPhRD8mA8gXsoIMUxg46bEA/YytH7KijrWlMfCA7ylTgeTZ85hZlt4gAqYRMAa2MC2VkyNTRQzKBGEAZCzKoNL0NlBchkwzEnDn3EtoCLsauHbg3SvB/eoRZTY07L78HyZAx5xnlUKiZTkq5RY6cViPkQl4QlXMEAUHA1hGwC4IBoo7PPfecEqNA9O3blz788EP1//jivf/++wmKnlOnTrV1vG2qf0Iw2NR02FVnFn7HIo+7Lhr6bPzijB/as8hj3PlDdNOjOqd//6PqZrWxYddxPNcVl084R96179Fl5Yea4F93/MfZEOcMtfwQZcRCvm2jDCVwa8baTWdo5W8nc7wkFojjnmdF+tKmF5iW7DdIBkrj1PZSdwSF0liPwfjfpq4HcgFERejP86j8U++Qg29FuhUfSaEsaOjgVpp873tKN8lwPRzuCLvoIRYs7Ny8kiKG9hwPVqnOeheFIBiw6MbO9aEzmcUiMZZnetSl+9laVI9OAY5P4vb+PRFCH7HbghZIA588uK2uLAjtHJAMSdcvUuQtdxrz6VEl1Dj1xcZUwTGSSlWoqZtcAPlivOBFpsdZtq9FIMMC6eh6FoZYhC9df5TqV3KnFX9e4AwaV+VK0by2H3m6OlLn1tV1kwxYyCEl3tiNAv1BthD0DuDiYM2I4UX7iFlbFBEDUhFZC/tOBBs0GR7rXFPZDRovhrPrHxbNa1l4dj3rGyCQtYAyEtjXghjAwhwClnrIE4hzggSYzZouWuYZ2sRzbtQT9xDKgPRk1eAczNM4thbFc844WrLI7/DHm+la0Mcz+brpn8tMJhwziHrW5Htp/MKdqn0IdcIBxBRG1pxXuZYgIAgIAoJA7gjYBcGAIcCuA5YlUAJt0aKFYVRQyYTqJggG2JZI6EdACAb9WMmRmRFYxjtLP7Gfd06B3cNRXBus16YSO554SU3kxQ7qt7Ez6+9t3UWuNpbwzasoiReqJTsPoahkB0UyYLexnLcz3fpnHaVHXKGy/cfy4jf3xQoWmLDyXJHDgn4sp8e2b5J3C6C83JMQYPuChSdzCpS4oF96tQHy0oeCOic1NpIuz38FdRdU0tWTSYZJFLF1DSWczyid8+02kDwbd1EZErkFylk++vIflWqNgKgndoYXfXdE/btGYGlO/26jaxGGxXMKZ/dA6PE0CzJqgYVlz3bV1KJJz+480tFP8s4zLAGxO2scLViTYSTrH+hN/YZ+yqXgKF6MuvAi8yCLfSYr4gyWd9Urequ0cpUFkkugxv0qlzSM5QUuxEIhMtiyfjl2XzmjXBvg2PDhq211fYahURB/M4Icz2yilNr3k6dfGYqJjienqMt0KzmekvxqUll/LlMx4SKhdRcL6KHTtxCw10KPHWxB3Zco/QApBCFEEC+4vyD8eCk4hgbwvaW3VArj+vLXk5wx5kctWdARGVAQfoTbydjnWujCWhsjsg9QRoAyMC2gD/Bk9zomxWuz4oTn46vTNhl+jGflvNGddWUu4CTcz1dZywdkFUo/cOtBTwJ9RDzNThsPt69ulrhqQc2ltCsICAKCgCCgDwGbJxgSEtgubM4cZRtibFeib3hyVG4ICMEg90deEUApxOtztuV4+jsshNiCU3b1BATsoE+wmtW/tZ0w7Fq9yqmxSEXXsyun5zp6j4k9uYtCvs+wxIW4oJN/ZUqNZpul0CvqZ173PkS+XQZQSROKzLAmG8HlCNqLctbrV+TdVOzyWtOb/Qq/yMNaLqeA0n6PtjlbM+nFsDCOQ1lFwn+HOIMB4r+ZF+Gu1ZqQf88husUisSh8a/FOtfNsHMhimcp169gx1iMUB20BWNMhG0JLJUd793Ct+/DHm+rOXojhHeyB7/+ZUa7D5Ns7L7Vm28JzBk0GZMTAtcHUIhyp4nBr2HbwGsHu7jUmBpzZfWQOC5GiRhyijH2Z/NCTWaORDJeCo1X5BxaF2LHfyLvR7ZtU0H1fgxgKWT+LEi8fp1JVG1FZ1uFIZleR66vfpVvpaVT28fHkymKfJZ1NZ/tAYHAHC3N+ygKdxgF3ikG9G+rKqCiIexfkACwkNeIG84DsS3OJPLSD0hFN0BFt4PlizjMSgo4Q4oTmguZIgTGjXAL3Np5LEH7UEyCH5rBNqaYNop2D5wg0GXBP6QmNZEBGBjJqtADhgTI8a9pv6umvHCMICAKCgCCQOwI2TzCg+/AuhX0JhB4lLIeAEAyWwzK3ljRLN23JA9V/ayr1F8Qow/hFfhGXSUD9HVoLcI7I2JnLcCaAeFUZHRkIWDBt4tpb2N1lDWQyzGBvd6QCmxNIucWCDDW32A0zdwGfGhNBV5eMpHQjCz/D9UuUpMBXPiFndjowFVh4Dft4S66HWXtnFQJv2AXd/G8GWWIcWDRP5lRk/9t1wqbGZ4u/T42Lotjj2yniry8M3XMuX4PK8SLV0cO8+wg6CUN4Z9bYpnLRWGgmuOkiF/A5AMk06bbmAjqELANtZx2LcjhS6CmRQAbDuauRdOl6DNVhAcMq5bxU5sBfey6pe7wrfwb11Jcj1f4o18nDlhRCpsjKcGAtiGcerKfawQ5ys9r+utPRQTLgM+xqJMyHLCRjoT5T9wnmLPz3ZRR3KsP21smvIqVGsnAsl8yUcHCi8s+8R87lqpsk9FAesfMIkws/ZpALyAwAJtBOQRQ2yWAKB2v9HhoiKD/QNBdgb7mXtS80TQYIhlbm+8tU4HmPDBiNXKhX1Ye1RRIMJPHQfk2oQ9OKukmGUJ6/0eyQYVxuMfbZFtSCyy0KQ6/G1PgL4/cJSVzelHwr02cdIpb4rtRDChZGn+WagoAgUDwRsAuCoVevXvTggw/S0KFDi+csFdCohWAoIGCNmsWOGl7ekIp6g+u6Iej2CKeituESAj31yQXfw7xfAS/0x86HsW3iebUjhoVpz/bVlKK5nkUTrowF2Gusim68k2bco4acDvzmM0jZN717qbWHMgCkIMPKDXXhTz9YV2VC6MX7VloaJd24qKwTbyVniHOpYHIhoPcocqvJ+gvOGWJducXVkBhOHc45W4DfCWnJ+K4sJnhHd8BUm5b4PZwNth64qu5JaARAnLMj22Y+wbuFAZweb8+RGh3ODhSLDGURGEtJVw+q8MwH5OBXnhfT+nZUsXiC5sL8tXeU/9HWC73qK00Gb0/T92Mq30fQAoB1I3ZokWXQo01Vms7lEgdZk8GHF7/TmUDTO/+hXNrw49bz1IczDHAvo7ThJLePxUVdJh3cdTg2JDMZgOyjiYt3q8/Ei480UDvGvzNRAceUN55qrvRTzLE8tMT9ApIhbMNSdg7Zc+fjxnNV7ul3yYUJIlPZQjgpKjaRjl+IoGlcjoD5geYCsj2AN+YBJQB9WO9A73PAEuOyxTbwzH1nWYadKOxOUWIDIcpZrMlQgcVrUf6jx/0B2SrrNmfoQkBzYcT/mql7aez8Hfw8T6L3uJ26VXx1lQBB0PGtxbuU5oJx4Bk5gd0gNOFHW8TTWn0CuXAxKIa+5JK7N7jcBt+3eL/4nEveQFY2Y0FiIRmsNRtyHUFAEDCFgF0QDGvWrKGlS5cq9wgfH/N2oUwBUJx/LwRDwc4+dhYgXLXraNBdF2rdsBy9whZsehfiBdtT81vHLtMatqj8gxcmWQMLlCF9m+gaG3zLR8zcmmsHPp3QlcrqWISH8EvqBN6Zw85z1kC5RQdeROtNtUVqdhqnbideOUGJ186Sky9bS9ZqwYtVLyYX9Nmc4aX53U/3sOtATLbjw0shRNX07DybP0O5nwFdAKRpY+GLbBoPTmXWm85s6b5Yqr2s5IJj6QBKjYK4Io+RNRkqPPO+LpIhinHZw4ttjVxA6rgDY6RlHoBkuI9JBh8dJAMyD7DovcD3efeWlZXlIgie5Wyb+L9udVQ6up4AmQf7R7iANKlVhkYz6XbmUoQSIkW8/UIrVv43TTJgUbiaP7e/snUmoga7LHiy+KAmQtm0lj+9ybvGECS0ViDNPyIyjtKDTlLMDx8ZLotMBo++k1ig01OX3gVOxGcOWhUQc1SZJrxCRZYVrHTxXIKApONtdxE949PccbRjs/5bTxu2eAxIBtyT0FyBoCMIAZAw1SuU1kUuaGPC/bSPPyvN65Y1PMcgkIr7FZlnevRFkHH2zcYz9D1rdyCgudCWS1rGcLkEMmrwfFzMmUP2/nzK731wjbUuRnLJHe7BmoHebLvaRmUgwTUF2UeTXmxNjZmQd9apVZLf/sj5goAgIAjkhoBdEAwQcfzyyy8pKCiI+vTpQ1WqVCFX17t3EHv37i2zbQYCQjCYAVYeDj1z+Sa9wSmfOcWMER3UDo85gRdBeI0j3Lnm2ZxUZOPrYKcJL3ZIcUaqtJ4dWePzTaX/Y/ewIdtXmoqL/JI7PBeCAS9Oy0AwcOZHboGF3Le8m/b1X2eyPQw7mQvf7GLWy7Opvuv5/Yn/wuktrnVOTcuiCcAp5TNHdmDRN9OpyHquI8ewHSWTCcFr3qeUiCBldxnQmy0Yzx1gTYb5nMZQUpVJOLNLgiOTDbkFdgVhtbqeswVQ0jCF72UsVDVNhgdaVaanOCtGb/087s3E5LRMZQf4HOtV6kdf0acF3x7mLIMbqusoZ7nOi0R8flGeAEFF6Ja4ODmavBXQ1pdMcKCcyTiQLQR3Aj2lTSYvYsYB8fEJFHflLMWun6LKIozDuXJDcu02hNx8/DKVYWTXPMo/ULaFpyMEFGtVKs0LMR/WdjlJXe6tTP9wJtmcN+5Tz009cYPtarGjnkHCoLQlkUmdSIJzh7llV3quZ+1jEvm+NC49yPpvvf1J4VKgrLa20B5xYm0PvYGMIVhSVgrwUIKOyKBBBtiHX+xTeiO4300Jj+q9lr0ehw2LFRvulLchcwmffwTKpsYNuFcXqW+v45d+CwKCgH0hYBcEgx53CHz5nDyZs/2afU2LdXprSwQDPN6RJg/RKF+u54dolV5VdOugZd5VoLuwkHcXstvh11rqxjuaQ7hOFaJdpgLp/pe4dvbzn4/RqYs31Tkdm1ZQCx24LeBlQ09gtxA7/as2nKIdh6+phW8VXpg837OBSrPWKxa2/JfjSi0+p0DKPUTsTNXOoi8gYTD/2QXqwZHGayr1E7tmEznFNrvsBa3dSS+24l1MfcKTerDUcwxIHOwWrmIBS9QqYyccDhv/QzkCq6076VgQ6rmOHJOBQArX7kfu5ky3dv2UJSUEBBMuHOJdcC8mF2qRI++G6wlk6PzJ2TntWKxQE3SE8CPs9LAA0luyo+daeo/JSjLgPI1cgCaDnt1iaJMs+PYQvdirodIHwXNFi6VcroMF+hheqCCjxVoBO9LL8wfTLdY8geaC28OvU8qJLZR8bp/qQum2j/F89tUl8gjB2CnL99EpI8cOtIFd8GnDIM6pL2ME5MI7S/dQMD9X3uIU/XpVfVmIlgmKrw+qXf63BrYsEiSDteZYz3VAMuB7TMsyQ3YV9Dxg61vcyQUNP5AMKInYxlkLWsDVZuLAVkIu6LnJiskxe/fupQEDBtDUqVPpscces/lRd+nShSpWrEgrV6402Vd7G5vJARXhA+yCYNi3L+NFw1S0bNnS1CHyeyMEbIFgwIIXtaBTOdX3MivcG39pgpHXW59saxObyjs4c745RH9zrXtO0Z4JgtfYXs7ZxCIzjXeI/uUa2Q/5xdnYtxztIn179mv3qXRgPYEU4lGzs9c8GNa/iaov17NQmb/uUK7kCep633j6HpNWZUjV385EB8TCsgZIFHi7V+cdRFMBggEK5DkRFTh/DKd+Q3SsMAIvz0m8i826k+TGO856iZzC6Ku9XxP1/I7ud+4ZuEuQg6NuckEbP8hOLHaM3SIwj7CWLIyAW8Be1oUw/qxARwGp0nrKNbQ+Q8th8fdHaR/v6BsH0q7HsV0lRGj1OGRYCoP01BRKDDpHN9ZOIbdeY2jVvnjq0bwseR39hkqmxFNAn9d4Pr11Xw5E9ZDpm1iTIdlwDsgTWGfqiTTWzrjIGRAQQkSmFxa9EIgEIYvnL8pHIIQIy0kJ20Qg6+cU3wuebo58X+vPqrDFkamyyx+P0q4jwYbuIaPmbS6PsGdxXlvE2p77ZG+L8PwSDNHR0SrLHWvAVq1a2fPUFam+2wXBUKQQt6HB2ALBgF051OBnJ/KHL8yPeYFZGLuFlpgmCOnNXL0/x6ZALiB111REcA3xyNlbc1w8d+U2XnmskclsAQi8ofb75+0Xsr0kdkMXje2iSwRtN+tKTLld/51dYy892pB6seCjHrcMLORQ/7uCxatANiGwYziI2wjklFlXHSnNqJtfwim229miLrtAqQUcAPTWvJuaE/m9IGBNBCDoeOJCuNJc0NKitetDkwFZPnrEC1Ga8Rm7LGy+XR7RiMsi/Pg5u/X2v5HFNIlT0vVqlVgKg/i4BHKgVJr1DS+ejoeydWZJmvJCY5Vd5eLlo3sHGxlDOw4H0by1hzJ1rUuLQBbobKibHIpPTOZnEWcvLNqVyTYR5MIUdloBoZvX8jRLYSbtZI8AylpAxIFMxmcC2Ugg6HFvV/SHvax9kgwgFz7j7AVoLiBAwMOpBgFycAKyauzYAUjuZ8shgAzalJQUtpu1D1LNHIIhu7FdvXqV7r//fho2bBgNHz7cckBKS/lCQAiGfMFn3yfbAsHw195LNDfLy6AxqhAva8k2WvYWyMxAuv74hTtY8Crxru6DNEHKLlT7TZU3mNI7gIbCpxO6qdKS3AIvWsM5LTonxwacO537VK+an0m4kQkxdsEOFlUzclm4fRayKua8fp/ZjgRIb07mzA/Uu6OUwFRZRNZOooRkFItgZdU7wHFtG5enQb0b8e6safcHk4OXAwQBKyOAz+wLH/xpsIREuQ/cUjRNhme4VAoOLqacJJANBWFV7M7Xqeyt1OjxWfvy1+O08d+r9DYvUhrWLGOSrLTk8FG28cuOC0rkD1oVIDqROYDnAJ6Tkwe3VdkHptLkkeEBm0qUtmilUqU9nBVp2YTFK/H/5pAMMfFJtJJLyTbsumgY7pNc2vRopxq6dRwsiZOttpXKmkCO/B1kHMjgczRDg8FSYwO5MHHxTi4DTKDH769Fvdk1ZNvBqypjB/MPcsheSQbcx/h+w2ekLgu6vsNZC8tAFrLlMAj0dwe1pob83S0ij5a6m6SdgkQA78iJiYlKT88cgiG7PgnBUJAzlfe27YJgmD+fRbpMBF4+rGVjOXv2bFq8eDHVqlWLfvnll0w9O378OM2YMYMOHz6smPLWrVvT2LFjqVKlSneNAPVGq1evJnw4AgICVK3UK6+8wnXZmetfw8PDVZtbtmxRH0hoUowaNYratGljCpZcf1/YBANSxmes+lfZOOYU3VhQbcTjzfI1zsI4GSwr7Btbcs3/rDUHlIe9FhANw4v9vhPBbJ3GonMmNBhw7mtc1pBT4OXii7e7m9zBRCbE4GmbMu3IZW3zQ34Ba8wLDD2BmvRpbAGn+czjHNSrI826UoDnXS+dubUJLYaDrPS+59h1hQf0KapX9DJLcC6Gd2cvXIumT745SPBUR4C86cQ7WQMeri81qnomVY6xSQSwMw/RWFguwv6vKmsuRCs9hQwbzaGs5aIngyEtPoZu7v+LYgNbkWtaLHmWTCQHdy+KDIugWNfy5HFlN5Vp+QA5sLWntQLuHG/O3UbXw+MVkYDyg0NnQgylIHCAuY8zENxccteFSGCMzvOzEnqqIF39vFzZprKkeiak8fMYC+EGLDyrxyEDgo4HToUozQXjsjQ8T6DJUJ8XeB4s/FjcA6QwXDuQHeB7m7xFuRpKEpC672KGowHucTz7jUv08DNzLFNx7UlLdxvsLmFTfPZKxncvbGEh2BrI3016A9l1xgLICZxJFJeUVijfJSDdrnAZ6UoWehzJlqBwoEJWw0oWMW1eJ4AacSaTt4dp+1y9Y5fj7BeBrCUSxv/GqL744gu6ePEieXt7q3XHiBEj8pTZA+H9efPm0fbtXJ4aGanWMVomQenSd8oUv//+exo/fry6LtZG+DfOffPNN+n55583EAzjxo2j6dOn05EjR9Q6qGPHjmr95O/vb5iMrGPT2s46W9B02Lw5Z5tw+51d++m5XRAMuYk8glgAE2YtkUcIST7++OPk5eWlLDONCYbz589T//79qV69evTyyy9TUlISzZ07l6KioujHH38kX987jgGLFi2iTz75RB3Xrl07Onr0KM2ZM0e5ZHzwwQeGOyg5OZn69u1LqDF64403yM/PT5ESf//9t/qw5kd3orAJBrzwzeVa/i3MwOcUj/EOxMBeDeznE2XU073HglkI8Sx7zTdUO4LIIMCufDITK5+zSOIj7MvetlEFk2OD5dcrUzfy7n5GOmTWaFTTj8Y/19JkWjNe1pA6jBTi7AI7hsve6mZWmmUY13PHJqQqezjsNuLl3VyF9aCwWGUvCTs541DK2KomXH/WAdTLI6KTCLuZCUkpatHl4uRgdjaEyUmRAyyKAMQYYSfp6HHHhhjifyUcnamko/UEBy06KAs3hs8vFrtYPGuLMJSYIfSQCzjuFusLJIddprDfl1FyyCW6lcyfuRK8+8zfoy4sgunToT+VqlSPSjpZd/GM58f8dYdp2ONNlGgtxrqHn5/QUQDZqEezBOniIDsnsGtLBba1fWdQG8aqBH3203G1yzvif02V/aEpFwloMBznki2IxmqaC09zhsjyX04YNBlmj+qkSxsGmKO9hOR0cnYoYdhdNnfeLHwrWaQ5kAs7WZeiMWeHQJ+iR9tqSmcGGwYVmShy50y2aiyIaUroF8appcMAACAASURBVJ3BfJ+/GsUZOI6KAMD9jfbPX4ukGpz+b47GSFaSAe3nhVzA9y6+vx/tWENpQYFcuBoWT0fPhVLHZoGFRjLA7cMYD9xL+O421wnKIjeBNGKTCOREMDRp0oRCQkKoX79+aj3y119/0a5du9TaAmsRcyI4OFi1g/XN//73P6pRo4YiD+D6V7NmTVq7di25u2fo3mgkANZGWBc9+uijBAKiWrVqahMWGQzYkAVJ0b17d2rQoIES7V+3bp1yDfzuu+/IwyOD9M46titXrtCmTZuUoGW3bt3UHwSu3bVrV3OGJMdaGAG7IBiuXbujmKuNH1/aly9fVovsuLg4+uijj6hq1aoWhidzc6mpqeoD1aJFCzp9+jTdvHkzE8EwcuRIdfNv3LjR8GFA3x944AF67rnnFFuHwHmdOnUi2Gq+//77hosgKwIkA0gLfEARIBNwzNdff03NmmXs5KMf+IC6ubmpD2Beo7AJBvT7NHu5j567PcchLHizM9uv2aeVHwgFeHkjXRcppL68gxLBOzsgVuDHPmOEPn0JpER+89dpZcOYNZC9ACHEWpXuLMxyux+wAzJi5pZsywh6dahOSLU2Z8cor/eedl4EvxxNX7WfjnN9eXbRr0sterJ7bZNCmPnth5xfeAikxkVS5M7vKTU6jMo8MIgcPX0oma0mr6/5gPwfGa4WvkIyWG5+NJIh6IvxmWwhyz3xNpWqbH1yQRsZSiWMtR80G1095ALawPnfbjqrSkcQVct7UgV/D4MgHnbZIYZnKoMBGxYgOxeyo8ZpdqNAWj1cNSJ4NxuaDG3YBWbAQ/V0kTp4T7nKWg5wkvFjAhaaMjFMfh49H0ppbODRhF1ysBNt7cDONwhrODW5sktDIruJ3ORMEmhfQJNDT0BIEd9ts786QK/0acwZHzfUWNDuKc5qACmD9k2VumGe/wuKVlkHKGMAWebn5UJBnNECrZ/WDcsr9w84gegJ9AvlNtp9gHM6sasRSuT0CrRi0Y7533f8hsqq+eCVtqq0EJbDyCTA/He6J9DsMkA9/ZdjBIH8IpATwYBMgF9//VUt7hHItO3Zs6fawNyxY4dZlx09ejT9/PPPKoMBpIAWn3/+OU2bNo2GDBlCWBMhNIIBa7T169ertYtxgGDAWglZDsho0GLVqlVqw9W4rewELKVEwqyps9rBdkEw5IYGXgaeeOIJVS6AsoGCjIULF6oFPQiAwYMHZyIYsOhv3ry5Wvgbkwboz4svvqjKIP744w/VvZ9++kmRDd988w01bdrU0GUwix06dKDXXntNtY8YOHAggSn8/fffMw1tyZIlNGvWLNq2bRuVLVs2T8O2BYIBLwNI89199I4qsjaY7q2q0POc2u7Ju+L2GEnJKRQWlUTzOWvgmNECun41X7ZwbMYvJy68cNa3Owucftp2gX7cdl7VYSOQMQAryAbVTXvEa/jh3Au8UzTn6wMUxC90CBdnBxZkrE69ubZY7wuYpeYD2QuvTN2UY3N4sf8Eeg46XTIs1S9pxzoIpPEOetzRv3lHfam6oFudVuTb+RkKXjWJ0mJvKtvCSkMXMulwJ/vLOj0ruldRBEPoZQpanpVgmMgEQ32rZy9oSMcyQWBMJqDkgZ0KeVdb3zMS7WAR+NWfp1jT4b9MEwhyYQKXNpha7GonQRAXbUETBm4byIJ446l7CFlV2F3HwlmP0wbEOW9yRtUR3vVuWjtA2S5eC4lRpLlqPyWdalYqbdXdZ00s8ACXpE3lkgEs3vEchi4HbIFf4ow7PSQD5mskawJA7wC6GRNfaMllPJGs53FCwfhgm6r0FGtWmMIc7Rw+G8bldv8wweFAYwe0UGTCUhbthSVzU1gVsyCyVoKR2ycTpP4u1uFYsv7oXYf1Z02Gh9tV00UMIXthw67/aC0TVghkQIBYANmPMpkJz99Ltbn8wofLcCQEAVtDICeCAesKrC+MAwt4LOQPHDhgyDgwNR4QE9horVChwl1l4si6bt+e9cW4XELL8NYIhqwEgnYdEAzIhNi9ezdned1534dQJdoCMaK1JQSDqdmxnd/bPcEAKJcvX67+bN26tcCQPXfunCpfgB4Esg+effbZTATDhQsXqEePHjRp0iR6+umnM/UDbJ5We+Ti4kIzZ86kpUuX0sGDB+9i8pAuhJIJHIPAhwvEBcopjANjhV7DZ599po7JS9gCwYB+Y/G878R1+m7zOX5ZiVd1/I93ra1eLLzsuM4VuztvL9lFPfhFCy+mSNvHyzJqqX/beZE+GNyG1cj1WacBJ+2lFy+mjpz66+HqrF50TYlEZndv3OTduATetUrhtGKkDHu6O3EpgWNebqN8nYOUZryk5hbLJnS1W7vSfIFTTE5O4cyF0B/nUuLl43eN2LfbQPKo3y5T6UQxgaVAhmkgF1ZOzCiPgG8qizxSOixUS1K5/00oFJIBO8afsmAd3Gewg43ypoOnQ1VWQvsmFc0iGZBav3bjGfplZwbJgDp8iAWbWuhmBTwiOkGVXr776W4mZaOpWR1/Gs3aOWnMeuhN2cdifgXXzKNEo2WDsvRy78b83E2ht7j8Ip6fvxDmq8FlBB5WJNGRNYjMOo28AYkPdyF8PyEjbvqwDiwiaJrQw9hO83cZdHiyOpuU8S5F77/clr+fnPm7JffMA3yvIVNk0tJdKrMOJW1+LFisEeD3caYA7gs95Lfx9wlIgdHPNFelN8iOQLzDDilNWatAjwAlSIbfmGRYd5tkwPlCLhTIY0katTACOREMkydPVmXcxoEMBKxroFcA3QI9ERYWptYpDz30EEGTLmugjBxZ3iiZQGgEA9Y9WD9lDRAMKDtHeUV2bZ06dUrpMiCEYNAzQ7ZxTJEhGLAgh45BQQTYOmRJQKhRW/hnJRjA/j355JMqq+Dhhx/O1A0t2wBCKGD13n77bfVByq6/KKcIDAxUxAGiYcOGSoQla1YEyAn0Cf1BilN2oREIOWGC0hLUKaHvthBY9OJFBarmetMhbaHfOfXhh7/PqZ0vLRy5BtfY4eD5nvWpb+datjyEAu/bdX7xe/mjjZmE1IwviiyNGcM7SAZDgc9E4V4gNTqcrq/7iJKv37FQ9en4BHk262o2uYC0dGMruqz/LtyRFu7VIfIYvvELiuWsEUUoPDGRRR5LU9CKtxTh4FKhNv/sLeuKPPJzfwKXHqB8qzLbUn7IrhGwrf1oxT/quTCKd6/bsFaNG6fymwoQFavY+aFJ7TIsFBlGl9lZZmDPBrwTfYbFgpvq1odB6daf+y6zxkCQIieQOYYSMhDGj3WuqdL29ZAM6M/M1Qe4JCJMdR3q/0FcMgGSGIv5UU/co0R1rVkmgT6dZHwhsAySQQv0500mUOpzRpweTQ8QDNvYMhELf5RJaAEXoYmMGcQ7lfijjl1+kAwoq3hn2e5M35EobQC5oFdfAGPb+M9l+pUzWDRBR02T4R4WQkQWg56xYSya5sLrc+4ILCOjbu4b9+m+j0zdr/J7QaAgEMhN5BHrCePQCAboGGDtoSdCQ0PVxibWOljzZA2QGGfOnLmLYFixYgW1atXqruNBMKBsA+UTWSMrWSEEg54Zso1j7J5gQFnBgAEDlN9rVkcHS0GMxT6Yt99++02JLCJyIhjA5oHVMw6NYECNE1J9QDBA9FFj5IyPzY5ggMjje++9l6lNjWDIjtDQDrQngkHtzvNuFfQJIGKGsgikS9prQGwQCuTbDt6tH6KNqR0Ljr32ZDOzlLbtFY+c+g218blrDxrs9rIe99zD9dgWriY5mXDaKGq4FLfxpLDmQtDKt7ks4o7bilvtllTmwZeVJoPeSI0Jp5SIYHL0rUhOfB7IhTRuG6UWTr72Z3erd9zmHJcWF0Vhf3xKnk27sqBjXeYZHJXwY/ifyymgzyizCR1zrp3dsTG82AYB8AO77iCgkYDMBZALWNBNY4IxkLUUTGVqYXH5DWcuwFYSxyLboJyfG727bI9a0MO9Bw4cpnbCcc8cOReuFrvoC4gEtDX5i71KoBc6Op+8DpFHb5NDRzYFxCdnf3XQQDLgpAxyoZkqb4PyP8rUrBkZehVnWKcgA3MESuSQOWisg5Fbn9BGPGc9gGRY8dtJw6EYy2TWLICDB7DTQw4AJxASU5bvU24iWqCsBXNYkeff2F0it37hPsD8ZxVCxDnmkQtxSnMDpRHGAU2G9/k+gvCjhCBgiwgUNMGglUgg4wE6DMaBsgZkN6B0W/udlsGQG8GQnxIJ6DeApBg2bBgNHz7cFqekWPbJLggGEAjZBW5IlCbghsZOftbMAUvMKKxUUPoAlVWIMmqB8gRcH+KLqBnSjjOnROLQoUPKA9Y4imOJBOom1248TRv3XTH4vPdoW1W98OjZJbLEPBdEG5//fJzW3xYcy679R3hH7MVHGvDLUGYP8YLoiy23ibKY9z/dQ5eux2T+LDQsR7Co01N7a8vjk77ljgAEHYNXZmguIBzYSUL7f2gyaMKPpnAEuRCx9SuKPbKF/B54iUsr2lMaC0gGsZ4DXBHKP/WukAy3QUyLj6YSjInmFnGLSyTSk+I5c0G/hZ+p+TDn9yAZvuHvgB9ZZ0YLd85YmM5CuHrIBZyTwiT1Rc5Y0BaFWMTD9jCFSWttQd+Md7H1fKcgPR5q/XBAmMaZFKc4hb9FvbLKiSKanS08eJdez2IVi90L7IRQmkmENz7ZZhgbFqkoRbjJv6/Iwo/OZtg5moNrdsdC0DE4Ik5pLqAswoA3kznQZMDCGZoKpgIY7WS9A5S2IHBOEmOGrAj8P8QxK5V1Z6Ihdw0NiDyCVFj0/WGluWAcKJeAk1A9zvxw55JAawW0M2ANjX6BrBjDpRbnWLtIE1pu27i8+m7SQ55Yq89yHUFAQ6CgCQZcRxN5XLBgQSa3BpSrw9Fh6NChyv4SoYdgyE3k8dVXXzVo7GWXwQDhfKydsPE7ceJEuRFsBAG7IBjATGUN1EZqNicgIGC/UhCh3cy5tY3rw6sVWgkgIbJmG2QVeQSrhw8nbFyM+62lHRmLPL7wwgtK5HHDhg2ZuoCMCpAq9i7yiLKI93iH6TzX4meNRjX8WPDpXpM7TgUx75ZoEym/Q6bn7MNrzw4ZlsDHuI1Qtru8FhKrxD6xU4W6W5TJ6HmJt3RfpD3rIZCWxAs51l64sW4aeyimEzQXPBt2pBvffax+7ljan8o/+wE58d+mIjUqjK4tH2vIgvC85wGKO7Wb0nkxjQjo8zqVqtaUHF1l59EUltb+PTQXYG+IcgItyrKw6zRehKMeX2+AZABROW7BDoMYLs5FpphecgHHgxgA2fEPawNNYueJjfsuUecWlWkSl0j0bF9NOQjoeTZFxSbSTc54AOmBLArj0DQZkJ3la8YY9WKR03GXgqNpLOOjaS4gkw7CiJomw0dD27MDh2nnJmSfvcf6FFh4Q3Nh3ICWvCCPo1lcLoFSxydZ4PEBFmo2JRgJgmEV61T8fFuYE8/+jlwagWwGlBSi5OJTtk+2prsRNq2CwxOUVenQ/k2UoCMnoijhx39PhdDEgS2lTCK/N6KcX2AIWINgMLapRLl29erVVdk3yhxgWZmdTWVuGQzZ2VR+++23qmwDbeZkU6mBCCeLmJgYJZBfpkwZtXmb3dqxwECXhu9CwC4IhsKcN9i3wI81a0yZMkXdzGDqypUrp7xa4WKxb98++vPPPw0fBmQ24MaH9QpIBQS8Xjt27KhEI43JCJAGKHkwtqlcs2aNOsaYjIBjBYgMWL3g53kNWxB5hJL1O0t35zgEWDDWrqw/RTqvWBTEeXgB+4tfTI3TR7XrwA6ye+squnbTCqJv0qYgYCsIpHLKfuLlE4QMBE3QEcKPN7esJu/2/cnR259KcomDnkgOv3bbgeJOqQXOK9NzKLnVaGb19H89fS7ux2iCjprmgjEe0GRAOrqexTzOg4DiDXY1gIihcWr7+Nu74HpU/1EicYhdDVBagYC15Ij/NaMZLGYYyrv2iDmvdaIagaZLJOCQ8Oq0zSr9H1kU0IP458QNQ7kEdB0eZ10Aa+6EwzLzvc/2KM0LaC7AKvMIjxeaDIEBnkoIUY9rDwiKS5wx8h1bQj52X026weRCVFyS0lyAkHHzugFcRqLPIQMlElO+3EflWPQYmgvIgIDwI8pSMP9ox8nKJZMgGVAdkZKSanCLQNYGMhqgDSQhCNgqAtYgGDB2rG/mzp1L0JdDRjcW9l27dlVlCpoVJo7Tk8GAcotx48Ypi0sQFSAcIAg5ZsyYTE552WUw4BooOce6DIKQCQmcGcbtQbhSovAQEIIhj9hn1WBAM+fPn6d+/fpRgwYNaNCgQVyvmaw+fCAUoLng63tHmXnRokXKGQKlFqhXwgdqzpw5ijiAbYwWaAOiLLGxsapMAxoQIB22bNminClatmyZxxEQFTbBgN2mmWsOqDTLnAK2UoM5FdFeAy9OeClZz4KPSLcsy/WkfVhTwN/HVcgFe51U6bfFEUjlUgYU3TtyeYQWIB5KlnLTTS7gvPT0VIo//Q+FfP+xoR3Xak0ooPdr5OBWOOn/FgeriDWIRfigKRsplhes0FyYzpoLf+69ZNBkeKJbbRZWrGUybR/kwnVePGPXWcsW4LWg2pnHonDcsy2UyKIekgHP7J9Y2HH9bV0IY8jhutDpnoq8a5/Zyz27aUEGA9L+p375jyqvgOYC4pOvDxFKA+Ei4eHmyOPO3WlBaxs2l9AoMrbIBJGip6TBuH8gGUAOYOEO8gYZG/8FRVPlsp66yAW0FcdlBJeCY5ReBpw1YL+MjIPtrMmAbIOmLLRpjktSJGczqsxUFo1EQJcJ5S3OTiWtTi4UsY+YDEcQEAQEAasjYFcEw5UrV2jjxo2EvxGVK1em+++/X7k7WDuyIxjQh2PHjtHHH39M0FcAA4e6IJRPoK9ZA+lCq1evJtQeQfwRRALSe5ycMu/WwRJmxowZyoYTzFy9evVo5MiR1LZt23wNu7AJBrxAfLx6v0qLzykebFOFhvZrmq9x2sLJeBnTXgStWUtqC2OXPggC1kBAE3SE5oJWFqFdF5oMbnVaK+FHCdtCAIvTq7yb/sHne7kcoZXaRcfuOIQfo3nn/4VH9FkUhvOCfSWLDW5iFwFkC7z25D3KlWL8gp3q2YvF81RO/4dwY26B++gil1mgdOGbv06ziOEdAhwZB505hd+V9SHQT1MB0eLwqERlK4zvuz+YOIEzAhbgELEsxYKIerMXYGt5kDP+Kga4UyW+NkgGENiwUuzZvrrZpYT4TjL+LopLSOJ/6yM6tHGjjZTUW4T/NG0LuEuk8+D8fUwTMKbwk98LAoKAICAI2CcCdkMwwKcVu/748jcOLOIhAAL1UAnzEChsggG93XMsmD78Yl+OHUc9qLbrY97o5GhBQBAoTghAg+Hq528ayIXSrR+h2GPbDJoM/o+MINeazVmDwaM4wVLgY01PTaGSjndI8az/1tMBkAwQVXRlsUPNLQJZCLd4oWrK9cG4fezEL/7+CEFXACn6WMj/x5oDC9YdJpRJ6En9R3tJySlMDLB2wuKdnIGWaLgEyiWQdeDt4WxSvFA7KYpJEmfOOoDDBcoJoOk7m0ssVBvsfuXuZlq8EDoF+7n2H2UMyFaYNqy9wuVDJmVOX46kdk0qKNFBc7DSMy9yjCAgCBQfBGBdHx9/x8Ulp5FjQ1RCEDCFgF0QDCgvQBZAw4YN6aWXXqLatWurF4+zZ88SLCSRNYC6nUceecTUeOX3RgjYAsGANNEJrGZ9LTT2rrmpGVia60HbKLE/vYH2LvPu0z4W50K6LcSivPlFzEPHS5zxNZD2CQ0F2EzGswBZq/rlqBLvhulRINfbVzlOEBAELIdAanQERe76jqL3/640F9zZ5jItPkppMpRwcmUXibfJybus5S4oLVFK5A1KjQwhl4q1lSNFWmIcJVw4xPaX9c2yF7UklBFMMjjygt7LPeN7I43V+VB+Yc7iO4i/j1BqoWkuQPTwIhMVCI1k0JP+D8JjwbeHmRy4weU7RNUqeNENLk9ANgIkBcY8ey81qlHG5PcTyJdj58Pog8/2GlwafPh7MSgsTvWpW8vKhNINr9vlBZbEU9oSBASB4oHAvHnzCJu5puL06dOmDpHfCwJkFwQDdA3gu6pZQhrPGzQKoGCKTIZ169bJlJqBgC0QDOgu6l0//fEo7T52XalPOzqUYGIgkJ7jFyZzxJRQV4odJ2MfbbTfk3UcnnygrsnUWA06CFUh1faPPZcyoQkv7g9eaSOpn2bcY3KoIGBNBFJjIlgsMoIcvfwMeg7J4UFUgr8fhFyw7EyAXAhaMVFliJR74i1FMsAiNPzPz8m5XA0q9/j4QiMZ8jNSiChfC41nG8cdrC+QQs/3rE/d2Q1h3aazynYYrhawYKzA3wemQsuo2MPfbY1rlaHRTzVX2gsTFu3kjI00eovdCOpV8SHP22RIbu1lJRm0Y4VcMDUL8ntBQBDQgwDKz7US9NyOz295tp6+yDH2j4BdEAxNmzZVmgMDBw7MFnGIHUIwEboHEvoRsBWCAT1GCijqbpO4TtWF02SRfWCOcBXSULG7c5rVq7OLcWx3iTRSPbH53ys0m622souGLNI14fmW/EJoOq1Vz7XkGEFAEBAE7A2BW+lplBx6hQmGt+hWMpcQlChJbjXvofiz/6qhOHj6UYXnJrO9aIC9DU31F84BQWHxyu2hTcNybLXopoQQ8d2A8gs95II2cJy36Z8rdP+9lZSgYjITGFeuxyqiAaKTnm76M/TwPTdy1lal66AFyi2qcYaFsfCjXYIunRYEBAFBQBAoMgjYBcGAhTDED19++eVsgYe94+LFi+nAgewXhUVmtiw8EFsiGPI7NJRYDP5oU47NIMX1g8FtVblEbnGTlawhCpZdyYZ23rIJXamcn3t+uyznCwKCgCBgtwjcYj2k5NDLFLRyYgbJcDsUuTCAyQVv+yQXtHGAZEAGgy+TAlrg+yEvZXJZBRVBMiQnp5ssjTC+OSDo+CHbNkJzwTjcWHASmgya8KPd3lDScUFAEBAEBIEig4BdEAxPP/00wUnhu+++Iw+PzGmJsG/s27evcmFYtWpVkZkYawykKBEMR8+FqbTTnMKRFbc/faubSm/NLSKiE+i59/7M9ZgZbKNWt+ody1FrzJWlrxF6M16l6KZyfTKE0DzdnNTfEoKAICAI6EUgPSmeQn//lOKO/W04xa/rQPK8pztrMkiWl14cTR2H7L4vfz1O97IWELQgoL3QvE4A/b7norJxXsg6DxNfaKX7GZ7AukJwfzB21ICoJiwwzckcNNVv+b0gIAgIAoJA8UTALgiGLVu2KKeIihUrEuwha9asqfySIfK4cuVKCgoKUg4T9913X/GcxTyOuigRDJfZ03vojC05IlGeMw6wy+PjZYpgSKTX5/ydKQU1a6OLx91P0GOwdsAnPORmAh08E8L2Zo7Ukl82UaqBchK9gVIU+J3PX3eIroZkCGvCKu1h1ql4hC3YjHfr9LYpx+WOQFp8NKXFRVHCxSOcSe5IrtUaU0lXtpkTNwO5dewYAQg6xh7ldH3WXMgUXC4BTYZSleop4UcJyyAAraKrnKl3i0nhquVLUynOXLgWGk0OJVlfhIkBZNWBSDcVIBcOnAqlH/4+R+O53A86R8iOmPrlPurVoQa1qFdWSAZTIMrvBQFBQBAQBHJFwC4IBozgm2++oY8++ogSEhIUuYCAk4SrqyuNGzeO/ve//8lUm4lAUSIYkLoKNwpt0ZwViiH9mtCDrasY7p2coIJd2s/bL9BnPx3L9hCUWkzmUgtzFMnNnJZsD0cd72S2JDt3NSrT73t3rEH9u9bWLWB5iYmYUVzDm5rGJuxZAiTDUw/UMaivW6Lfxb2NVBbAC/11ISWc258JCs9m3cj3vqfIwc2ruEMk47dDBG6x6HL8+YN0Y+0U1XuURfjeP4DCfltk0GSoNHguOfmWt8PR2V6XkcEQFBZD0XEpFODjRjdjEtR3kJuLE+09fl2Rze5MNOOPqTh75Sa98ck2fn8iqlPZm4UmW9GU5fvo1KWb/P1INGNER/65j6lm5PeCgCAgCAgCgkCOCNgNwYARxMTE0I4dO+jq1auKXKhcuTK1a9eOPD09ZYrzgEBRIhgwfGQxjJ2/Q1mSGQf80Ec9eY9J/QXtHGQKfLxqPx3msgvjQDopsiACA6x7v8WyZeasNfvpn5Mh2c7y6GeaUyd23TAV0SwQtuC7w7TrSHC2h8K9A9kZeuzXTF1Lfk+UnpJE4Zu+pJj9f2QLh2+3gVS6RQ/OamC/OjMCGREQ2Svp7Mp/cs/IMaPZPB2ayLuhpXiRYxzYIXXN8rM8NS4n2TQCyMoJ/W0xJQWfV5oLcO5IDsnQZPBq8RB5t36Es3Ss+6y0acDy0bmo2EQ6eyVKkcweXM42dUh7LodwpDlfHaRDZ0PZ5aIyk8N1lYikqYBQ5PJfT9DGfZfvOhRClAN7NrA6gY6OgERHaGOAbgWrh7J4ZQmVsSchCAgCgoAgYD8I2BXBYD+w2kdPixrBAItLZDLsPhpM/5y4Qa6lHNiisroiBLzZM9yciIxJoss3ounXHf8prYLWrCTeskE5lU6qZdCY015+joX95ktT/lI7TtkFfNmnDmnHY8x9sYl2hn28hRKSUnPsznuDWtM9dcvmp7ty7m0EUqPD6MrCYZzSnJnw0gBy8PCmii/MYCs/fXoeqXGRlHjxKEXt+4XS4mOULaBPu77kWNq/UIgGEHH7T4VQ45plDNatuMdOXAynprX8Td6PcqPYPwIgGXB/O3qVUYOB8GMa36clWH9ByAXLzW8Eu0b8e+oGzVub4ZRV2sOZ/NnZ4tzVDMHHFvUCaFj/proIBhwfzVbMi78/QtsPBRk6CZelIX0bF0oGG8o/Pl69n8ltNxrwUD1VtneBS/mmcmbFOy+1oSrlPYVksNztJC0JAoKAIFDgCNgNwfDbb78pvYWLFy9SZGRmmB+59wAAIABJREFUFWWghEXfiRMnChywonSBokYwaHOD7JbEpDS18+HsZN7ucNb5TWJyAcRFKRcHqxMLWl+Q0vr6nG253nrLJ3U3+XKJxd9rrC8BMa+c4sNX2/KC0b8o3eaFNpbksKt0dcnIXK9faegiXWr7WLTdWD+bEi9lKd3heveyfd8k1xrNqKSj6fRoS4EBIg+Wfct/OUGVy3nSuy+1VgTYO8t2qzKlwX0aKVtYU6SXpfoj7QgCRR0BCBD/y1lsGsmgjVeRC/2YXPA2nb2gnQPNhcnsSHHGyJGidiVvJRRpSqfI0jgjo+Lrv07TL0zmIzo3D6RO9wSyY8Y+FqJMVwLEyyZ001X+URB9K+XiSC633yOQSZLG5YWiVWRppKU9QUAQKGoI2AXBsHz5cpo2bRqVLl2amjZtSj4+2dcHTp06tajNT4GOp6gSDAUKWiE0bsqCE6Ub80Z3VtkVuQUEHpEau2HXxWwPg3r4/Dc7qxpfifwjkBIZQlcWvJpjQyUcnKjSkAUqtdxUxBzbRqE/fpLtYSW4TKLS4Hm6MyFMXUvP75HOvG7TWfp1Z8aiAKKnIOKCw+PUv/t0qkGP8h89Kdt6rifHCAJ6EUBWBZUsacigSGcLTVVS5OLKJLFpEUS917HmcWks7HiFBR19PV1ZQ+dvCuUdfy3mvXEfZ9mlUmBZTxb8Ne3cAXJB01xAG1jAw44ToWkyWJtkwHiQrXD2SubNI4hXvjeoDVWv6MUEg+mxWXJOQthpaSZnVbzCZGlFzoJEOdjR8+G083AQvfhoQyqjoxzFkv2RtgQBe0Pg+++/p/Hjx6tuY4O4ZcuWmYaQxhlvEOcPCQlRfy9ZsiTjOVSnDg0bNoyGDx9ub0OW/hohYBcEQ9euXRWpsGLFCiXqKGEZBIRgsAyOBd0KyjUmLt5Jl67HZHuppx+sS/271OKMDdMvz9d5AQiBr+yyGPAi1aVFJd1WZwU9bntvPy0hhm58O50SL2efWeXZpAv5dX+JyxtyL9+B5sL1ryerWvecotwTE8mNsxisGSAZvttyTomiGkffzjXpkY7sSOIlz2przodciyg1JkJ9VlxrsuZO60cJJF7CpeMU+st8qvDsB+TkV8EuSQbo8CRwNt3crzM0F4wD5RLQZPD1cuZFuOlSwEtsc/nG3G2E7DxoLrzcuxEt+/GY0mRw4dKEj4d3pKoVrC8+i+cJNJRucKadFu9yyV7dKj5WJxdQQvLusj2MT2X6ffd/9PpTzdmxI5Y27LxI9ar5UjiTNM/2qGeS1JfPpCBQnBHQCAZ3d3fq3r27Euo3jq1btyqHwFKlSinyQSMYDh06ROXKlVN/JOwXAbsgGBo1aqScIp5++mn7RdoGey4Egw1OSg5dgoDlGH75gpq4cdRiFfC3kdZqQn9BOyeVU05DIuNp5YaTtIe1KuAmgRR3kBT1qvhaPT3WfmYgbz1NiQima19OoHQmCYzD0busWvDoyV5Ijb1JQcsnUGpU9iKfaNf/kRHk2ahT3jqZh7OwY3rmUgSV4TrwV6dvVtkLCNjkLRzTmSL4BbxmoDcvWEScLQ/wyil5QCAtIZbCNiyhuJO71Nml2/Qhlwo1KeT7mSwOkc5aJQEUOGgmZzLYX4YWSpJW8TP7z70ZwozNuSwC2idf/JxBXvqVLkUL3uyiq4wglbMhLrK+wV/7LilhSLhRoExhzR+nqWvLSlSNyQVHh/yVFpo7fRB0hObCO0t3q7IILVAu8dzD9a2eCQV9GYhF/7TtAt3HfYCYpr+PK/VjIv80u210uqeiKpPQSifMHa8cLwgUFALJycm0efNm2rBhA0VERJCvry/16NGDunTpQs7O1s0C0giGfv36Ecrct2/fTh4edyzekaEQGxtLly5dolq1ahkIBj3YwFFQNpz1IFV4x9gFwfDAAw9Q37596eWXXy48pIrglYVgsJ9JhX0mUlu3HrjKtmTB/GLjSA+3q0p1qzIpoJNcMB4tdmgSWKcCehUOJUsYRPrsBxH76CnwTeNd1djj2ynu7H5lA+fRsCO51WzBJQ36rODSkxLY6nIRL5x25jjoii/NJJeyVa0GSkx8EoVEZAizZbWGBWH1Oru2BLBgm6ebdV9orAaAXMiiCKCMAX/giqI5o8DiVREDOkVQ0aHU6HAKXvMepYRfy9S/EkwqwOnCuUyg2a4tFh1oPhpD9tmkJbs5Xd9dCTriub2PxYwXfXeEJr3Uimoxoeeh8/MGkiEhMZU8ubxOixjW5oEwcmGTCyiLQLmflsmArDoIP1qz3AoE6SJ2XNpz7DqV93PnDIZ7lDjy1C//UX+jP8huMFWWmI/pllMFAbMRCA4OpqFDh9Lly5e5SqwkE//phr/hurdgwQIqX9561sEawYAy98GDB9Pbb79NIBsQID86duyoshpmzZqViWDIWiKhtfPZZ5/RL7/8Qlu2bFFj++eff8zGSE6wHgJ2QTDgpvrhhx9o/fr15OgoO2KWuj2EYLAUktZrB7W48fyCU5JXqno8z63XM7lSTgjArjKdd1fhKsGrG85a8KWSrl5miTImhVyia8ve4EvcbSXiXK4alX/ibXJwL221SYDl6fuf7aXTl2+qa/ZoU5WzYdJ5VzRjh7VhdT8a99y9hWJ3ZzUQ5EIWQQDEQuK1M5TsWoZcEiPYHaUmpSclUviFU0Rc4uBXuZp5JANn/Fxd+hp/5u6UlFV8aRY5+9svuaABDV0AEAvaYhvCjyX4PyzK9ZILFpk0CzZyk8dw6EwYzf76gMqAeu/lNkrTBZac0GRowM+SN9mK2doEw597LtHqP/ge5IALFYgFlJWUZPyRNVi3qo8uzQsLQiVNCQI5IoDMhSeeeIKuXLmiNo6yBoTwQTJ89dVXVstk0IiBb7/9lr788ksKCgqiNWvWqK6BdADhsWPHDpVhYZzBkBPBULZsWbr//vtVNkZ8fDxh81nCdhGwSYIhKysFpgoMV1JSEj3zzDMUGBjI9eZ3p/Dde++9tou0DfZMCAbrTEoolyTEJ6Qqn2+8JLm5OrHFmNSnWwf9wr0K9BOi9v9OUbvW063UDPcO7Kb63T+A3Ou2YSG6O+mCufU0PTmB4i8cotCf5tEtJiy0cC5bjcr1H8fp3xk2gdYKpDFfDYmh8Qt2UBfeyavMAnNYHIBw2Hn4Gk0d2p4qlvFgQti0Loi1+izXsU0EUhPjKPj6TZr+7Vka068m+SReo/iUkrTpsjNrxaRQvzb+5BNQVok0mgqQFdBcuLGOa305+0GL0m37KE0Gsc40hWDh/B7ZeQfPhKoyhOpcogFBRwg/fr/lLPXtXItLsUzPvSV7DreIMLYG3XbwGvfhnKFpkAvIzqoRWFpl/UmJhCVRl7byg8Dvv/9OEydONNnE5MmT6cEHHzR5nCUOMCYYUArx/PPP0x9//EFVq1alXr16UfPmzendd99VhIEeguGxxx4jEfO3xMxYpw2bJBjq1q17lyWgMSMHJs448Dv87OTJk9ZBrYhcRQiGgp/Ia2zZN33Vv3ThGiub346q5b1ozIAWVImVqSWKLgK30lIp6p9fKWLTimwHWbbfWHKvk1lVOTc00lOS1a5s0o2LlBYfRS7lqpOjh49VMxeM+xfF4qPRLD53/EI4LeR0YjyVhz/ejOqwKJuXuxNnL+TuamLcVhqTJiBgHF3vfCbSEmPJoZQ+Aqbo3kVFf2RIzR/COh6RnBWDneLpg5rR1kPBtGbzJTX4Z3vUpV4dahBcbnL9fGQhF+CuUtLFnUuUwtVpQjLY9r2ETAbYShu7RUAbAhoR1g5cdwU7LnVoFkhvL8nQ9EB48ObA+6+0VSTqIx1YyFacJKw9NXK9HBAYOXIk7d69W5UO5BQom2jbti3NmTPHKjgaEwwNGzZU2QcgFvB3//79CZkN0NjTSzAsXLhQnSthHwjYJMGAUoi8RJ8+ffJyWrE9RwiGgp16pLO+OXe7ErzLGqjd/HhEB9E+KNgpyFfraXGRlMqWd6k3r5MDL+Qdvfz579K6VeihaH916ShK5x3a7MLJtwKVH8BCj+7e+epnYZwMFxJYuF1i8VHc360alOcSiTQ6cCqEF4mlqDaLjw5/vCkTDaYXByAXUkKvKJycy9UgRzcPdgMIp9hjLAjVoD3jbt3sjMLAszhfE/a5u44E0SffHFIwYP9Ay/BF/fuHr7bV9ZxM4/snlu1cw//4VGUJQXMBGQvBq99Vmgzu9dpSmQcHkYOb9R0SivP82uPYk1PS6PKNGJqwcKcqjTAO3JPvv9KGyvHfEoKArSDw7LPP6tpkrVevnrKMtEYYEwwgEubPn0/r1q2jTp060cGDB+nnn39W3dBLMODcxo0bW6Prcg0LIGCTBIMFxiVN6EBACAYdIOXjkK37r9DMNQdybGHUE82UUJTEHQSS2J0A2UjYySrMSIm8QdfXfsQL3wxNAQRIBpQjOLOYYgkH01owyWHX6OqSEbkOo9LQReTkHVCYQ83TtfECDjX1SUt3UauG5enVxxordYh5aw/RwdMhNHlwW6pVyZtrw3OfR41cwCLwVmoKlfvfeJWZEb55NcUe3sguALWobN/RQjLkaZbs56SY6BjaduAKLf75rKHTcEaY/morKsO7xKasXLWTQDLEndhJLoF1DIKOEH5EJpEqkbCiTklBoB/CFo4ODkVLg6EgcMpvm7HsavHa7L/peni80lwYyxmH569G0tqNGfdn28blaUjfJoWSXZHfscn5RRMBW89gAMFw7do1lYGAd7yxY8eqkgmEXoJBy3gomjNY9EYlBEPRm1PdIxKCQTdUZh+YmppGc9iz/G+u4cwp2jetQK8xyeDMjhDFPWALhppX2Gjiywd+7D6ezmal2VsKw9xsIUs4laLAV+aQU2l/k5eDReWVRcNyPo4FHysPW2S3i2eQDEHsDe/D2ThaGjPS3CO5dKKiv7tJcgHApHFaewoLWEL5X2lLlHRkUqEGJV09rXCDxkTZ/mN14W1yQuQAm0QAbhHh/52mjRed6eutdwg9L3Y4+OiFhlSGotU9oblLmBpEWiIvCp1dMrlFwIlFj4aDqbYL8/dwkdh5OIiSUlLpgdZVldjj4bNhhM8hHFtqVCxtt0KPhYlrdtdGmvm10DiauHgXO3Y0oXrVfCklJZ1+2/Uf/cPOHW+90JJ1lOzP7tTWcJb+WA4BW9dgAMGAgIYCbCmnTJmiLDQRQjBY7j6wpZaEYLCl2bByX4RgKDjA8YIC+7DfWYk6p+jeqrLaBXFgcbziHCglOcvigF//dYYuBkerFOnGNf3pye51qAIvVPNiw5kfPOMvHqXrvKOeU/h0epK8WTSuRMncd+dTokLp+jcfqvT/7MK1xj3k//AQ3XaV+RmTLZ+blsgkQ5gRyXC7s0Iu2PKsWa5vMdFx9OvOC7R64wXVaCkmFxNZrR8BTYZpr7ah8mXcdWUNWa5XttXSTSZgT13kkivW9IENLHbT8Vyswno+G9m5pTNbOVavUFqchSw4bfgOV1bO/J8Hi04iIEYJsRlrfydZcFjSVBFFwNZdJDSCITv4hWAomjelEAxFc151jUoIBl0w5fmgM7xofuOTbTme//GIjkoQrzhHLIsE7jtxnWZ/dfAuGJzZgQBuBNV5Zw4OBdaKiC2rKXLX9zlerlTlBmpX3aFU7jW4KZEhlMwlFje+nUGUnrmOt4SzK5V7fDw5epfl3XnRGEhjrYsb62dR4qVjBtzLMPminDZKyU6hte79wrgOsl5G83PyBqf/o779o2HtWcvjhkGTYfBjjahz80rkVsqpMLpnE9fEwnYn61QsWX9UWVIiZR+L3NlfHVCkQ6OaZejNp5urbCIJQUAQKJ4IBAcH07Bhw1SGAAQdQZJpf1epUkVpIJQvX95q4GTVYMjpwkIwWG1KrHohIRisCrdtXUwIhoKdD9hSfvrTMdpxKOiuC7VtVJ5e7tPIqt7eBTvavLWORcWYedkLYaLF5nUDlFigNT3QI/f+TBEbl+c4ILfaLSng0ZEmU7aTuUTi5uZV5NWiB0Xt+5nizx/irIeS7BzRiryaP0ARW9aodqxtMZm3mSq4syDoGPH3WqW5kCm4XAIkjHP5mkr4UaLoIoAsJuh3jODPOuz/NOHHqNhkLgeoUuxT/xOSUjhrIYo1T3YTLGJBuHq6OdFNLkdC9O1ckx7tWEMIhqL7EZGRCQK6EEAmw+bNmwklE+Hh4eTn56dsKbGId3bOyMSREASsgYAQDNZA2UavIQRDwU8MSIZ/T4bQD3+fY8GoOCrr6069O9Wge+uXteqiueBHmrcroCRi+MdbcjyZy4xp6YSuCjdrBQQerywYypeDbOHdUf6Z98m1SgOT3UFtedCKiXQrOYE8m95PpQLrsjo+p93+d4Rij2xRjgkQMHRwLb6L5zSujY89ulUp/yNQFuHTvh+F/DTXoMlQefhiZccpYXsIpCXEcnZOWibxRNiLlijhYLbmQQxnM3m63XkBjktIoXS2kzD+me0hYJ0eQWdBObawTs1HK/5lx5Y7VnS92ldnodVyVI1LJKBbISEICAKCgCAgCBQ2AkIwFPYMFOL1hWCwHvjYodMigHfoJDIQuBgURcNnbs0Vjk/fsi7BACX66H830M2/v7qrX261W5H/Q6/oVqNXeg5r3meuIrM3dQkHJ6rwwjRyCahS7G8FqPyH/rKQ0uKjuPRknLIWTA65qIQf/bq9QG61mgvBYIN3CcgFZOYkXDjC8zZGzRHKgoJXTSLfLgPIrUYzs0kGGxymTXQpLDKejp4PY/FUT5r8+V5D5gI6N+H5lnThWiQ92KaqkNY2MVvSCUFAEBAEBAEhGIrxPSAEQzGefBsZeigTLyAYsFuZXdRn9W68QGsuBdbqNhZPyTcu0s3t31By2FUWYvQl7za9ybVqY93kAvqazi4J0GEI/2s5JV2DM0IJcq3OJR9dnyNHn3JsmlB868qN5xIkAzJGHL0y9Cgg/EhpSSrjQ7IXrHXX67/OLa7tjT/3L91YN02d5FKhNvn3GkLXv/qQUqND1X0e+OpccvatoL9ROTJHBKLjEik+IY3e+2yP0lwwDmgyfPBKhhCmr5eroCgICAKCgCAgCBQ6AkIwFPoUFF4HhGAoPOzlyhkIINUX1l/Lfrgj7qdhg/KI6cM7sBBmhpWR3oCwUUQ0Fqe3qJSLA6dYu+g99a7j0hJi6FZqinKMcHAvnfd24qM55T+Z110lqARb6DmUKr5lEXkGUU60KQTS+J4O37yStTM239Uvv67Pk0eTznKfW2jGomIT6ctfT9Jf7BiB6Nm+GjWqUYY+Xr1faTL4srjjwjFdxEXiNt549sPuWIus/7bQtEgzgoAgIAgIAjkgIARDMb41hGAoxpNvQ0OPiUum7Yeu0eo/TlE0/z8Cu3FD+jamukwulHJx1N3bsMgE2nv8Om1g0iI+MZXqVPWhx+/n3VXvUiwUl3eiQXcH5EBBoBghAAIu5Kd5lHBuv2HU3u36UunWj5p0WSlGMFlkqHi2gVCAHWWlsh508EwodWF7Stghv/dyGwr09yBHzmYo7hHJwpfQO6pawYstTx2ZgEmjy9djlOuGb2lx2Sju94eMXxAQBKyDgBAM1sHZJq8iBINNTkux7FQaZzLArg6kgAOnLrgyqWCu5RpewCd/sVeprRsHMiEmDGxJTWuXIRcnKUkoljeYDLpAEIDmQtDKtyktOszQPsolNE2GArloMWw0NiGZvvrjtBJzvMYlEvuO36DG/Dw7cSGcBj3aiBZ9f5hGP9OC3IuxlSduC5ALH6/6l44yLm+/0Ioa1vBjnZ9omrBopyJl3nmxjd2TDPiudDCybU6Fq4gQS8XwqSBDFgRsGwEhGGx7fgq0d0IwFCi80rgVEcBL1887/qPP2BY0u3B3daJPXr+P3ShEYNOK0yKXKsIIKEHHlZNuay4QOXqXpVR2YEEIyWD5iYdQ8Fu8UIbQ46gnm5EzLyp3Hg6ixUwuTHqpDWd7+ZAL79gX57gaEkOvz9lGCUmpVJKZ5YfbVqXf91xSZSTQqpg2rD3VqOitfmePAVeqKzdiqXpFL3YMcaGklBS6HBxLXh4u8t1mjxMqfRYEijACQjAU4ck1NTQhGEwhJL+3FwRuRMTRu8vuFkAz7v/kwW2pSS1/exmS9FMQsFkEbrE1ZXLIpQwb1pQkFi19njyb3E9hG79QmgwOLIpaYcCH5OQdYLNjsMeOIUsLu9XevKBExCemUGJSGmsvOBZ7cgF4gGi+fCOGxs7foUgGLUAu4PlfM9CbnJ0c7HHqCeTCJ18fpENnQ+m1J+5RVtcQ/Jy4eBeV8XZVZTJCoNvl1EqnBYEiiYAQDEVyWvUNSggGfTjJUbaPAGpuR8/dRlGxGRoO2cWbzzSnjs0CbX8w0kNBwA4QuJWWqkiGxGtnyKNhByXoCOHHyN0/ktc93ciJXVIkBAFrI5CckkY/b79Ay389Ybh0z3bV6LmH65ul52Ptfpu6XlBoLL05b7vSKYJ+ZfeWlWnrgWucxZBGjg4l2EmkLdWp7ENOdkqgmBq//F4QEATsCwEhGOxrvizaWyEYLAqnNFaICGB3Z/66w/TvyYwU7exi/ujOVKW8VyH2Ui4tCBQtBEAypLM7ikOpO6VHaYlxIvBYtKbZbkYDQUdo8EBzAWURWqAkQtNkgPCjPQa0Fq6FxdKEhTsNYsgYB8iFSS+1VuSCWzHX4LDHeZU+CwJFFQEhGIrqzOoYlxAMOkCSQ+wGgVMXI2jM/O1sT3l3lyH29dqT91CAj2gw2M2ESkcFAUFAEDADgStcHjFy1laD5sKT3evQuk1nDZoMHw1pp2yP7VWDAdkKf+y5mMnWuXPzQHq5dyN2SXI2Ayk5VBAoeAS+//57Gj9+PH377bfUqFEjdcG///6bPv/8czp37hxFR0eTj48P1ahRgx566CHq37+/oVMRERG0bNky2rJlCwUHB5OzszMFBARQkyZNaPjw4VS+fPmCH4BcIV8ICMGQL/js+2QhGOx7/qT3mRGI4CyG/adDaOn6o5SYnGb4Zf1qvvT6U82ZXHDN5I0u+AkCgoAgIAgUHQSi2Ilo0fdH2GXjutJcqFXJW+kUQJOhRmBpGvNsC2VXaY+RlJxCF9gR4+3Fu1VZhBYol4AmQ/O6AUrsUUIQsBUEshIMq1evpvfff5969OhBDz/8MHl5eVFQUBDt3buXIiMjafHixarrsbGx1Lt3b0pMTKSXXnqJ6tSpQ/Hx8XT+/HnasGGDIi1atmxpK8OUfuSAgBAMxfjWEIKhGE9+ER36zZgEFj1L5zTZSIqJT6aa/IJZml+6ypR2tdtdqyI6VTIsQUAQEAQsjgBIBlgeVyjjzs4RDkr4MTgsjtzdnOyWXABIsCdFdoamufDkA3Xpx7/PGzQZJr3YmprULCMaDBa/o6TBvCKQlWC47777qFKlSrRy5cq7mkxPT+d3tJLq58h4eOutt2jFihXUqlWrXI/Na9/kvIJHQAiGgsfYZq8gBIPNTo10LJ8I4MsqLe2WvGzlE0c5XRAQBAQBQaDwEYiITqDlv5yg7YeuKc2FelzqcYOtS6HJUJ7JlHED7lVuEhLFG4FffvmFdu7cSRMmTCBPT0+KiYmhKVOmULt27ahnz55WBScrwdCsWTMCyTB79uxc+/HZZ5/R9OnT6bffflPlExL2iYAQDPY5bxbptRAMFoFRGhEEBAFBQBAQBAQBQaBAEQDJEBOXQv5c7gdBRwg/XmeLZghXCrlQoNDbReNY0INMQNSrV08t0seMGUMnT55UPwPp8Nhjj1ltLFkJhoEDB9K+fftoyJAh9OCDD1L16tWzLVvdv38/PfXUU9S4cWMaOnQotWjRgjw8PKzWb7mQZRAQgsEyONplK0Iw2OW0SacFAUFAEBAEBAFBQBAQBAQBhQAyF959910DGiVYnMPBASVCaSx8fUf5GsdYK5MhK8Fw+fJlGjVqFB0/flz1E6TBvffeq8iGRx99NBPZsHTpUpo3bx4lJ8OWtYQiIzp27EhPP/20KrOQsH0EhGCw/TkqsB4KwVBg0ErDgoAgIAgIAoKAICAICAKCQIEjAOHDv/76K9N1sDA3Jhfwy27dutHUqVMLvD+4QHYuEihfPXLkiCrjOHjwIP3777+UkJBAnTt3pkWLFmUiGeAksX37dnUMMh8uXrxIrq6uBPJBRB6tMoX5uogQDPmCz75PFoLBvudPei8ICAKCgCAgCAgCgoAgULwRgNYCSg9OnTp1F6kAZEA21K1blxYuXKi0GawR2REMWa8bFRVFI0aMoD179tCSJUuURkNO8eeff9LIkSOpfv369N1331ljCHKNfCAgBEM+wLP3U4VgsPcZlP4LAoKAIFA0EEhLiCUH1zt1tmmJccRvypl+VjRGKqMQBAQBQcDyCAQHB1OfPn3uKovQyiXWr19P5cuXt/yFc2hRD8GAUzdt2qTIkdGjR9OgQYNy7R/Gd+HCBTp8+LDVxiEXyhsCQjDkDbcicZYQDEViGmUQgoAgIAjYNQIpkSEU+ssC8u81jJxK+xPIhbiTuygtLoq8mj8oJINdz650XhAQBAoaAXvIYAgJCaGAgIC7oEDJw8yZM2natGnUu3dvCgsLIz8/v7sEIOPi4qhLly4qA2Pjxo0FDam0n08EhGDIJ4D2fLoQDPY8e9J3QUAQEATsH4G0+Ci69vlYSo0KJUfvslRhwGSKP7efwn5brAbn1/0F8mjchRxcxILP/mdbRiAICAIFgYA9aDC0atWK2rZtSx06dFBCjfHx8Upb4csvv6TAwEBChgU0FmBTuXbtWurVqxc1atSI3Nzc6OrVq7Ry5UolEDl58mTq379/QcAobVoQASEYLAimvTUlBIO9zZj0VxAQBASBooUASiOiD/5FN7esUgMr4ehMt1KT1f87ePgowsHJp1zRGrSMRhAQBAQBCyJgDy4SX3/9tRJthE4EshQg+FixYkUl8Pjyyy+Tj4+PQuT8+fO0bt06RT4EBQURsjPgONE4zBXKAAAgAElEQVSwYUN65pln1PESto+AEAy2P0cF1kMhGAoMWmlYEBAEBAFBQCcCimQ48Afd3LrGcEZJNy+q+PxUIRd0YiiHCQKCQPFGAJoHU6ZMUSDUq1ePpk+fTmPGjKGTJ0+qn02YMIEee+yx4g2SjN5qCAjBYDWobe9CQjDY3pxIjwQBQUAQKG4IQHMh9tg2Cv/jU8PQHTx9qcJzU5Qmg4QgIAgIAoKAaQSQyQALSJAJ0CrA7j9Ih3bt2lHPnj1NNyBHCAIWQkAIBgsBaY/NCMFgj7MmfRYEBAFBoOggoAk6apoLVKIku0ekqwFCk6H8M+8JyVB0pltGIggIAoKAIFAMEBCCoRhMck5DFIKhGE++DF0QEAQEARtAIC0+hq4uHcWOEZEZmgtcFhF7fIdBk8Gn89NUukUPKuksIo82MF3SBUFAEBAEBAFBwCQCQjCYgGj37t30008/0cGDB+n69esq5ahBgwbKs7Vx48aZzoa66YwZM5Q/q4ODA7Vu3ZrGjh2r1FKzBtRQV69erZRRYduCuqhXXnmFnJycMh0aHh6u2tyyZQslJiZS3bp1adSoUdSmTRuTk2vqACEYTCEkvxcEBAFBQBAoaARSIoLpxvqZVPax0UpzQRN+TGeHCe+2fcnBzbOguyDtCwKCgCAgCAgCgoCFEBCCwQSQI0aMoMjISHrwwQepZs2aFBERQV988QUdO3aMli1bpixXEFA9hW0KhFWghpqUlERz586lqKgo+vHHH8nX19dwpUWLFtEnn3yijkNd1NGjR2nOnDnUp08f+uCDDwzHJScnU9++fSk6OpreeOMN5QsLUuLvv/9WfWjZsmW+bgMhGPIFn5wsCAgCgoAgYCEE0hJjyaGUh6E1kAwolXBgsUcJQUAQEAQEAUFAELAfBIRgMDFXyCDAwt444N3arVs3RTjAvxUxcuRI2rt3L23cuFHZqSCuXbtGDzzwAD333HP05ptvqp/dvHmTOnXqRL1796b333/f0OzixYsVyQCBFrSLAJmAY2Dt0qxZM/Wz1NRUevTRR5UvLGxc8hNCMOQHPTlXEBAEBAFBQBAQBAQBQUAQEAQEAUHAGAEhGPJ4PwwYMIBu3LhBf/zxh1r0N2/eXC38jUkDNP3iiy+qMggch0C5BciGb775hpo2bWq4ekhICHXo0IFee+01Gjx4sPr5wIEDKTg4mH7//fdMvVyyZAnNmjWLtm3bRmXLls3jCIiEYMgzdHKiICAICAKCgCAgCFgIgbQ0zlZxYIFPo0hL55+VzPwzC11OmhEEBAFBQBAoQASEYMgDuLGxsXTfffcpjYX58+fThQsXqEePHjRp0iR6+umnM7U4bdo0Vc4AXQYXFxeaOXMmLV26VGk6IAvBONAeSiZwDKJ9+/aKuEA5hXFs3bpV6TV89tln6pi8hhAMeUVOzhMEBAFBQBAQBAQBSyCQyuTCpeBocivlROXLuKsmo2OT6Mj5MGpcswx5ubtY4jLShiAgCAgCgoCVEBCCIQ9Ajxkzhn799VeVhdCwYUM6cOAAPfnkkyqr4OGHH87UopZtsH37diXm+Pbbb9MPP/ygdBeyBsopAgMDFXGAQNsQf8yaFQFy4oknnlBERG6+thqBkNMQ4+LiyN3dXfVfQhAQBAQBQUAQEAQEAWsiAHLhYlA0jVu4g9xcHGnasA7k4eZEX/x8nP7ad5ke7VidHu9aW0gGa06KXEsQEAQEgXwiIASDmQBCJwEijcbZChrBMHv2bHrooYeyJRh27NhB/v7+imCA6OORI0d0EQwQeXzvvfcyHasRDNkRGsYHCsFg5uTK4YKAICAICAKCgCBgNQTiE1No15Fg+uSbg+qaPp4uVL1iadp/KkT9u05lb5r4Qmvy5p9LCAKCgCAgCNgHAkIwmDFPKIeYN28evf7666pEQYu8lEgcOnSIXF0z+3pLiYQZkyGHCgLZIJCWkkjp8TGUEh5E6axK7xxQhUo6u5Gj1x0XFwFOEBAEBAFBwHYQiEtIoR2Hr9H8dYczdQrkwlsDW5GPVynb6az0RBAQBAQBQcAkAkIwmIQo4wCNXBg+fDgNGzYs01mayCOcIbJmG2QVefz5559p9OjRtHbtWmrSpImhndDQUKWnYCzy+MILLyiRxw0bNmS6HjQcUB4hIo86J08OKxYIpDGxkHDxKIX+tohuJcUbxuxatTH59xrKJEOZYoGDDFIQEAQEAXtDACTD6Lnb6GoI25Pejk9ev09lM0gIAoKAICAI2BcCQjDomK8FCxbQ3Llz6dVXX6VRo0ZlewZ+vm/fPvrzzz8NNpVBQUHUvXt3ev755xWpgIiMjKSOHTtSnz59MpERIA1Q8mBsU7lmzRp1jDEZATIDRAYEIvHz/ISIPOYHPTnX1hBIDD5PQZ+P5W7duqtrrtWYZOg5XDIZLDxpkTGJlJCURqcvR1AJ/q9OFR9y5Trq0h6SzmxhqKU5QaDIIgBBx+W/nlCaC8aBcgloMmjCj0UWABmYICAICAJFDAEhGExM6Oeff05wgoCFZNbMBZyqWU2eP3+e+vXrRw0aNKBBgwZRcnKyIiVAKEBzwdf3Too2NBzgDIEyC7hGQPAR2g4gDj744ANDj9AGRB7hWvHGG2+Qn58fgXTYsmWLcqZo2bJlvm5HIRjyBZ+cbEMIpMZHUdgvCyn+7L859irwlU/IuUygDfXavrsSEZVIX/11iv7cc4nSb3M6JUuWoIfbVqV+XWqRb+nMJWD2PVrpvSAgCBQEAnGswfDd5rO0btNZ1XxtLoto1aAcrdxwSv3bl8sjFozpTB6uzgVxeWlTEBAEBAFBoAAQEILBBKjPPvusykzIKU6fPm341bFjx+jjjz8m6Cs4ODgoG8uxY8dS5cqV7zp9xYoVtHr1arp27ZoSfwSRMHjwYHJycsp0bFhYGM2YMYNgTZmQkED16tWjkSNHUtu2bfN9OwjBkG8IpQEbQSAlMoSClo+jtLioHHsU0Od18qjfzkZ6bN/dSE5J5UXBOVrz553nn/GIBvasT73aV+fnmYN9D1R6LwgIAgWOQEhEPI1nFwlkLEBzwcXZgbYfukYLvj1Mbz7TglrULUuupRwLvB9yAUFAEBAEBAHLICAEg2VwtMtWhGCwy2mTTmeDQEpUKF1f8x6lRATniE+5JyeRW/U7uicCZN4RuMELglGztlIs101nF95cIvHxyI5U1tct7xeRMwUBQaDYIBB6M54cHUoaBB2hyRCbkExebi5CLhSbu0AGKggIAkUFASEYispM5mEcQjDkATQ5xSYRSE9Po+i9P1PE5pXZ9q+kixtVHDSLnEr722T/7a1Tl69H09AZW3Lt9qKxXSgwwNPehib9FQQEAUFAEBAEBAFBQBDIBwJCMOQDPHs/VQgGe59B6b8xAqnRYXT9mymUHHIpCzAlKKDPa+Raqzk5OIndmSXumuCwOHp56sYcm2IpBloyviuV83O3xOWkDUFAEBAEBAFBQBAQBAQBO0FACAY7maiC6KYQDAWBqrRZmAiAZIg9voNiDm2ktMQ4KlWxDvl06E+OpQPIwU120y01NxHRifTxqv109HxYtk02rxtAo564h7y5plri/+3dB5wURdrH8YdNhIWVLFkFFQRFPQFRQTEHBHO6M+d4JsziYVYQxYQnZkE5AZFTOPTMYuLkFE/EQFBEcmZZNi9v/+ve2Ztdlt2Z2ZneCb/+fDgEerqqvlXXO/101VMIIIAAAggggAACqSNAgCF1+nqrlhJgSOHOT+Kma7lEae5ab7fKLVYvs75lZLOPeiy6e/GKjXbD45+a1koHHznZWTbc21qufevGsSiWayKAAAIIIIAAAgjEsQABhjjunFhXjQBDrIW5PgLJK1BSUmarN+Tb1E8X2pdzlls9b1nEfnu0tYEHdLZWTRtYWlpa8jaeliGAQFQFcvOKvN236lmjBv/bSSt3c5E1acT2lFGF5mIIIICADwIEGHxAjtciCDDEa89QLwQSR6CgqMQ2biqyLV6VmzbO8raYYzu5xOm95KtpacFmS/NmLtXztooOHKWFmy3dS/TKEZ8CCiS8NWOhlxS2sfXabXsXZNDWlY9PnG1Xn7a3tWzaMD4rTq0QQAABBKoUIMCQwgODAEMKdz5NRwABBJJMoLRgk22aM8MadOxmWS07uSCD8rKs93aYabb/iZbOcqm463EtsXrny1/thalz3SyoIX/ax7rv1MJufGKGrVqXb+1aZtuIP/e3nGzyucRd51EhBBBAYBsCBBhSeGgQYEjhzqfpCCCAQBIJlOZvstzvPrK1775g9bIaWLuz77H0hjm27JW/WPHaZdao677W6phLvWSvOUnU6sRvyhYvV86SVZvspic+tY3eMgkd9bPSrbCo1P33BYN3t8P6dLTGDVkqkfi9TQsQQCBVBAgwpEpPV9FOAgwp3Pk0HQEEEEgigbKiQitYPNdtVWtbyrwEr14ekPoNrXTTOtfKpv1Ote36HOMFHdhNJt66PRBkGPLYjApJY887trsd0XcHggvx1mHUBwEEEKhBgABDCg8RAgwp3Pk0HQEEEEgyARdk+O17Wz7hfhdkCBxN+53iBReO9YIL7GwSr12+wsu5MOSxT2x9bmF5Fa89Y2/ru3vbCokf47X+1AsBBBBA4H8CBBhSeDQQYEjhzqfpCCCAQJIJlGzeaGV5623p2KFW5i2ZCBxtz7zTMpu3t4wmzZKsxcnRHCV0vHn0py7ngg7lYvBWTpTnZAgkfkyO1tIKBBBAIPkFCDAkfx9vs4UEGFK482k6AgggkEQCpQV5VrJ+pa18Y6TLuRB8KCdDm1Nutqztd2IWQ5z1eV5BsU3+cL5NeO9nV7MLBvewPj3a2A3ecgnlZGie08CevOFga8x2lXHWc1QHAQQQ2LYAAYYUHh0EGFK482k6AgggkEQCpfm5tnr6GMv74XPXqpzeA62+F1BYNW20Wy6RsV1ra3/hQ5beIDuJWp0cTdm4qdBe+scP1qlNEzu0d0fL9rapVOLHB1+eZbed18fatKDPkqOnaQUCCKSKAAGGVOnpKtpJgCGFO5+mI4AAAkkmUJK71uVfaNiph2U0294Kly2whjv1tLXvvWRtz7zLMlu086bde/PvOeJOQEGGtLR65TMVlPhRsxvYPSLuuooKIYAAAjUKEGCokSh5TyDAkLx9S8sQQACBRBHY4s0wKCvMd7s+1KuX5qpdujnX+98tYW0ruaWs1Ns1Yr3lzZtla94e467TeI8B1uKwc8zSsyy9foNEIaGeCCCAAAIIJKwAAYaE7braV5wAQ+0NuQICCCCAQOQCCi4Ur15iyyc+YG1OvcXNMijz8ims/2KKF2TYaC0OOSukIIOCC0WrFtvScX+xLQVK8OjNVEhP9yIVJWZpmdb6uD9boy57uyAGBwIIIIAAAgjEToAAQ+xs4/7KBBjivouoIAIIIJDUAqXebg+Ln7rC7fqQ5m0j2e6c+yx39vu24cu/u3Y37X+qNe072NKyqg8MKAfDuk8m2MZZ//BiC2lesOJmb5lEG1v60q3u2lnbd7a2f7rDS/LYJKk9aRwCCCCAAAJ1LUCAoa57oA7LJ8BQh/gUjQACCCDglkZsXvC1t/vDI56Gtzdh0JHZsoO1PeMOy8hpEZKUZjys+fAVa9y1jzXYYXerl5FpxWuW2uq3n3UzGDKaNA/pOpyEAAIIIIAAApELEGCI3C7hP0mAIeG7kAYggAACCS+gIEPezzNt1ZuPl7clY7tWbjZDuEEBBRnqZdb3VkXUd9dy+R0KNrM9ZcKPEhqAAAIIIJAoAgQYEqWnYlBPAgwxQOWSCCCAAAJhCWh5w/rPJtuGmW+Wfy7N205SAYb/7vzw38SPHAgggAACCCAQ/wIEGOK/j2JWQwIMMaPlwggggAACIQi44MLnU7ycC1Pc2crDUJaf5/3Xlv/mZDj7XoIMIThyCgIIIIAAAvEiQIAhXnqiDupBgKEO0CkSAQQQQKBcoCRvgy0bO9TLlbDEMlt29BIxDrOCxXNt5eSHXZCh5cDLrfFu+7P7A2MGAQQQQACBBBEgwJAgHRWLahJgiIUq10QAAQQQCEegZOMaW/3P56zlkRe6nAsu8ePCb7xtKnOtSY9+puUSHAgggAACCCCQGAIEGBKjn2JSSwIMMWHloggggAACYQpou8p0b0lE4FCQQQka0wkuhCnJ6QgggAACCNStAAGGuvWv09IJMNQpP4UjgAACCCCAAAIIIIAAAkklQIAhqbozvMYQYAjPi7MRQAABBBBAAAEEEEAAAQS2LUCAIYVHBwGGFO58mo4AAggggAACCCCAAAIIRFmAAEOUQRPpcgQYEqm3qCsCCCCAAAIIIIAAAgggEN8CBBjiu39iWjsCDDHl5eIIIIAAAggggAACCCCAQEoJEGBIqe6u2FgCDCnc+TQdAQQQQAABBBBAAAEEEIiyAAGGKIMm0uUIMCRSb1FXBBBAAAEEEEAAAQQQQCC+BQgwxHf/xLR2yRpgyC8osfyiEqvn6eVkZ1l6elpMHbk4AggggAACCCCAAAIIIICAGQGGFB4FyRZgKPSCCivWbra/vfuzfTd/tTWon25H9d3RDu7V0ZrnNEjhnqbpCCCAAAIIIIAAAggggEDsBQgwxN44bktIpgBDaWmZfbdgtf3lmS+trGxLBfN2LbPt/iv6EWSI25FIxRBAAAEEEEAAAQQQQCAZBAgwJEMvRtiGZAowrN1YYNc8/JGtyy2sUuOMI7raqYftahksl4hwtPAxBBBAAAEEEEAAAQQQQKB6AQIMKTxCkinAsOD39XbNIx9vszebNqlvj143gFkMKTzeaToCCCCAAAIIIIAAAgjEVoAAQ2x94/rqyRRgmOMtj7hl9Gfb9M7MSLNnbj3MWmzXMK77hMohgAACCCCAAAIIIIAAAokqQIAhUXsuCvVOpgDDSi+544X3vWtbKqZfKFfavUsLu/XcPtakUVYU5LgEAggggAACCCCAAAIIIIBAZQECDCk8JpIpwJCXX2xPTJxtn367tMoeHX5Vf9ttx+Yp3Ns0HQEEEEAAAQQQQAABBBCIrQABhtj6xvXVkynAIOh1XqLH0a9/a1/OWV7u3iAr3S4/eU/r06ONZTfIjOv+oHIIIIAAAggggAACCCCAQCILEGBI5N6rZd2TLcAgjtzNRbbJ+7Voea41rJ9hHVo3dssisjLTa6nFxxFAAAEEEEAAAQQQQAABBKoTIMCQwuMjGQMMKdydND3JBcrKttj6TYW2Ma/INhcUW0svYWl2w0z3iwMBBBBAAAEEEEAAgXgQIMAQD71QR3UgwFBH8BSbUgIleRusZN1y2/Tjl5aWnmHZ3Q+wjCbNLb1RTsgORcWlpq1YR7zyb1u1Lt99rl49s/12b2uXntjTmuU0CPlanIgAAggggAACCCCAQKwECDDESjYBrpuMAYbAW97CohJLT0+zRt4yicbsHJEAozE5q1iSu85WTHzACpfNr9DAhrv0stYDL7f07O1Caviy1Zvs8uEfWklp2Vbn7921tQ350z6Wk80OKSFhchICCCCAAAIIIIBAzAQIMMSMNv4vnGwBhlxv6vjMuctt3PQfbM2GAtcBe+zcwi49oae1b9XYBRwS+diYV2gbNhXZj4vWWgMvp0Q3b1eMxo0yvVwTTJGPx34tK8q3VdPHWN6cT6qsXrODTrem+59g9dIyqq1+YVGpPfP37+ydLxdt87ynbjrU5RsJ9VBC1FXr8+2XpRu9pRYNbMd2OS5AkZlBrpJQDTkPAQQQ8FNA+aVKvaVyyiuVluZNYfOOtd69PCO9nnf/ru9nVSgLAQQQqFaAAEMKD5BkCjAUFpfYPz77xZ5/a+5WPaqdJB4bcrC1bZGdsL29LrfAHhn/tX3z06ryNqR7XzDOPLqbHdl3R/eFgyO+BEo2rrbfnrzcrKy0yoqlNWxsHS56xC2XqO5QMODGJ2bY8jWbt3nadWfsbQf36hQSwPLVeXbHM1/YMu/3wKGEqLec09u679Tc6mdVH/AIqZAwTyrZuMa2lBZbZrM27pNlhflWvG6ZZeS08paSNAnzapyOAAIIJJeAggsf/Hux/e2fP9mDV/Z3L00UXBj69OfWdYdmdv6gHgQZkqvLaQ0CCS1AgCGhu692lU+mAMOaDfl2yQPvm972VnUc2qujXXpST2tQBw9Ptesls7z8Yhs9abZ9MntplZe6/fw+tm+PtrUths9HWaBo9e/2+9NXV3vVjlc8ZZlNW1d7znrvS+Tt3pdI7YyyreO2c3tZ3z3a19gCBStueHyGrVi7dbBCASvNhGjb0t9AnIILy14ZZmVFm63dWfdYeuPmtnn+LFv5xiOW03ugNet3MkGGGnuWExBAIJkFFBC+5IH3bMsWs8ZeYt+bvYDwXyf/x35fuck1+9Zze3vfA9p4MxsSe6ZmMvchbUMglQQIMKRSb1dqazIFGH74Za17y7utQ29o/3rTIdbcy7yfaMeqdZvtwnvfNW9mZJXHjm1z7O5L9remTZgiGU99W7xhlS1+4jKvSlV3XL3MBtbxsse8GQwtqq12cV6uvT3zNxszrWIeh8CHMrylP2Nu6GetWjWrsflzFq62W578bJvnDerf2c4b2N0yfdrWtayk2DbP+8pWTh7p6pTeuKk12fNQW//ZZOfmZnlc+LA3k6F6oxobzgkIIIBAAgvkFxbb1z+usgfHfuWCDMHHqYftYscftDMzGRO4f6k6AskmQIAh2Xo0jPYkU4Bh7i9r7KYnPt1m67VM4q83H2otEjDAMG/xOrtuVNXr+AMNfvGOIxKybWEM14Q7tbQgz1ZOGWX5C76usu56O9/8kDMtLaP65S0lm9bb2jXrbdhrC23xiq1nMVx0TBc7cOdMa7pD1xqNJn3ws7007YdtnrdLx6Y27KK+vk61LS3YbHk/fm6rpz1VoV4KLrQ7+17LbNHO2zGDt3I1di4nIIBAUgsUFJbY9C8qLgXdv2db+/Ope7NdcVL3PI1DIPEECDAkQJ/l5eXZqFGjbPr06bZhwwbr3LmzXXzxxTZw4MBa1T6ZAgyrvYR1l9z/nhWVbJ1lX0gD9ulgl5+0p5cQ0f/15bXqJO/Dv6/Mtcse/GCbl8n2pkuOvtGbncFWhbWljvrnNYth2dihVuL9Hnxkbb+TtTntNm/2Qs2zDvSWf8PMN62o/R/s3e/W29uzllvu5mLbpUNT++OA9tYmd6612r2Pt9Ri+xrr/8Gs37xcHt9s87x9urW2G8/qZY0a+Js4VEGGlVMe9oIx/6vb9ifdYI269iG4UGOvcgICCKSCgL7nKOdCYFmE2qzlEsOv+m9OhkDix1SwoI0IIBDfAgQY4rt/XO3OP/98++677+z666+3HXfc0aZOnWoTJ060hx56yAYNGhRxC5IpwKBtKf/+yUIb6+0gUfmo7033fmzIAGvXMvQs+xGjxuCDSvB4szc7Y2lQUr7gYk45ZBf745HdLCODt7wx4K/1JUty11r+r3Ns0/efeDtGpFuTvQ+3+m13tgxvOUCohwIVS567wbJ23NOs6wCrl9XQtqz93UpnT7X67XexFoedY+kNah7f+oJ60X3vettdVr1s455L97c9d2kVarWicp4SOm72Znko50LwchItl1BOhszm5BeJCjQXQQCBhBWoHFzotmMz+2nRuvKcDAQZErZrqTgCSSlAgCHOu/Xjjz92sxVGjhxpxx57bHltFXSYN2+effTRR972i5FtLZdMAQbBaJvKGbOX2Hgvy/L6TYXOStmVrzxlL28Lv2xvK6fInOJhiMxfvN5uHv3pVkkstTXhvZcdwOyFeOikGuqgB2nvdbylZTUIu7ZbvJ0oitcus1XeMoLC3390n6/nXWe7XgMtp89Ay8jeLqRraortZ/9ZaqP+tvUshn4927lEqNs19i+XR1lJkeUv/NZWTHzQBRfSGjaxxj362cZZ0117FGRof95wcjCE1LuchAACySoQHGBQzoUTB+xis3/+b06GwCwGvURhFkOyjgDahUBiCRBgiPP+uv32223atGn21VdfeW+o/ze9X7MYNKNh/PjxFggUhNuUZAswqP2lpWUuuKDdJNK9vaG1JCIZ9ocuKS21NRsK7M0ZC+3fP6z0thJMt6P67mB9d29rzVgaEe7QT9jzS/NzvS0cN9uWkhIXqEhrlOPlcAhvOcPmgmK35eXE93+2BUs2WDMvOehJB+/ignF+BhcCnfDfZSR3eLtI5LucCxk5zW3TXOVkGG2NvYSPLbw8FeleOzkQQACBVBZQkOGL75a5JZ/amlqJH7+dt9p7geLlqyG4kMpDg7YjEHcCBBjirksqVui0007zHppLbdKkSRX+QbMXNKPhrrvuMp0TyZGMAYZIHBLpM8XFpZbnPSDW896E52Rnud85EIhEIL+gxAqKS7yZPWl1nn1cQYYt3mwGLYdQQkflZChatciyWrQnuBBJ5/IZBBBISgEtB60ftN12gffnrIx0Zi4kZW/TKAQSV4AAQ5z33ZFHHmkdOnSw5557rkJNV65caf3797frrrvOLrnkkipbUdPMBiWPzM7Otq+/rjrLfZzTUD0EEEgigS3e3mvBAbPKf06iptIUBBBAAAEEEEAgaQUIMMR51yrA0LFjR3v22WerDDBomYRyNFR1EGCI886leggggAACCCCAAAIIIIBAEgkQYIjzzmSJRJx3ENVDAAEEEEAAAQQQQAABBBBwAgQY4nwgDB061G1LWTnJoxI/ankESR7jvAOpHgIIIIAAAggggAACCCCQIgIEGOK8owPbVD7yyCN2zDHHlNf2wgsvtJ9++oltKuO8/6geAggggAACCCCAAAIIIJAqAgQYEqCnzz//fJszZ44NGTLEOnXq5LatnDBhgo0YMcIGDx4ccQvYRSJiOj6IAAIIIIAAAggggAACCCBQSYAAQwIMCe32oBkMb7/9tq1fv946d+7sdo4YOHBgrWpPgKFWfHwYAQQQQAABBBBAAAEEEEAgSIAAQwoPBwcwAQMAACAASURBVAIMKdz5NB0BBBBAAAEEEEAAAQQQiLIAAYYogybS5QgwJFJvUVcEEEAAAQQQQAABBBBAIL4FCDDEd//EtHYEGGLKy8URQAABBBBAAAEEEEAAgZQSIMCQUt1dsbHdunWzLVu2WHZ2dgor0HQEEEAAAQQQQAABBGIvoO/cM2bMiH1BlIBAHQoQYKhD/LouumvXrq4KBBj86Qkl68Qba38E/C2FsY23vwL+lcbY9s9aJeGNt78C/pam8V2vXj378ccf/S2Y0hDwWYAAg8/g8VQcSyT87Q28/fPG2j9rlYQ33v4K+FcaY9s/a+4l/lrjjbf/ApSYKgIEGFKlp6toJ1+c/O18vP3zxto/a76k+muNt7/e3Evw9lfA39IY33j7K0BpqSJAgCFVepoAQ533ND/I/esCrP2z5oHXX2u8/fXmXoK3vwL+lsb4xttfAUpLFQECDKnS0wQY6ryn+UHuXxdg7Z81D7z+WuPtrzf3Erz9FfC3NMY33v4KUFqqCBBgSJWeJsBQ5z3ND3L/ugBr/6x54PXXGm9/vbmX4O2vgL+lMb7x9leA0lJFgABDqvQ0AYY672l+kPvXBVj7Z80Dr7/WePvrzb0Eb38F/C2N8Y23vwKUlioCBBhSpacJMNR5T/OD3L8uwNo/ax54/bXG219v7iV4+yvgb2mMb7z9FaC0VBEgwJAqPU2Aoc57mh/k/nUB1v5Z88DrrzXe/npzL8HbXwF/S2N84+2vAKWligABhlTpadqJAAIIIIAAAggggAACCCCAQAwFCDDEEJdLI4AAAggggAACCCCAAAIIIJAqAgQYUqWnaScCCCCAAAIIIIAAAggggAACMRQgwBBDXC6NAAIIIIAAAggggAACCCCAQKoIEGBIlZ6mnQgggAACCCCAAAIIIIAAAgjEUIAAQwxxuTQCCCCAAAIIIIAAAggggAACqSJAgCFVepp2IoAAAggggAACCCCAAAIIIBBDAQIMMcTl0ggggAACCCCAAAIIIIAAAgikigABhiTp6ZKSEsvIyEiS1iReM7Zs2WL16tVLvIonSI0Z33XXUWVlZZaWllZ3FUjykhnbddvBjO/Y+TO2Y2cbypUZ26EoRX4O4ztyOz6Z/AIEGJKgjzdt2mSDBg2y++67z/bbb78kaFF8N6GoqMiWLFliGzdutBYtWliHDh3iu8IJXjvGt38dyNj2z1olMbb99WZ8++fN2PbPWiUxtv31Znz7601piSdAgCHx+qxCjXWTO+mkk6xZs2b26KOP2vbbb5/gLYrv6sv70ksvtRUrVtjixYutZcuWLqhz0003uWADsxii23+M7+h6Vnc1xrZ/1oHgAvdu/8wZ3/5aM7b99eZ7ib/ejG//vCkpMQUIMCRmv7la6wvT4MGDrWPHjjZ8+PBtBheYvh+dTi4oKLDTTjvNmjdvbqeffrrl5OTYP//5T3vrrbfcLAYFGXr16mWZmZnRKTDFr8L49m8AMLb9s+be7a+1SmN8+2fOfds/a8a2v9bcu/33psTEFSDAkKB9t3nzZrcsQsGFBx98sDy4sGzZMtuwYYOtXbvW/V2XLl1cCwky1L6j3377bRsxYoQ99dRTtuuuu5YHeb799lu76667nPGwYcOsb9++rFmvJTfju5aAYX6csR0mWC1OZ2zXAi/CjzK+I4QL82OM7TDBonA6YzsKiCFegvEdIhSnIeAJEGBIwGGgB9mnn37aRo0aZX/+85/toosucm/NP/jgAxs5cqSbuq/1eE2bNrXjjjvObrnlFoIMUejnF1980QUX9ANdS1KCEyh9//33dt1111n9+vVtzJgx1qZNG4I6EZozviOEq8XHwh3bJA+LDJuxHZlbbT/F+K6tYM2fZ2zXbBSLMxjbsVDd+pqMb3+cKSV5BAgwJGhf/vjjj/bCCy/Y1KlTXXLHRo0a2VVXXWWnnnqq9e7d2+UDeO655+zzzz+3Cy64wIYMGZKgLY2faiuwcM0119i4cePcUojKs0K++OIL9++awaB8GByRCzC+I7eL5JOM7UjUIvsMYzsyt9p8ivFdG73QP8vYDt0qWmcytqMlWfN1GN81G3EGAgEBAgwJNhaC3xwuWLDARo8ebdOmTbPs7Gy7+OKL7eyzz7aGDRu6Vmkmw6233up+Hz9+vLVt2zbBWlv31Q0OIvzyyy92xRVXuBwMWpbSvn37CkEGTZ9Tf0yYMMHGjh1rXbt2rfsGJFgNgsf3woUL7cknn2R8x6gPZa2kpPol6yuvvJKxHSNrXba0tNTS09NdCYztGEJXcWnu3f55y/qJJ57gvh1Dcn0v0aF7N2M7htD/f2m+l8TemBKST4AAQ4L0aeBhIDc31yUXDBwKMrz00ksu54KSDCong47i4mK3bCIQ3dZDb8+ePROktfFbTX1x0hKIU045xe0m0apVKxdk0K+0tDT74Ycf7IQTTnDnHHjggfHbkASpGeM7dh1VeZkDYzt21rpyZe/58+fbyy+/zL07tuzlV1ewUksLuXfHHpz7dmyNK99LGNv+ejO+Y+vN1ZNDgABDAvSj3owrueDcuXPtt99+s/POO889xOrhVoe+qCpL9u677+7+HPzW/dlnn7Xnn3/e/v73v5efnwBNrtMqyvLNN990Mz+UU+Hggw+2nXfe2f23juuvv969nTnzzDPt/PPPt3bt2pXX99///rdbjqL8GHvuuWedtiNRCq/Ke5dddrGsrCzXhJ9++skFzBjfte9R3Ut0P1i0aJF74D3mmGOca2B7W8Z27Y2Dr1CV9x577GGtW7dmbEeX2l1NuYdWrlzpdvUJHMEPYzfeeKO7t3Pvrj1+VdbBV+V7Se2Ng6+gn5Pvvfee+3lYUlLi8mt169at/BTGtr/ejO/oenO15BMgwBDnfaotn7Q1omYt6EE2Ly/PPvroI7v//vtdkKHyETwNd82aNXbHHXe44INyAjRu3DjOW1v31ZP3GWecYXow0K+NGze6Sunvjj32WNtrr73cn/Ug9s4779i+++5rV199tXtI0xdbLZGYOXOmvfLKK9ayZcu6b1Cc16A6b23BWnnWDeM78g6V9cknn+yWU2VkZLiHMc240UwbjW8F0nQoWam2X2VsR26tT1bn/ac//ckOOuigCgUwtmvnrZ+NyjfUpEkTl9i4c+fO5RcMtlUAWDP7GN+Re1dnXdVVGduRWwfuJRrbuqdolzD5K8igmZL77bdf+cUZ27VzDnxazqF4B85nfEfHnasklwABhjjuT721VeJGBQjuvvtut+ZfP1SUa0Fr75TkMfgILIvQ3/36669uOui7777r8i/ojTBH9QJ64NIPFa2TVgBBbweUuFHLS/Tm4IADDrBzzz3X+vfv7y70yCOPuC+qv//+uwv+6I37+vXrTbNGdtttN7hrEAjF+8ILLyz/AhX8Q5zxHd7wkp3ecC1dutTNhtJ41b1EM5sUrFR+lksuucQU1GFsh2e7rQeqmryVz0UzSHSoLxT04d4dmb3uJfpZ+fHHH1uDBg3s0EMPdTlFdtppp/ILBt8/FHD/xz/+wb07Au5QrIMvGzyDhPt2+OD5+fmmgKR2rtLLDH23+Oqrr1weKH03fO2119wLKC3R1MHYDt84+BOheGuHtsDB+K6dN59OXgECDHHct0oEpnX+l112WYXZCno7ox8oeuOooIK2RAwOIOgHzJw5c2zevHn217/+tcI0ujhubp1X7eeff3Zbfiox5hFHHOGCOPrhIcu77rrLlEG4X79+dvnll5e/Wdcb4ID1Djvs4N4GB/Jg1HmD4rwCoXrrwaFHjx7lrWF8h9+xeiOjaeF68JKnjsAXow8//NAFMJUcVrMXdI4Oxnb4zoFPhOqtIETwTAbGdvjmWhL46quvul2TzjnnHBdEU16igQMHVhtkYHzH1rry1Rnb4XvrHq0XGd9884395S9/sS5dupQHErRltmYwTJ482QXSgoOUjO3wrQM/E0P1ZnxHZsynUkeAAEMc97WWQijA8NBDD7np+Tr0xfX44493P0wUvdYb81133dXtbnDkkUe6cx577DFbsmSJ+2zwG5w4bmpcVE0PWgrmTJkyxQVl9KYmkAdAQZ033njD1VOzHG644Ya4qHMiVyJc78ADMeM7/F5ft26d28L2kEMOcdPHg7OQ62rqCz3sKj/AnXfeSZAsfOIKnwjH+5577inP48LYjgz+gQcesC+//NLNNtM9W39+8cUXtwoyVB73kZWW2p8Kx1pB+sChAIOCP3wvCX38aJmr7svKkaOXHJrlFAgk6MWGlrY9/vjjNmDAgArJpkMvgTODBcL1ZnwzfhDYtgABhjgeHVprd+KJJ7rkjFo73aJFCzctTrkU9EOne/fu7kvV0KFDbccdd3Rb+mkLRR2a5hXYrjKOmxhXVdNSh0GDBrnZIspdoaOwsNAld9SXI+3goeP11193U8s7deoUV/VPtMrUxpvxHX5vKzns8uXL3UOY1qlryrim1Qa+JCmApuBDIKBZOVN5+CWm9ifC9Q5oMbYjGzcKvgfnGdLPSi0jrGkmQ2SlpfanwrEOXrrJ2A5v3Mh5+vTpLjCs73/BCbyV7FHfVTSToXI+l/BK4eyAQCTewT8nGd+MJQT+J0CAIc5GQ+BmpSi1vvh/8skn7gv/6tWrXdIqJRLUtDhNlQsc2ursvvvuc9mxNZuBI3SBgLd+V0JHvU1U8kbtDnHttde6aeTaZ/qkk05yU8uVf0FTzbVuPTCVPPTSOLO23sFfsNAMTSBgPmvWLLcESONW9xQdgSBDYJvVs846y70B1pdWbXMb/IYmtNI4K1JvBXsCeRhQDF0gOLeC7DWWlUdHx/Dhw92uKcp1ofXrWsamnZi+/fZb22effSrsABR6ial7ZqTWSo7M0sHIxo1mqiqvSOWAr8axxrWm9B9++OHu4kpM/f3337uXT0rmyxG+QCTeyotBEvXwrflEcgsQYIiT/lVAQdFPBRK0rKHyD3JlDR43bpxLYqX1pXqrHnjY0hco/dIbyMDWlXHSrLitxra8tXZRD1+fffaZ2+pMO0HoB7ZyMowcOdK1Z++997abbrrJTj/99LhtX7xVDG//ekRLe1atWuV+aXtVBQz0a+3ate4+oSSkGrvDhg1zlQr+4qrpy/qCpenlHKEJ4B2aU7TOquytn4UKhgX/zAz+7+CZDAoU6+eothOeOnUqPy9r6BSsozVqQ7vOtu4lweM5cKUVK1a4ZbF6uaRAg96+axmFviMq+bSSQnJUL4A3IwSB2AkQYIidbchX1g8GTU1W0rvFixe7BIJK4KjMwYqKBh4ANG1/7ty5NmnSpPJra62vfqho+v6oUaOIooagXpW31jD+8Y9/dMkzlVxTX0Dff/999xZAb1/0ZlcBnc8//9wtSZF15S0UQyg6JU/B279ul7WSkGr5idY7a3eIvn37upwhWj6lv9fsBC3z0T7qunfoAU2HlmRpmzN9RvcavQVmBkP1fYe3f2NbJdXkHTzDKfihTDMZNNNPb4J1KEgfnDjW31YkRmlY+9tP4XirZoEZDHohohcgSgI5bdo0N7aVS4ejdvfuyrMl8WZEIRCeAAGG8LyiframtOmtira90YOAvgDpy79uZn369HEJGwNb4uiHh7ZPVD4GJXWcP3++22rrgw8+sFdeecW9reSoXqA67969e7tcC4E8FvoBozfvejumQ8EcJbjS2ke9BdbsBg6842UMaOaBEjlqFpPW5moGztixY91sHOVj0Y4yXbt2dUFMZd3XL82WOvroo11g8uuvv3ZLsv72t79VWIIVL+2Lt3rg7W+PVOfdqFEjty2zdlMKfjAI/LeSISugpmvo/xMsJay+77CO/7GtpZuauaAZDPpOou3I9UvLIziiP77xZlQhEJ4AAYbwvKJ+ttbPaUqbfg/s+KA3icoBoKn5+sKkNy+a7qY3knr7qF0OlDhJD7itW7d2P2C06wFHzQKheOsNgIIMwVPHFciZMWOGvffee+4LKt41W+sMvENzisZZmharN7WjR492gQTNPtB9QoFJ/Z2CawqMaewqW7ZmQykxrGY1aO2/kpZqi1bGdmi9gXdoTtE6qyZvLTHUVpUKHgTPXtD4VmBYwTPN/iO4UHOPYF2zUTTPCMc7sIuEEvYqaKZ7t5bQ6iUTs3JC6xW8Q3PiLARqI0CAoTZ6UfistkXUOjB9MdIR2BpRuQDOPfdcN225V69eLrCgzO9aV603kJrCr0i1AhAKMnCEJhCKt2YyyDs4aY++oMr83nvv5QtqaNTuLLzDwKrlqc8884wLIMycObPCvUSBMm15q7XoejOpGVLBs2+0pa1m6egtMImqQu8EvEO3isaZoXhr1x+N7+CM+wrga0mb7t283Q2tJ7AOzSlaZ4XrrXIVONMOKTomTpzI95IwOgPvMLA4FYEIBQgwRAhX24/pS7/eLiqpmoIKmr6sAELgmDdvnl1wwQVuqrIyXt92221uKQVHZALhet9+++1ui9DgN2FaIkHipND88Q7NKZpnaXaNMuXrXqLdTnQE79qhpHba/URLsRRsYJeI2unjXTu/cD8drrcSmwYOJTgNLH0Lt9xUPB9rf3s9Em/lbFDC0qOOOsptU84RugDeoVtxJgKRChBgiFQuSp/TPt36sn/33Xfb4MGDyxOuaT20ggoPP/yw2y5Ryyf0Vp2jdgKReFfeHqp2NUitT+PtX39/9913Lih5wAEHuKSO7dq1qxBk0NRaJQLTG93Jkycz86mWXYN3LQHD/Hgk3ty7w0T+/9Oxjswt0k9F4q2yAsslIi03VT+Hd6r2PO32U4AAg4/awXt0B7746M2KAgmffvqpWxKh/XR1KIu79qtX8EHTnpUDQLkBgmc5+Fj1hCwKb3+7DW//vDX7STlZtFxK08ED9w1N/dR2qkoCe+aZZ5bPuNH5mrGg5LHKOK5gpXaq4QhNAO/QnKJ1Ft7Rkqz5OljXbBTNM/COpmbN18K7ZiPOQCAWAgQYYqFaxTWVhEfTkw855BA76KCD3BZwgUO7QSh4oARU+nsl7VEWeG1dqWmeSrymLMFaZ5eWluZTjRO7GLz97T+8/fOWtXaT0X1D63CVN0H3FSV41DFs2DB3r1D+C+0406ZNG/f3CgApP4NmNygQEQhK+FfzxCwJb3/7DW//vLH2z1ol4Y23vwKUhkDdCRBg8MFeidXOPvts+89//mM9e/Z0Sx60BWVwkEHV0L9rWy392muvvVzN9AChfADK7H7jjTcSYAihv/AOASmKp+AdRcwaLqUvqNqKsm3bti7Bl3K0PP/88y6J41VXXeWWSGhWlLa31XaTyjKuYKXyLmjGg7by+9e//uV2QmGb1Zr7De+ajaJ5Bt7R1Kz+Wlj7Zx0ILnDv9s+c8e2fNSUhUJUAAYYYjwslCdSXfW0Vd9hhh9k777xj2dnZblbCvvvu64IM21onumjRIvem8f3333dbEHXu3DnGtU38y+Ptbx/i7Z+3pnpqOdXKlSvtnnvucTkWNKNJAYXTTz/dBRsCeVqUOPbFF190f1bAUgnuGjZsaEpUqh1rmL1Qc7/hXbNRNM/AO5qa1V8La/+sVRLeePsrQGkI1L0AAYYY94H2m1duhaZNm7pgwYIFC9z6aE1rDg4y6CFA+9YHjhkzZtgbb7xhs2bNsjFjxrA3fYj9hHeIUFE6De8oQYZwGe0mc+edd7rdZM444wwXXAhsa3vXXXfZZ599Zq+99pq71wSO2bNnu3vO3LlzXYDywAMPtI4dO4ZQGqfg7e8YwNs/b6z9s1ZJeOPtrwClIVD3AgQYfOgDTUnedddd3Rd/BRK++eYbt4a68kyG4KrooeDLL79028116tTJh1omTxF4+9uXePvjrSUODzzwgN17771bJXt94okn7NVXX3XJYIMDDP7ULDlLwdvffsXbP2+s/bNWSXjj7a8ApSFQ9wIEGHzsg+AthbQNZSDIoGSO2lpOx7Jly1xiR2WG1/TzynkafKxuwheFt79diHfsvfPz891Sh8CyqsDvShKrGVJvvvmmWw6hI3Bu7GuVvCXg7W/f4u2fN9b+WQffj7l3++PO+PbHmVIQ2JYAAYY6HBuBIENguYSyvWuqc2D9tLaV44ieAN7RswzlSniHolS7cwJfVpWjRfkWAgEGJbhSvobc3FyXc4EjOgJ4R8cx1KvgHapU7c/DuvaG4VwB73C0an8u3rU35AoIhCNAgCEcrRicqzXS2lWiUaNGbsmElkYoOdsee+wRg9K4JN7+jgG8/fHWPePJJ5+0t99+2+V30TKKt956y91L9txzT38qkUKl4O1vZ+PtnzfW/lmrJLzx9leA0hDwR4AAgz/O1Zaih4JrrrnGcnJy7OWXXyahY4z7BO8YA1e6PN6x99Z9Q3kYJk6caC+88IJNmTLF5WTo3r177AtPwRLw9rfT8fbPG2v/rFUS3nj7K0BpCPgjQIDBH+dtlrJ48WIbPny4ywA/YcIE23nnneu4RsldPN7+9i/esfUO7D4zfvx4N4Oha9eu9tVXX5n+3KNHj9gWnoJXx9vfTsfbP2+s/bNWSXjj7a8ApSHgrwABBn+9K5SmpHgjRoywcePG2aRJk9ibPsZ9gXeMgStdHm//vDVzYejQoW55hO4n3bp186/wFCwJb387HW//vLH2z1ol4Y23vwKUhoA/AgQY/HHeZim//fab6UFMe9RzxF4A79gbB5eAtz/eixYtcsusHnroIevSpYs/haZwKXj72/l4++eNtX/WKglvvP0VoDQE/BEgwOCPM6UggAACMRUoLCy0+vXrx7QMLv4/Abz9HQ14++eNtX/WKglvvP0VoDQEYi9AgCH2xpSAAAIIIIAAAggggAACCCCAQNILEGBI+i6mgQgggAACCCCAAAIIIIAAAgjEXoAAQ+yNKQEBBBBAAAEEEEAAAQQQQACBpBcgwJD0XUwDEUAAAQQQQAABBBBAAAEEEIi9AAGG2BtTAgIIIIAAAggggAACCCCAAAJJL0CAIem7mAYigAACCCCAAAIIIIAAAgggEHsBAgyxN6YEBBBAAAEEEEAAAQQQQAABBJJegABD0ncxDUQAAQQQQAABBBBAAAEEEEAg9gIEGGJvTAkIIIAAAgjUKLB27Vq7//777YsvvrBVq1bZoYceaqNHj67xc9E84ZBDDrH27dvb2LFjo3nZ8mt17drVTjjhBHvggQdicn0uigACCCCAAAJ1K0CAoW79KR0BBBBAAAEncOONN9r06dPtsssucw/5bdu2tT59+viqQ4DBV24KQwABBBBAIOkECDAkXZfSIAQQQACBRBTo16+f7bHHHvbUU0/VWfWLiopc2VlZWTGpQ2FhoaWlpVlmZmZMrs9FEUAAAQQQQKBuBQgw1K0/pSOAAAIIJJDA5s2brVGjRjGpcbdu3ez4449n+UBMdLkoAggggAACCPghQIDBD2XKQAABBBAIWWDu3Llunf6ll15q11577Vafu/766+2dd96xjz/+2Fq0aGGrV692b/0//PBDW7lypeXk5Nj+++9v11xzjXXo0KH885s2bbJnnnnGPv/8c/vtt98sLy/PLUM48sgj7YorrrCGDRuWnztz5kw7++yzXU6EgoICe/XVV+3XX3+1M844w2677baQ27J06VJ7/PHHbcaMGbZ+/Xpr3bq1y61w5ZVX2nbbbeeuc/PNN9sbb7yx1TVffvll23fffUMq66yzzrIlS5bYuHHjXIBCeRzKysqcw7Bhw5zTpEmT7MUXX7RFixZZq1at3FKMU045pcL1q1oi8fXXXztf9cuGDRtcvXfddVdn1qtXL/d5tU3nvP/++7ZixQpr0KCBtWnTxo455hhXTuDYVg6GyZMnu7ovWLDAzXDo0aOHXXTRRXbQQQdVWT+1afjw4TZr1izXzt69e9vtt99unTp1CsmLkxBAAAEEEEAgNgIEGGLjylURQAABBGohcPLJJ7sH1Y8++sjS09PLr6QH3P79+9uAAQPsscces2XLltnpp59u+fn5dtJJJ9lOO+1ky5cvt/Hjx7vPvP7669auXTv333p4Peecc+yoo45yD6K67r/+9S8XrDjggAPsueeeKy8nEGDYbbfdTMkXTz31VBccaNasmR1++OEhtUx1UztU59NOO826dOli3377rU2ZMsV23nlnmzBhgmVnZ9s333zjAh7KwaAHdpWlQ3Vq2bJlSGUpwDBv3jx3vT/84Q/ul9qrwEjPnj1dnV955RV3bZ2jsn/++Wf37/vss095GZUDDAsXLrQTTzzR1UNt0e9r1qxxdVbwQkEYHXLVw77aqZkYCsr88ssvLijzwgsvlF+/qgDDww8/bE8//bR1797djj32WCsuLjYFHGRy9913VwiCqH4ZGRmmYJECNfqMAiYKTuywww721ltvuQAFBwIIIIAAAgjUjQABhrpxp1QEEEAAgWoEJk6c6N5I6624HioDh97q33vvvfbss8+6QIPeouvBVg+kSowYOH7//XcbNGiQCyZoFoIO5RfQw6ceUIOPUaNGuXJUph7GdQQCDHpbr8SLmgEQ7jFkyBD3wKsZDEcccUT5x59//nl78MEH7fLLL7err7662ofvUMtUgEHBEs3uuPjii8s/JiuZbb/99jZt2jRr0qSJ+zfN+jj44INd4EEP+IGjcoAh4B1sU7lOubm5LjCi2R2aWVDdUTnAoCDE0UcfbbvvvrsLgNSvX999XEGZ4447zjZu3OhmqgTqrfpppsbIkSNdMCJwjBkzxv2dgkTKZcGBAAIIIIAAAnUjQIChbtwpFQEEEECgGgHlOlAAQbsoBCc9HDx4sOmBVlPxtcRB/64HUb39r3zoYVtv9T/99NOt/q2kpMR9vrS01ObPn296QFdAQ7/rCAQY9IY+nCURgYI0bV8P3Zo9MXXq1ArlK9Chh2DNiAj+t9ps4ah6K9Aye/bs8od0Ffruu++65RhVLTeRpYItCs4EjsoBBs22uOmmm9znFRAJBACCG6T2qK2alaFZJcHLUirDV26jaFmYUwAAAD5JREFUAkUjRoxwn9NSleAj8G+PPvqoCxTpUP00w0FLToKPOXPmuBksQ4cOtTPPPJP/byGAAAIIIIBAHQn8H6Df6u3udGMRAAAAAElFTkSuQmCC\" width=\"960.6666666666667\">"
      ],
      "text/plain": [
       "<IPython.core.display.HTML object>"
      ]
     },
     "metadata": {},
     "output_type": "display_data"
    },
    {
     "data": {
      "text/plain": [
       "<seaborn.axisgrid.FacetGrid at 0x7fd80cb30190>"
      ]
     },
     "execution_count": 130,
     "metadata": {},
     "output_type": "execute_result"
    }
   ],
   "source": [
    "%matplotlib notebook\n",
    "# \"|\" here means \"or\", but works on whole dataframes\n",
    "rows = (astronauts['in_orbit'] == 'Mir') | (astronauts['in_orbit'] == 'ISS')\n",
    "columns = ['year_of_mission', 'ascend_shuttle', 'in_orbit', 'hours_mission']\n",
    "station_trips = astronauts.loc[rows, columns]\n",
    "\n",
    "# Group labels together\n",
    "station_trips.loc[station_trips['ascend_shuttle'].str.contains('soyuz', case=False), 'ascend_shuttle'] = 'Soyuz'\n",
    "station_trips.loc[station_trips['ascend_shuttle'].str.contains('sts', case=False), 'ascend_shuttle'] = 'Space Shuttle'\n",
    "\n",
    "ax = sns.relplot(data=station_trips,\n",
    "                 x='year_of_mission',\n",
    "                 y='hours_mission',\n",
    "                 hue='ascend_shuttle',\n",
    "                 style='in_orbit',\n",
    "                 height=4,\n",
    "                 aspect=2)\n",
    "\n",
    "ax.set_xticklabels(rotation=45,\n",
    "                   verticalalignment='top',\n",
    "                   horizontalalignment='right')"
   ]
  },
  {
   "cell_type": "markdown",
   "metadata": {
    "slideshow": {
     "slide_type": "subslide"
    }
   },
   "source": [
    "# 🚩🚩🚩 Example 6\n",
    "\n",
    "- Change the code above to display the sex of the astronauts in 2 different colours, instead of the ascend shuttle.\n",
    "- Change `'hours_mission'` to `'age'` above to plot the age of astronauts going to Mir or the ISS over the years.\n",
    "- What is the average duration of a mission to Mir? to the ISS?\n",
    "- How long was the longest mission, in **days**? Who was the astronaut?\n",
    "- Which countries have sent civilians to space?\n",
    "- How many astronauts were from the USSR?"
   ]
  },
  {
   "cell_type": "code",
   "execution_count": null,
   "metadata": {
    "slideshow": {
     "slide_type": "subslide"
    }
   },
   "outputs": [],
   "source": [
    "# Average duration of a mission to Mir and to the ISS\n",
    "print(station_trips.loc[station_trips['in_orbit'] == 'Mir', 'hours_mission'].mean())\n",
    "print(station_trips.loc[station_trips['in_orbit'] == 'ISS', 'hours_mission'].mean())"
   ]
  },
  {
   "cell_type": "code",
   "execution_count": null,
   "metadata": {},
   "outputs": [],
   "source": [
    "# Longest mission, in days, and astronaut name\n",
    "max_hours = station_trips['hours_mission'].max()\n",
    "print(max_hours / 24)\n",
    "\n",
    "# Display the name of the astronaut, nationality, and year of mission\n",
    "astronauts.loc[astronauts['hours_mission'] == max_hours, ['name', 'nationality', 'year_of_mission']]"
   ]
  },
  {
   "cell_type": "code",
   "execution_count": null,
   "metadata": {
    "scrolled": true
   },
   "outputs": [],
   "source": [
    "# 26 countries have sent civilians to space\n",
    "print(astronauts.loc[astronauts['military_civilian'] == 'civilian', 'nationality'].unique())\n",
    "print(astronauts.loc[astronauts['military_civilian'] == 'civilian', 'nationality'].nunique())"
   ]
  },
  {
   "cell_type": "code",
   "execution_count": null,
   "metadata": {},
   "outputs": [],
   "source": [
    "# Count unique astronauts from the USSR (Russia + Ukraine)\n",
    "astronauts.loc[astronauts['nationality'].str.startswith('U.S.S.R'), 'name'].nunique()"
   ]
  },
  {
   "cell_type": "markdown",
   "metadata": {
    "slideshow": {
     "slide_type": "slide"
    }
   },
   "source": [
    "## What's next?\n",
    "\n",
    "Install Python to run code on your computer:\n",
    "- If you're interested in doing data science or scientific computing, install [Anaconda](https://www.anaconda.com/products/individual). This will install Python, Jupyter (what we've used today), Spyder (an IDE), together with lots of useful libraries, like pandas, seaborn, and many others. Installing new packages after that is also straightforward with `conda`.\n",
    "- If you just want Python (e.g. for scripting), you can also [install it directly](https://www.python.org/downloads/). Installing new packages can then be done e.g. with `pip`.\n",
    "\n",
    "The current stable version of Python is 3.10 (released a few weeks ago). Version 3.8 will also be fully supported until 2024.\n"
   ]
  },
  {
   "cell_type": "markdown",
   "metadata": {
    "slideshow": {
     "slide_type": "subslide"
    }
   },
   "source": [
    "## What's next?\n",
    "\n",
    "Learn more about Python:\n",
    "- The official [Python documentation](https://docs.python.org/3/) includes a comprehensive [tutorial](https://docs.python.org/3/tutorial/index.html) for beginners.\n",
    "- Two excellent free online books by Jake VanderPlas:\n",
    "    - [A Whirlwind Tour of Python](https://jakevdp.github.io/WhirlwindTourOfPython/)\n",
    "    - [The Python Data Science Handbook](https://jakevdp.github.io/PythonDataScienceHandbook/)\n",
    "- [Software Carpentry](https://software-carpentry.org/) is a non-profit which run regular workshops to teach Python (and other things!), for different levels of experience. All their teaching materials are open-source and [freely available online](https://software-carpentry.org/lessons/), they're great to follow along for self-teaching. The [Edinburgh branch](https://edcarp.github.io/) is also quite active and holds regular workshops."
   ]
  },
  {
   "cell_type": "markdown",
   "metadata": {
    "slideshow": {
     "slide_type": "subslide"
    }
   },
   "source": [
    "## What's next?\n",
    "\n",
    "Learn more about Python for data science and scientific computing:\n",
    "\n",
    "- The pandas documentation has excellent [Getting Started tutorials](https://pandas.pydata.org/docs/getting_started/intro_tutorials/) and [user guides](https://pandas.pydata.org/docs/user_guide/index.html). In particular, I'd recommend the tutorial [\"10 minutes to Pandas\"](https://pandas.pydata.org/docs/user_guide/10min.html).\n",
    "- The seaborn documentation also has great [tutorials](https://seaborn.pydata.org/tutorial.html) and a [showcase gallery](https://seaborn.pydata.org/examples/index.html).\n",
    "- [scikit-learn](https://scikit-learn.org/stable/) is a fantastic library for machine learning, it comes with lots of tools and algorithms for preprocessing, classification, regression, etc. [TensorFlow](https://www.tensorflow.org/overview) is also widely used. [PyTorch](https://pytorch.org/tutorials/beginner/deep_learning_60min_blitz.html) is great for deep learning as it can take advantage of parallel architectures.\n",
    "- For less data-oriented scientific computing, libraries like [NumPy](https://numpy.org/learn/) and [SciPy](https://scipy.github.io/devdocs/index.html) (also with a great [tutorial page](https://scipy.github.io/devdocs/tutorial/index.html)) are widely used, together with [matplotlib](https://matplotlib.org/stable/tutorials/index.html) for plotting.\n"
   ]
  },
  {
   "cell_type": "markdown",
   "metadata": {
    "slideshow": {
     "slide_type": "slide"
    }
   },
   "source": [
    "# Thank you!"
   ]
  }
 ],
 "metadata": {
  "celltoolbar": "Slideshow",
  "kernelspec": {
   "display_name": "Python 3 (ipykernel)",
   "language": "python",
   "name": "python3"
  },
  "language_info": {
   "codemirror_mode": {
    "name": "ipython",
    "version": 3
   },
   "file_extension": ".py",
   "mimetype": "text/x-python",
   "name": "python",
   "nbconvert_exporter": "python",
   "pygments_lexer": "ipython3",
   "version": "3.9.12"
  }
 },
 "nbformat": 4,
 "nbformat_minor": 4
}
